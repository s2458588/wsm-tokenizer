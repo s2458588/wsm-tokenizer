{
 "cells": [
  {
   "cell_type": "markdown",
   "source": [
    "# from itertools import product / pairwise / grouped\n",
    "# min/max(str1, str2)\n",
    "\n",
    "ein target zur prüfung wählen, den rest des dicts (sample) als gegenprüfung iterieren\n",
    "\n",
    "kürzeres(target, test) über längeres(target, test) mappen\n",
    "-> in welcher position sind die meisten übereinstimmungen?\n",
    "besitzen\n",
    "besitzt\n",
    "11111100\n",
    "\n",
    "viele übereinstimmende positionen (vergleich mit vorigen itersteps?) -> der rest ist morphem\n",
    "\n",
    "maps mit der größten summe = matching lexeme, oder gültige affixe wenn am wortrand"
   ],
   "metadata": {
    "collapsed": false,
    "pycharm": {
     "name": "#%% md\n"
    }
   }
  },
  {
   "cell_type": "code",
   "execution_count": 24,
   "outputs": [
    {
     "name": "stdout",
     "output_type": "stream",
     "text": [
      "1 5010\n",
      "2 27261\n",
      "3 30123\n",
      "4 14810\n",
      "5 4455\n",
      "6 1005\n",
      "7 193\n",
      "8 32\n"
     ]
    }
   ],
   "source": [
    "from src import text_utilities as tu\n",
    "wordset = tu.from_path('./data/experiment/verbs')\n",
    "verb_dict = tu.count_syllables(wordset)\n",
    "verb_dict.keys()\n",
    "for i in range(1,9): # von mächtigster menge absteigend morpheme analysieren\n",
    "    print(i, len(verb_dict[i]))"
   ],
   "metadata": {
    "collapsed": false,
    "pycharm": {
     "name": "#%%\n"
    }
   }
  },
  {
   "cell_type": "markdown",
   "source": [
    "Tokenizer-Vokabular anhand des Token-Vokabulars erstellen:"
   ],
   "metadata": {
    "collapsed": false,
    "pycharm": {
     "name": "#%% md\n"
    }
   }
  },
  {
   "cell_type": "code",
   "execution_count": 33,
   "outputs": [
    {
     "name": "stdout",
     "output_type": "stream",
     "text": [
      "1978 2909 1630\n"
     ]
    }
   ],
   "source": [
    "\"\"\"mapping 1010101 comparing words left and right\"\"\"\n",
    "# durch key\n",
    "maps = []\n",
    "target = \"verstehen\"\n",
    "l = len(target)\n",
    "cnt = 0\n",
    "cc1=0\n",
    "cc2=0\n",
    "cc3=0\n",
    "for v in verb_dict[3]:\n",
    "    pair = (v, target)\n",
    "    case = tu.match_ends(v, target)\n",
    "    smaller = min(pair, key=len)\n",
    "    longer = max(pair, key=len)\n",
    "    diff = len(longer) - len(smaller)\n",
    "\n",
    "\n",
    "    if case.get(\"any\"):\n",
    "        cnt+=1\n",
    "        if diff:\n",
    "\n",
    "            if case.get(\"first\"):\n",
    "                cc1+=1\n",
    "                m = []\n",
    "                for i in range(len(smaller)):\n",
    "                    m.append(1 if smaller[i] == longer[i] else 0)\n",
    "                while len(m) < l:\n",
    "                    m.append(0)\n",
    "                maps.append(m)\n",
    "                m = []\n",
    "\n",
    "            if case.get(\"last\"):\n",
    "                cc2+=1\n",
    "                for i in range(len(smaller)):\n",
    "                    m.append(1 if smaller[i] == longer[i+diff] else 0)\n",
    "                while len(m) < l:\n",
    "                    m.insert(0, 0)\n",
    "                maps.append(m)\n",
    "                m = []\n",
    "\n",
    "        else:\n",
    "            cc3+=1\n",
    "            m = []\n",
    "            for i in range(l):\n",
    "                    m.append(1 if pair[0][i] == pair[1][i] else 0)\n",
    "            maps.append(m)\n",
    "            m = []\n",
    "print(cc1, cc2, cc3)"
   ],
   "metadata": {
    "collapsed": false,
    "pycharm": {
     "name": "#%%\n"
    }
   }
  },
  {
   "cell_type": "code",
   "execution_count": 33,
   "outputs": [],
   "source": [],
   "metadata": {
    "collapsed": false,
    "pycharm": {
     "name": "#%%\n"
    }
   }
  },
  {
   "cell_type": "code",
   "execution_count": 34,
   "outputs": [
    {
     "data": {
      "text/plain": "[2771, 3064, 2892, 868, 692, 1179, 447, 1937, 3878]"
     },
     "execution_count": 34,
     "metadata": {},
     "output_type": "execute_result"
    }
   ],
   "source": [
    "# Summe aller gleichlangen maps untereinander, bildet nur Tendenz ab\n",
    "#itertools recipes\n",
    "new_maps = [x for x in maps if len(x)==len(target)]\n",
    "[sum(x) for x in zip(*new_maps)]"
   ],
   "metadata": {
    "collapsed": false,
    "pycharm": {
     "name": "#%%\n"
    }
   }
  },
  {
   "cell_type": "code",
   "execution_count": 35,
   "outputs": [
    {
     "name": "stdout",
     "output_type": "stream",
     "text": [
      "['000000011000000001', '000000001', '000110001', '111100010', '111000010', '111100000', '000000001', '111000000', '111100000', '000000011'] 6517\n"
     ]
    }
   ],
   "source": [
    "# konvertiere map in string, nur vorübergehend?\n",
    "str_maps = []\n",
    "for m in maps:\n",
    "    mstr = \"\"\n",
    "    for i in m:\n",
    "        mstr += str(i)\n",
    "    str_maps.append(mstr)\n",
    "print(str_maps[:10], len(str_maps))"
   ],
   "metadata": {
    "collapsed": false,
    "pycharm": {
     "name": "#%%\n"
    }
   }
  },
  {
   "cell_type": "code",
   "execution_count": 31,
   "outputs": [
    {
     "data": {
      "text/plain": "[('000000001', 1317),\n ('111000000', 1136),\n ('000000011', 370),\n ('111100000', 277),\n ('000010001', 239),\n ('000110001', 192),\n ('111001000', 111),\n ('001000001', 89),\n ('101000000', 80),\n ('010000001', 66),\n ('111110000', 61),\n ('000000101', 56),\n ('100000000', 54),\n ('010010001', 52),\n ('111000100', 50),\n ('000100001', 47),\n ('000001011', 41),\n ('111100010', 39),\n ('000010101', 34),\n ('010110001', 30)]"
     },
     "execution_count": 31,
     "metadata": {},
     "output_type": "execute_result"
    }
   ],
   "source": [
    "# finde meist vorkommende patterns\n",
    "# evtl längere matches gewichten?\n",
    "import collections as cl\n",
    "n_maps = cl.Counter(str_maps).most_common(20)\n",
    "n_maps"
   ],
   "metadata": {
    "collapsed": false,
    "pycharm": {
     "name": "#%%\n"
    }
   }
  },
  {
   "cell_type": "code",
   "execution_count": 32,
   "outputs": [
    {
     "data": {
      "text/plain": "[['000000001', 1317],\n ['111000000', 1136],\n ['000000011', 370],\n ['111100000', 277],\n ['000000001', 239],\n ['000000001', 192],\n ['111000000', 111],\n ['000000001', 89],\n ['100000000', 80],\n ['000000001', 66],\n ['111110000', 61],\n ['000000001', 56],\n ['100000000', 54],\n ['000000001', 52],\n ['111000000', 50],\n ['000000001', 47],\n ['000000011', 41],\n ['111100000', 39],\n ['000000101', 34],\n ['000110001', 30]]"
     },
     "execution_count": 32,
     "metadata": {},
     "output_type": "execute_result"
    }
   ],
   "source": [
    "# neue maps ignorieren unterschiede im wortinneren\n",
    "import regex as re\n",
    "recount_map = []\n",
    "for cnt in n_maps:\n",
    "    sr = re.sub(pattern='(01+0)', repl=lambda m: len(m.group(1))*\"0\",string=cnt[0])\n",
    "    recount_map.append([sr, cnt[1]])\n",
    "\n",
    "recount_map"
   ],
   "metadata": {
    "collapsed": false,
    "pycharm": {
     "name": "#%%\n"
    }
   }
  },
  {
   "cell_type": "markdown",
   "source": [
    "der länge nach sortieren, siehe screenshots\n",
    "str.partition() verstecken ver stecken\n",
    "rpartition() -> verstecken versteck en\n",
    "\n",
    "def predicate(shorter: str, longer: str) -> bool:\n",
    "pass\n",
    "\n",
    "#´´´\n",
    "python\n",
    "def predicate(shorter: str, longer: str) -> bool:\n",
    "    pass\n",
    "\n",
    "\n",
    "def reduce(ll: list[tuple[str, int]]):\n",
    "    i = 0\n",
    "    init_len = len(ll)\n",
    "    # sort list by length ascending\n",
    "    new_list = []\n",
    "        while len(ll) > 0:\n",
    "            shortest, count = ll.pop(0)\n",
    "            longest = shortest\n",
    "            curr_len = len(ll)\n",
    "            j = 0\n",
    "            while j < curr_len:\n",
    "                other, other_count = ll[j]\n",
    "                if predicate(shortest, other):\n",
    "                ll.pop(j)\n",
    "                longest = other\n",
    "                count += other_count\n",
    "                curr_len = len(ll)\n",
    "                else:\n",
    "                j+=1\n",
    "                new_list.append((longest, count))\n",
    "\n",
    "    return new_list\n",
    "#´´´"
   ],
   "metadata": {
    "collapsed": false,
    "pycharm": {
     "name": "#%% md\n"
    }
   }
  },
  {
   "cell_type": "code",
   "execution_count": 40,
   "outputs": [],
   "source": [
    "def predicate(shorter: str, longer: str) -> bool:\n",
    "    mc = shorter[0]\n",
    "    nc = longer[0]\n",
    "    long = max(mc, nc, key=len)\n",
    "    short = min(mc, nc, key=len)\n",
    "    if nc.count('1') == mc.count('1') and short in long:\n",
    "        # short & long behalten\n",
    "        # m, n entfernen\n",
    "        # return [long, sum([m[1], n[1]])]\n",
    "        return True\n",
    "    else:\n",
    "        return False\n",
    "\n",
    "def index_first(map: tuple) -> str:\n",
    "    \"\"\"Helper function for sorted() to index the first element of a tuple in maps.\"\"\"\n",
    "    return map[0]\n",
    "\n",
    "def reduce(ll: list):\n",
    "    i = 0\n",
    "    # init_len = len(ll)\n",
    "    # sort list by length ascending\n",
    "    new_list = []\n",
    "    while len(ll) > 0:\n",
    "        shortest, count = ll.pop(0)\n",
    "        longest = shortest\n",
    "        curr_len = len(ll)\n",
    "        j = 0\n",
    "        while j < curr_len:\n",
    "            other, other_count = ll[j]\n",
    "            if predicate(shortest, other):\n",
    "                ll.pop(j)\n",
    "                longest = other\n",
    "                count += other_count\n",
    "                curr_len = len(ll)\n",
    "            else:\n",
    "                j+=1\n",
    "                new_list.append((longest, count))\n",
    "\n",
    "    return new_list"
   ],
   "metadata": {
    "collapsed": false,
    "pycharm": {
     "name": "#%%\n"
    }
   }
  },
  {
   "cell_type": "code",
   "execution_count": 45,
   "outputs": [],
   "source": [
    "\n",
    "sorted_maps = sorted(recount_map, key=lambda t: t[0])\n",
    "sorted_maps"
   ],
   "metadata": {
    "collapsed": false,
    "pycharm": {
     "name": "#%%\n"
    }
   }
  },
  {
   "cell_type": "code",
   "execution_count": 42,
   "outputs": [],
   "source": [
    "def combine_counts(m: list, n: list):\n",
    "    \"\"\"Compares two maps e.g.['1100000', 46] vs. ['1000000', 29]. Sums count if (m in n) or vice versa and has equal number of 1s. Map must be str(int), count must be int.\"\"\"\n",
    "    mc = m[0]\n",
    "    nc = n[0]\n",
    "    long = max(mc, nc, key=len)\n",
    "    short = min(mc, nc, key=len)\n",
    "    if nc.count('1') == mc.count('1') and short in long:\n",
    "        # short & long behalten\n",
    "        # m, n entfernen\n",
    "        return [long, sum([m[1], n[1]])]\n",
    "    else:\n",
    "        return None"
   ],
   "metadata": {
    "collapsed": false,
    "pycharm": {
     "name": "#%%\n"
    }
   }
  },
  {
   "cell_type": "code",
   "execution_count": 43,
   "outputs": [
    {
     "ename": "TypeError",
     "evalue": "unhashable type: 'list'",
     "output_type": "error",
     "traceback": [
      "\u001B[0;31m---------------------------------------------------------------------------\u001B[0m",
      "\u001B[0;31mTypeError\u001B[0m                                 Traceback (most recent call last)",
      "\u001B[0;32m/tmp/ipykernel_2056451/2095191625.py\u001B[0m in \u001B[0;36m<module>\u001B[0;34m\u001B[0m\n\u001B[1;32m      1\u001B[0m \u001B[0;32mimport\u001B[0m \u001B[0mitertools\u001B[0m \u001B[0;32mas\u001B[0m \u001B[0mit\u001B[0m\u001B[0;34m\u001B[0m\u001B[0;34m\u001B[0m\u001B[0m\n\u001B[0;32m----> 2\u001B[0;31m \u001B[0;32mfor\u001B[0m \u001B[0mm\u001B[0m\u001B[0;34m,\u001B[0m \u001B[0mn\u001B[0m \u001B[0;32min\u001B[0m \u001B[0mset\u001B[0m\u001B[0;34m(\u001B[0m\u001B[0mit\u001B[0m\u001B[0;34m.\u001B[0m\u001B[0mcombinations\u001B[0m\u001B[0;34m(\u001B[0m\u001B[0mrecount_map\u001B[0m\u001B[0;34m,\u001B[0m \u001B[0;36m2\u001B[0m\u001B[0;34m)\u001B[0m\u001B[0;34m)\u001B[0m\u001B[0;34m:\u001B[0m\u001B[0;34m\u001B[0m\u001B[0;34m\u001B[0m\u001B[0m\n\u001B[0m\u001B[1;32m      3\u001B[0m     \u001B[0mprint\u001B[0m\u001B[0;34m(\u001B[0m\u001B[0mm\u001B[0m\u001B[0;34m,\u001B[0m \u001B[0mn\u001B[0m\u001B[0;34m)\u001B[0m\u001B[0;34m\u001B[0m\u001B[0;34m\u001B[0m\u001B[0m\n\u001B[1;32m      4\u001B[0m \u001B[0;34m\u001B[0m\u001B[0m\n\u001B[1;32m      5\u001B[0m \u001B[0;31m#def pairwise(iterable):\u001B[0m\u001B[0;34m\u001B[0m\u001B[0;34m\u001B[0m\u001B[0;34m\u001B[0m\u001B[0m\n",
      "\u001B[0;31mTypeError\u001B[0m: unhashable type: 'list'"
     ]
    }
   ],
   "source": [
    "import itertools as it\n",
    "for m, n in set(it.combinations(recount_map, 2)):\n",
    "    print(m, n)\n",
    "\n",
    "#def pairwise(iterable):\n",
    "#    \"s -> (s0, s1), (s2, s3), (s4, s5), ...\"\n",
    "#    a = iter(iterable)\n",
    "#    return zip(a, a)\n",
    "\n",
    "left = [x for x in recount_map if x[0].startswith(\"1\") and x[0].endswith(\"0\")]\n",
    "right = [x for x in recount_map if x[0].startswith(\"0\") and x[0].endswith(\"1\")]\n",
    "circ = [x for x in recount_map if x[0].startswith(\"1\") and x[0].endswith(\"1\")]\n",
    "\n",
    "print(left, right, circ)"
   ],
   "metadata": {
    "collapsed": false,
    "pycharm": {
     "name": "#%%\n"
    }
   }
  },
  {
   "cell_type": "code",
   "execution_count": 44,
   "outputs": [
    {
     "name": "stdout",
     "output_type": "stream",
     "text": [
      "##en\n"
     ]
    }
   ],
   "source": [
    "def map_subword(target: str, map:str) -> str:\n",
    "    \"\"\"Returns a subword from a target string and a map. Yet to implement maps with 1 on both ends.\"\"\"\n",
    "    if map.startswith(\"1\"):\n",
    "        return target[:map.count(\"1\")]+\"##\"\n",
    "    elif map.endswith(\"1\"):\n",
    "        return \"##\"+target[-map.count(\"1\"):]\n",
    "print(map_subword(\"verstehen\", \"000000011\"))"
   ],
   "metadata": {
    "collapsed": false,
    "pycharm": {
     "name": "#%%\n"
    }
   }
  },
  {
   "cell_type": "code",
   "execution_count": null,
   "outputs": [],
   "source": [],
   "metadata": {
    "collapsed": false,
    "pycharm": {
     "name": "#%%\n"
    }
   }
  }
 ],
 "metadata": {
  "kernelspec": {
   "display_name": "Python 3",
   "language": "python",
   "name": "python3"
  },
  "language_info": {
   "codemirror_mode": {
    "name": "ipython",
    "version": 2
   },
   "file_extension": ".py",
   "mimetype": "text/x-python",
   "name": "python",
   "nbconvert_exporter": "python",
   "pygments_lexer": "ipython2",
   "version": "2.7.6"
  }
 },
 "nbformat": 4,
 "nbformat_minor": 0
}