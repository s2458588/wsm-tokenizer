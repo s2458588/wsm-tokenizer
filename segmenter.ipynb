{
 "cells": [
  {
   "cell_type": "markdown",
   "source": [
    "# from itertools import product / pairwise / grouped\n",
    "# min/max(str1, str2)\n",
    "\n",
    "ein target zur prüfung wählen, den rest des dicts (sample) als gegenprüfung iterieren\n",
    "\n",
    "kürzeres(target, test) über längeres(target, test) mappen\n",
    "-> in welcher position sind die meisten übereinstimmungen?\n",
    "besitzen\n",
    "besitzt\n",
    "11111100\n",
    "\n",
    "viele übereinstimmende positionen (vergleich mit vorigen itersteps?) -> der rest ist morphem\n",
    "\n",
    "maps mit der größten summe = matching lexeme, oder gültige affixe wenn am wortrand"
   ],
   "metadata": {
    "collapsed": false
   }
  },
  {
   "cell_type": "code",
   "execution_count": 1,
   "outputs": [
    {
     "name": "stdout",
     "output_type": "stream",
     "text": [
      "1 5010\n",
      "2 27261\n",
      "3 30123\n",
      "4 14810\n",
      "5 4455\n",
      "6 1005\n",
      "7 193\n",
      "8 32\n"
     ]
    }
   ],
   "source": [
    "from src import text_utilities as tu\n",
    "wordset = tu.from_path('./data/experiment/verbs')\n",
    "\n",
    "verb_dict = tu.count_syllables(wordset)\n",
    "verb_dict.keys()\n",
    "for i in range(1,9): # von mächtigster menge absteigend morpheme analysieren\n",
    "    print(i, len(verb_dict[i]))"
   ],
   "metadata": {
    "collapsed": false
   }
  },
  {
   "cell_type": "markdown",
   "source": [
    "Tokenizer-Vokabular anhand des Token-Vokabulars erstellen:"
   ],
   "metadata": {
    "collapsed": false
   }
  },
  {
   "cell_type": "code",
   "execution_count": 23,
   "outputs": [
    {
     "data": {
      "text/plain": "{'repliziert',\n 'flösse ab',\n 'willst herein',\n 'komm rüber',\n 'schaltet an',\n 'steure zu',\n 'schüfe nach',\n 'halte mit',\n 'verschlankte',\n 'krüppelte',\n 'verseifte',\n 'durchschlitter',\n 'sieh zurück',\n 'wiege aus',\n 'schlampampe',\n 'anhinbätz',\n 'lebe aus',\n 'veräppelt',\n 'sondert ab',\n 'gewartet',\n 'geht herum',\n 'spendel an',\n 'berieselst',\n 'nibbelt ab',\n 'säte aus',\n 'umschwärme',\n 'belaufen',\n 'wedelst zu',\n 'raube aus',\n 'alteriert',\n 'heimgeführt',\n 'oxidier',\n 'forderst an',\n 'schalte weg',\n 'beömmelte',\n 'kampierte',\n 'nötige',\n 'verästle',\n 'würgte aus',\n 'trittst über',\n 'wendest um',\n 'klargestellt',\n 'tagträume',\n 'preise aus',\n 'schädig vor',\n 'vorbeidrück',\n 'begabte',\n 'legte auf',\n 'pinselt ein',\n 'bequem an',\n 'mordet hin',\n 'vernommen',\n 'plante ein',\n 'getrottet',\n 'münde ein',\n 'zurücktreib',\n 'befieder',\n 'turtelte',\n 'verschreie',\n 'griffe ab',\n 'bestreifte',\n 'äße mit',\n 'verstätest',\n 'rausgehört',\n 'verwertet',\n 'übernimm',\n 'umhergeirrt',\n 'denkt zurück',\n 'pendel ein',\n 'geschäkert',\n 'kündest an',\n 'besinne',\n 'verunzier',\n 'streunst herum',\n 'bringst voran',\n 'besabbel',\n 'verhetze',\n 'grünte auf',\n 'angehupt',\n 'hudere',\n 'stufte um',\n 'verzahnte',\n 'bekröche',\n 'mitmarschier',\n 'schrei heraus',\n 'umwandte',\n 'irr herum',\n 'inquirier',\n 'verpfiffen',\n 'gepimpert',\n 'schaute um',\n 'verknackste',\n 'ordnet an',\n 'füsiliert',\n 'heraufgeh',\n 'gefinisht',\n 'postiere',\n 'nehme hoch',\n 'entfließe',\n 'löte zu',\n 'hochgescheucht',\n 'schnappte weg',\n 'beschmuhe',\n 'fertige',\n 'zählt dazu',\n 'weggerutscht',\n 'büffelte',\n 'kam herzu',\n 'verbietet',\n 'schriebe zu',\n 'mastete',\n 'täfelte',\n 'erbose',\n 'tuckelte',\n 'bessemerst',\n 'exaltierst',\n 'beholfen',\n 'archivierst',\n 'versenge',\n 'ausruhten',\n 'brummte auf',\n 'präzisier',\n 'nimm heraus',\n 'lässt bleiben',\n 'erstelle',\n 'entschlüsselst',\n 'gehe los',\n 'schlage vor',\n 'balze an',\n 'denk hinaus',\n 'vermöchten',\n 'fährt zurück',\n 'ereignet',\n 'eingekürzt',\n 'trabe weg',\n 'mitregiert',\n 'gefestet',\n 'verlobe',\n 'fasste zu',\n 'prügel durch',\n 'rücke nach',\n 'auskoffer',\n 'bewahren',\n 'entschlummer',\n 'gekrittelt',\n 'sächsele',\n 'dislozierst',\n 'verbummelst',\n 'abgebamst',\n 'gäbe Laut',\n 'derkäme',\n 'aggravier',\n 'verurkund',\n 'verträumte',\n 'errettest',\n 'bette aus',\n 'umgesteckt',\n 'vorbesprech',\n 'verkokelt',\n 'erzählt rum',\n 'erhalten',\n 'ergründet',\n 'erhoffe',\n 'quillt über',\n 'verzanke',\n 'umverpackt',\n 'bosselte',\n 'machst nieder',\n 'bevater',\n 'komm vorbei',\n 'ventiliert',\n 'bezahlen',\n 'denke vor',\n 'vermittelt',\n 'verbaselst',\n 'geht stiften',\n 'vermeine',\n 'wechselst ein',\n 'behexte',\n 'weiterschalt',\n 'überlebt',\n 'hämmerst ein',\n 'sperberte',\n 'schauspielerst',\n 'verrammelt',\n 'beschrieen',\n 'sömmerte',\n 'gewackelt',\n 'abgerahmt',\n 'fülle auf',\n 'resigniert',\n 'heftest ein',\n 'urteil aus',\n 'mache wett',\n 'zwirbelte',\n 'wüchse aus',\n 'behaare',\n 'demolierst',\n 'hospitiert',\n 'abrasier',\n 'gebe kund',\n 'stecht nieder',\n 'rutscht herab',\n 'erdulde',\n 'besteuerst',\n 'kehre ein',\n 'erhebe',\n 'aufgeschweißt',\n 'scheuchte weg',\n 'tischte auf',\n 'wäget ab',\n 'halte her',\n 'rege auf',\n 'schmettert zu',\n 'dränge ein',\n 'echauffier',\n 'kriege hoch',\n 'wanderst aus',\n 'fühle mit',\n 'aufgestützt',\n 'geköchelt',\n 'verflüssigt',\n 'bemautest',\n 'rüstet auf',\n 'divergier',\n 'zerhäcksel',\n 'dirimier',\n 'schwelle ab',\n 'ruckelte',\n 'redest tot',\n 'verspiller',\n 'perturbier',\n 'bewucherst',\n 'kuppelt ein',\n 'erfolter',\n 'rezyklierte',\n 'füttere',\n 'verdunkel',\n 'erhunger',\n 'durchbebte',\n 'sortierte',\n 'stand hervor',\n 'begase',\n 'lass übrig',\n 'sanktioniert',\n 'abgeblasst',\n 'asservier',\n 'schreibt gesund',\n 'dublierte',\n 'verirrte',\n 'implizier',\n 'verhungert',\n 'bereinig',\n 'verklitsche',\n 'kaufte auf',\n 'schaffst hinauf',\n 'gedibbert',\n 'gleiche an',\n 'verkritzel',\n 'entwöhne',\n 'stöckele',\n 'aufgegeilt',\n 'belüftest',\n 'fordere',\n 'melioriert',\n 'vermahlte',\n 'reiste an',\n 'verdaddelt',\n 'spannte ab',\n 'durchsuche',\n 'funkle an',\n 'schlüge los',\n 'stellte an',\n 'schneidest auf',\n 'muckte auf',\n 'lasst herbei',\n 'bekote',\n 'worfele',\n 'wienerte',\n 'erstversorg',\n 'raubte aus',\n 'törggele',\n 'gegenrechn',\n 'schüttere',\n 'geschächtet',\n 'führe weg',\n 'kreuze rück',\n 'vorkochen',\n 'hofiere',\n 'inspiriert',\n 'messe bei',\n 'remonstriert',\n 'in stand setz',\n 'eingemummt',\n 'verkapselt',\n 'anwider',\n 'wandelst ab',\n 'durchdachte',\n 'herumstreun',\n 'mustert aus',\n 'abzwitscher',\n 'verwinkelt',\n 'tobst umher',\n 'bestochert',\n 'vertüdelst',\n 'schärfte ab',\n 'verklatsche',\n 'gezappelt',\n 'verhaftest',\n 'liberier',\n 'entroste',\n 'räuberst aus',\n 'verzagte',\n 'schwimm heran',\n 'besuchen',\n 'schwappt über',\n 'nüchter aus',\n 'drudelte',\n 'aufstöber',\n 'siegelte',\n 'verklammert',\n 'kriechst herein',\n 'erschürfe',\n 'indignierst',\n 'blende rück',\n 'höre auf',\n 'entbaste',\n 'titriere',\n 'gemeimelt',\n 'zugeordnet',\n 'küsse ab',\n 'bewehrte',\n 'gepoldert',\n 'kindert ab',\n 'durchgeschmeckt',\n 'geht umher',\n 'eingeschrien',\n 'backte gar',\n 'halfter an',\n 'niederhau',\n 'dargereicht',\n 'drückst vorbei',\n 'überdehnst',\n 'verdürbe',\n 'zurückzuck',\n 'ritt zurück',\n 'sächselte',\n 'reise aus',\n 'ertüchtig',\n 'verschrumpel',\n 'nachgesprengt',\n 'guillochierst',\n 'übersäe',\n 'gezipfelt',\n 'ausgekotzt',\n 'auflachen',\n 'verschneidest',\n 'stürmte hoch',\n 'umkrempel',\n 'spiele nach',\n 'gymnastiziert',\n 'nachgeordert',\n 'vorgeklappt',\n 'verschwitzte',\n 'geschönigt',\n 'rabattier',\n 'hartgetan',\n 'breche an',\n 'ausgegeizt',\n 'angestrengt',\n 'heranwanz',\n 'pumpe hoch',\n 'rutscht umher',\n 'geschlängelt',\n 'abkupfer',\n 'gehökert',\n 'ärgerst tot',\n 'schliche hoch',\n 'darbe ab',\n 'fand hindurch',\n 'komme weg',\n 'widersprach',\n 'sah nieder',\n 'schlug nieder',\n 'backe ab',\n 'unterlad',\n 'abfeier',\n 'faxe zu',\n 'pütscherte',\n 'zerklüftest',\n 'lässt weiter',\n 'faselte',\n 'löse ein',\n 'aussagen',\n 'recke vor',\n 'herumspuk',\n 'schere fort',\n 'räum heraus',\n 'erschienen',\n 'tastet vor',\n 'sperre zu',\n 'sackelt ein',\n 'dezidierst',\n 'bildet fehl',\n 'vorgeschwebt',\n 'grenzte an',\n 'unterhab',\n 'justier ab',\n 'abgetaucht',\n 'kommst darauf',\n 'bettest ein',\n 'ausgeflippt',\n 'verpimpelst',\n 'hakt unter',\n 'betrampelt',\n 'ließe um',\n 'reagierte',\n 'pirsche vor',\n 'nähte zu',\n 'zerbätze',\n 'bedichtest',\n 'gesamplet',\n 'zernichtest',\n 'pellte ab',\n 'headbangte',\n 'heraushör',\n 'tabuisiert',\n 'streik weiter',\n 'firmierte',\n 'spatiier',\n 'händigt aus',\n 'knipste an',\n 'sublimierst',\n 'weggewischt',\n 'verstriche',\n 'befriedig',\n 'auditier',\n 'hänge vor',\n 'sänge mit',\n 'bekrittelst',\n 'schnitt zurecht',\n 'abduziert',\n 'lachte schief',\n 'überfährt',\n 'angetippt',\n 'kringele',\n 'tanzt weiter',\n 'aufgespürt',\n 'pilgerte',\n 'stelle ein',\n 'reize aus',\n 'eingebrannt',\n 'entmündigt',\n 'zurücksetz',\n 'mustert ab',\n 'korrigiert',\n 'kämpft nieder',\n 'verknüllte',\n 'stiere an',\n 'zugedient',\n 'bedingte',\n 'bekehren',\n 'entschied mit',\n 'beprobte',\n 'parkte um',\n 'prozessiert',\n 'verstoßen',\n 'knöpfte ab',\n 'strolchst umher',\n 'verübte',\n 'beschwerte',\n 'vorausschau',\n 'quartierte',\n 'rebelliert',\n 'mäandriere',\n 'derbarmte',\n 'spendete',\n 'durchgedurft',\n 'antucker',\n 'verbeamtet',\n 'schmisse hin',\n 'übersprach',\n 'wettre an',\n 'ecke an',\n 'purgierte',\n 'kriegte mit',\n 'brenne an',\n 'nuancierte',\n 'umwitter',\n 'gucke zu',\n 'zerfiele',\n 'siehst vorher',\n 'tourniere',\n 'vertiefe',\n 'trotze ab',\n 'will heraus',\n 'streut umher',\n 'verklappe',\n 'schiefgelacht',\n 'entscheide',\n 'streifst über',\n 'durchgeseiht',\n 'geschnörkelt',\n 'attentier',\n 'umrigger',\n 'probier aus',\n 'gemurmelt',\n 'bedienen',\n 'funkel an',\n 'schwimmst zurück',\n 'zerwühle',\n 'schliefe aus',\n 'trat über',\n 'schiedsrichterst',\n 'kriech hinein',\n 'shukate',\n 'kuschel ein',\n 'angekirrt',\n 'absolvier',\n 'schwarzgehört',\n 'komm herein',\n 'torkelte',\n 'schweige aus',\n 'bagger ab',\n 'verwettet',\n 'kontrollier',\n 'gebusselt',\n 'drückt herein',\n 'rückblicke',\n 'dächte vor',\n 'kritisiert',\n 'achelst ab',\n 'durchwatet',\n 'fall abhin',\n 'nutze um',\n 'befunde',\n 'begäbe',\n 'betriebe',\n 'wandte an',\n 'richtiglieg',\n 'krempelte',\n 'verkupple',\n 'halftre an',\n 'überkoch',\n 'schleppst umher',\n 'mistet aus',\n 'vervierfachst',\n 'preise um',\n 'wachte auf',\n 'schneid heraus',\n 'verschossen',\n 'geschönert',\n 'sampele',\n 'astasiert',\n 'bildest nach',\n 'umfriedig',\n 'nachgeräumt',\n 'angeschwärzt',\n 'träte an',\n 'zurückneig',\n 'stromerte',\n 'arbitrier',\n 'bestreitet',\n 'bringe vor',\n 'brannte durch',\n 'onduliert',\n 'kehrte um',\n 'gefiltert',\n 'hlupate',\n 'konspirierst',\n 'lese vor',\n 'marschierst zu',\n 'bestand fort',\n 'mystifizierst',\n 'überbot',\n 'beschlagnahmt',\n 'beferkle',\n 'gezwinkert',\n 'findest raus',\n 'einmarschiert',\n 'gleitest aus',\n 'bleibe ab',\n 'steckte weg',\n 'säuselt an',\n 'zurechtbieg',\n 'angelst ab',\n 'gescholten',\n 'bammelte',\n 'schmeiße weg',\n 'zerstrahlte',\n 'prüf gegen',\n 'bestellst vor',\n 'destruierst',\n 'verstrebte',\n 'versprenkelt',\n 'hielte ab',\n 'konstatier',\n 'geschaukelt',\n 'nähte an',\n 'nachkontiert',\n 'rückwander',\n 'räuchre an',\n 'missbillig',\n 'erstatte',\n 'koche nach',\n 'vereidigt',\n 'ausgepreist',\n 'röstete',\n 'strahlte an',\n 'logierte',\n 'setz runter',\n 'verköstig',\n 'überwerf',\n 'durchlitten',\n 'schlepp heraus',\n 'verköstigt',\n 'gewaschen',\n 'beköstigst',\n 'affektierst',\n 'puppte ein',\n 'pecke auf',\n 'kennzeichnest',\n 'prügelt ein',\n 'tablettierst',\n 'erzwungen',\n 'fertigt zu',\n 'untermiet',\n 'vergeudest',\n 'aufbewahr',\n 'errudert',\n 'formte vor',\n 'dargelebt',\n 'überblend',\n 'eilt hinauf',\n 'nahm vorweg',\n 'schmeichelt ab',\n 'bürstest ab',\n 'genießbraucht',\n 'verneinte',\n 'emittierst',\n 'erhöhe',\n 'riegel auf',\n 'verscheidet',\n 'siedelt um',\n 'finanzierst',\n 'koitierte',\n 'bewurzel',\n 'beklettert',\n 'obduzier',\n 'gelächelt',\n 'ersähe',\n 'bemessen',\n 'gurtest an',\n 'erträumte',\n 'abachel',\n 'breche weg',\n 'bleibst über',\n 'gerädert',\n 'behielt ein',\n 'will hinein',\n 'präzipierst',\n 'würge raus',\n 'seihte ab',\n 'klinget mit',\n 'gehämmert',\n 'anbekomm',\n 'gedrängelt',\n 'schnitzelte',\n 'finde hin',\n 'beziehst ein',\n 'vergaffe',\n 'spuckte aus',\n 'kreise ein',\n 'entwaldet',\n 'legiere',\n 'ausröchel',\n 'hefte ein',\n 'verhauen',\n 'vetter an',\n 'gipste zu',\n 'staubte ein',\n 'deichte ein',\n 'ondulier',\n 'gemeind ein',\n 'eumele',\n 'breche aus',\n 'flatter weg',\n 'nippelt ab',\n 'bewilligt',\n 'ergoogelt',\n 'fertigmach',\n 'reißt nieder',\n 'hock nieder',\n 'bestempel',\n 'rechnet an',\n 'machst alle',\n 'findest durch',\n 'rabattiert',\n 'geißele',\n 'erlaubte',\n 'gerändert',\n 'verweise',\n 'quält herum',\n 'schlenkere',\n 'wisperte',\n 'rase an',\n 'führt hinein',\n 'ersorge',\n 'beschaltet',\n 'bequatschte',\n 'gehst weiter',\n 'ausgelernt',\n 'lenke um',\n 'feindete',\n 'fällst anheim',\n 'bittere',\n 'seht wieder',\n 'bemächtigst',\n 'schälte aus',\n 'lagert vor',\n 'kroch unter',\n 'paukte ein',\n 'keime vor',\n 'forstest auf',\n 'gesuckelt',\n 'fließe ab',\n 'deodorier',\n 'kletterst nach',\n 'flexte weg',\n 'abgehärt',\n 'kujoniert',\n 'bürgert ein',\n 'dafürhalt',\n 'herausrag',\n 'betüddel',\n 'richtest ein',\n 'entsage',\n 'gewonnen',\n 'genutznießt',\n 'wildere',\n 'konvertiert',\n 'degradierst',\n 'subskribiert',\n 'bumberte',\n 'gesell bei',\n 'spitzele',\n 'schaue hoch',\n 'bedinge',\n 'nachschnüffel',\n 'verglimmte',\n 'stöberst auf',\n 'poppe auf',\n 'verspiegelt',\n 'kämpf zurück',\n 'anluder',\n 'schweißte auf',\n 'gebunkert',\n 'bekreuzig',\n 'entwischte',\n 'vertretet',\n 'gäre nach',\n 'genickköppt',\n 'setz voraus',\n 'wüchse ein',\n 'gemüffelt',\n 'häkelst an',\n 'besenderst',\n 'hinauskönn',\n 'schaute nach',\n 'unterkriech',\n 'riss herum',\n 'bestiftet',\n 'schwämme hin',\n 'rechtete',\n 'unterstellst',\n 'schreibe groß',\n 'hinge nach',\n 'balgt herum',\n 'hinwegfeg',\n 'fuhr empor',\n 'kitzelte',\n 'treibe ein',\n 'versemmle',\n 'erschimmer',\n 'schaff hinauf',\n 'hinterläßt',\n 'weise an',\n 'entminte',\n 'brachte zu',\n 'strolchst herum',\n 'ersitze',\n 'gegoren',\n 'abgezäumt',\n 'starb dahin',\n 'bestechen',\n 'ginge hoch',\n 'bleibt übrig',\n 'gepredigt',\n 'verputze',\n 'sagte an',\n 'setze aus',\n 'zerfleischte',\n 'exponierst',\n 'lieb behalt',\n 'justiert ab',\n 'widersteht',\n 'verblieben',\n 'landete',\n 'mosert rum',\n 'schisse hin',\n 'deutest hin',\n 'überfrag',\n 'äppele',\n 'verbittest',\n 'richtigstell',\n 'sabotier',\n 'belobte',\n 'versiffe',\n 'durchpassier',\n 'drang heraus',\n 'träte aus',\n 'rüberkomm',\n 'kürzte ab',\n 'einarbeit',\n 'verwinkel',\n 'andonner',\n 'geh heraus',\n 'dolliere',\n 'veruzte',\n 'ausgeschabt',\n 'mitgehabt',\n 'vertrimmte',\n 'zog hinzu',\n 'lag zurück',\n 'gefittet',\n 'reingeplatzt',\n 'torkele',\n 'translatier',\n 'behält vor',\n 'überfüll',\n 'betüdelt',\n 'hochgepumpt',\n 'widersteh',\n 'erschuftest',\n 'verkackte',\n 'helfe ab',\n 'streichelte',\n 'aufgenäht',\n 'gehauen',\n 'gäbe statt',\n 'triebe bei',\n 'rückgekühlt',\n 'vertrunken',\n 'red daher',\n 'resümiert',\n 'fülle zu',\n 'reversierst',\n 'kritisier',\n 'schlingerte',\n 'vorerzähl',\n 'verdunkelt',\n 'wickelt auf',\n 'hievte hoch',\n 'anwetter',\n 'chiffriere',\n 'fesselt an',\n 'mutest an',\n 'iss weiter',\n 'finde ein',\n 'klüterte',\n 'ertrotzte',\n 'stürmt zurück',\n 'harmonierst',\n 'geh nahe',\n 'schlägt zurück',\n 'zugekehrt',\n 'reit zurück',\n 'redet ab',\n 'klingelte',\n 'streb zurück',\n 'setz nieder',\n 'vermöbel',\n 'demoulierst',\n 'pfropfe auf',\n 'zahlst weiter',\n 'verblühe',\n 'verspleiße',\n 'verzögert',\n 'angewärmt',\n 'schüttet nach',\n 'gattere',\n 'schöbe an',\n 'verschriftlicht',\n 'asserviert',\n 'einkessel',\n 'ersprinte',\n 'trompetest',\n 'fordert auf',\n 'zurückflücht',\n 'kriechst hinaus',\n 'entrindet',\n 'züngelte',\n 'orientiert',\n 'ionisiert',\n 'blase ein',\n 'nähert an',\n 'übergibt',\n 'verwirklicht',\n 'gräzisiert',\n 'entblätterst',\n 'ventilierst',\n 'geknebelt',\n 'bösche ab',\n 'zögere',\n 'schalte durch',\n 'mumme ein',\n 'verfrühstück',\n 'klamüsert',\n 'kassierst ab',\n 'schlafe ein',\n 'entfeuchte',\n 'blinzelt an',\n 'umstritte',\n 'zieh weiter',\n 'heimgetraut',\n 'versteine',\n 'umgestalt',\n 'beizte ab',\n 'kastle ein',\n 'übermannst',\n 'löffelst ein',\n 'zurücknehm',\n 'spreche frei',\n 'puckerte',\n 'fließt über',\n 'emporfahr',\n 'liefer aus',\n 'zerknirsche',\n 'versinterst',\n 'behorchte',\n 'blasse ab',\n 'sollte mit',\n 'strebe fort',\n 'radle an',\n 'geschunden',\n 'vorgebohrt',\n 'tunnelte',\n 'alterniert',\n 'füllte zu',\n 'herumbrüll',\n 'berochen',\n 'behältst an',\n 'nachbesetzt',\n 'ausliter',\n 'wandte zu',\n 'herausschmeck',\n 'fülle nach',\n 'uploadest',\n 'schüttel aus',\n 'kommentiert',\n 'feiert mit',\n 'säubere',\n 'ausgeweißt',\n 'drucke nach',\n 'atmet an',\n 'durchgezwängt',\n 'überschläft',\n 'bekräftigst',\n 'prononcier',\n 'höre um',\n 'trockne aus',\n 'riggerst ab',\n 'ergaunerst',\n 'erober',\n 'gemäkelt',\n 'lästere',\n 'zurückstopf',\n 'fügt hinzu',\n 'schwimme weg',\n 'päppele',\n 'dahinschlepp',\n 'pimperte',\n 'verspürte',\n 'säuerte',\n 'futterte',\n 'gibt weiter',\n 'beiß hinaus',\n 'weggescheucht',\n 'resorbiert',\n 'entschrotte',\n 'rutsch weiter',\n 'transportierst',\n 'rebellierst',\n 'platze rein',\n 'drehte auf',\n 'überstreif',\n 'iss hindurch',\n 'verbliese',\n 'nachgewürzt',\n 'angespien',\n ...}"
     },
     "execution_count": 23,
     "metadata": {},
     "output_type": "execute_result"
    }
   ],
   "source": [
    "verb_dict[3]"
   ],
   "metadata": {
    "collapsed": false
   }
  },
  {
   "cell_type": "code",
   "execution_count": 2,
   "outputs": [
    {
     "name": "stdout",
     "output_type": "stream",
     "text": [
      "938 2108 1120\n"
     ]
    }
   ],
   "source": [
    "\"\"\"mapping 1010101 comparing words left and right\"\"\"\n",
    "# durch key\n",
    "maps = []\n",
    "target = \"herbeiführen\"\n",
    "l = len(target)\n",
    "cnt = 0\n",
    "cc1=0\n",
    "cc2=0\n",
    "cc3=0\n",
    "for v in verb_dict[1]:\n",
    "    pair = (v, target)\n",
    "    case = tu.match_ends(v, target)\n",
    "    smaller = min(pair, key=len)\n",
    "    longer = max(pair, key=len)\n",
    "    diff = len(longer) - len(smaller)\n",
    "\n",
    "\n",
    "    if case.get(\"any\"):\n",
    "        cnt+=1\n",
    "        if diff:\n",
    "\n",
    "            if case.get(\"first\"):\n",
    "                cc1+=1\n",
    "                m = []\n",
    "                for i in range(len(smaller)):\n",
    "                    m.append(1 if smaller[i] == longer[i] else 0)\n",
    "                while len(m) < l:\n",
    "                    m.append(0) # padding\n",
    "                maps.append(m)\n",
    "\n",
    "\n",
    "            if case.get(\"last\"):\n",
    "                m = []\n",
    "                cc2+=1\n",
    "                for i in range(len(smaller)):\n",
    "                    m.append(1 if smaller[i] == longer[i+diff] else 0)\n",
    "                while len(m) < l:\n",
    "                    m.insert(0, 0) # padding\n",
    "                maps.append(m)\n",
    "\n",
    "\n",
    "        else:\n",
    "            cc3+=1\n",
    "            m = []\n",
    "            for i in range(l):\n",
    "                    m.append(1 if pair[0][i] == pair[1][i] else 0)\n",
    "            maps.append(m)\n",
    "\n",
    "print(cc1, cc2, cc3)"
   ],
   "metadata": {
    "collapsed": false
   }
  },
  {
   "cell_type": "code",
   "execution_count": 3,
   "outputs": [
    {
     "data": {
      "text/plain": "[1230, 373, 424, 320, 1423, 3135]"
     },
     "execution_count": 3,
     "metadata": {},
     "output_type": "execute_result"
    }
   ],
   "source": [
    "# Summe aller gleichlangen maps untereinander, bildet nur Tendenz ab\n",
    "#itertools recipes\n",
    "new_maps = [x for x in maps if len(x)==len(target)]\n",
    "sum_new_maps = [sum(x) for x in zip(*new_maps)]\n",
    "sum_new_maps"
   ],
   "metadata": {
    "collapsed": false
   }
  },
  {
   "cell_type": "code",
   "execution_count": 38,
   "outputs": [
    {
     "data": {
      "text/plain": "Text(0, 0.5, 'frequency')"
     },
     "execution_count": 38,
     "metadata": {},
     "output_type": "execute_result"
    },
    {
     "data": {
      "text/plain": "<Figure size 640x480 with 1 Axes>",
      "image/png": "[encoded data removed]"
     },
     "metadata": {},
     "output_type": "display_data"
    }
   ],
   "source": [],
   "metadata": {
    "collapsed": false
   }
  },
  {
   "cell_type": "code",
   "execution_count": 5,
   "outputs": [
    {
     "name": "stdout",
     "output_type": "stream",
     "text": [
      "['000000101', '000000001', '000000011', '000001001', '000100101', '101000010', '111000000', '111000011', '100000000', '000000001'] 6517\n"
     ]
    }
   ],
   "source": [
    "# konvertiere map in string, nur vorübergehend?\n",
    "str_maps = []\n",
    "for m in maps:\n",
    "    mstr = \"\"\n",
    "    for i in m:\n",
    "        mstr += str(i)\n",
    "    str_maps.append(mstr)\n",
    "print(str_maps[:10], len(str_maps))"
   ],
   "metadata": {
    "collapsed": false
   }
  },
  {
   "cell_type": "code",
   "execution_count": 8,
   "outputs": [],
   "source": [
    "unique_maps = set(str_maps)\n",
    "# maps zu klein: padding links oder rechts\n",
    "# maps zählen\n",
    "# softmax der zählungen\n",
    "# maximum coverage der map 111000000 + 000000011 + ##0000011 + 000111100 = <verstehen> (111111111)\n",
    "\"\"\"\n",
    "finde die summe von stringmaps, bei denen der count maximiert ist\n",
    "\"\"\""
   ],
   "metadata": {
    "collapsed": false
   }
  },
  {
   "cell_type": "code",
   "execution_count": 7,
   "outputs": [
    {
     "data": {
      "text/plain": "False"
     },
     "execution_count": 7,
     "metadata": {},
     "output_type": "execute_result"
    }
   ],
   "source": [
    "'000110000' in str_maps"
   ],
   "metadata": {
    "collapsed": false
   }
  },
  {
   "cell_type": "code",
   "execution_count": 6,
   "outputs": [
    {
     "data": {
      "text/plain": "[('000000001', 1311),\n ('111000000', 972),\n ('111000010', 663),\n ('000000011', 505),\n ('000001001', 433),\n ('111100000', 310),\n ('000011001', 183),\n ('010000001', 166),\n ('000000101', 154),\n ('000010001', 126),\n ('111001000', 119),\n ('000001011', 113),\n ('101000000', 110),\n ('111100010', 96),\n ('010000011', 76),\n ('111110000', 64),\n ('111000100', 60),\n ('111000011', 58),\n ('000000111', 58),\n ('000110001', 56),\n ('011000011', 53),\n ('111001010', 42),\n ('010110001', 37),\n ('011110001', 35),\n ('100000010', 29),\n ('000100001', 29),\n ('001000001', 28),\n ('000100011', 27),\n ('010011001', 26),\n ('010000101', 25),\n ('100000000', 24),\n ('010001001', 23),\n ('101000010', 22),\n ('000111001', 22),\n ('000101001', 22),\n ('000001111', 21),\n ('001001001', 20),\n ('011000001', 20),\n ('001011001', 20),\n ('111111000', 20),\n ('000010101', 18),\n ('111000110', 16),\n ('000111111', 14),\n ('111100001', 14),\n ('010001011', 11),\n ('111100011', 11),\n ('111001011', 10),\n ('100001000', 10),\n ('010010001', 9),\n ('101000001', 9)]"
     },
     "execution_count": 6,
     "metadata": {},
     "output_type": "execute_result"
    }
   ],
   "source": [
    "import collections as cl\n",
    "n_maps = cl.Counter(str_maps).most_common(50)\n",
    "n_maps[:50]"
   ],
   "metadata": {
    "collapsed": false
   }
  },
  {
   "cell_type": "code",
   "execution_count": null,
   "outputs": [],
   "source": [],
   "metadata": {
    "collapsed": false
   }
  },
  {
   "cell_type": "code",
   "execution_count": 8,
   "outputs": [
    {
     "data": {
      "text/plain": "[['000000001', 1311],\n ['111000000', 972],\n ['111000000', 663],\n ['000000011', 505],\n ['000000001', 433],\n ['111100000', 310],\n ['000000001', 183],\n ['000000001', 166],\n ['000000001', 154],\n ['000000001', 126],\n ['111000000', 119],\n ['000000011', 113],\n ['100000000', 110],\n ['111100000', 96],\n ['000000011', 76],\n ['111110000', 64],\n ['111000000', 60],\n ['000000111', 58],\n ['111000011', 58],\n ['000000001', 56],\n ['000000011', 53],\n ['111000010', 42],\n ['000110001', 37],\n ['000000001', 35],\n ['000000001', 29],\n ['100000000', 29],\n ['000000001', 28],\n ['000000011', 27],\n ['000000001', 26],\n ['000000001', 25],\n ['100000000', 24],\n ['000000001', 23],\n ['100000000', 22],\n ['000000001', 22],\n ['000001001', 22],\n ['000001111', 21],\n ['000000001', 20],\n ['000000001', 20],\n ['111111000', 20],\n ['000011001', 20],\n ['000000101', 18],\n ['111000000', 16],\n ['111100001', 14],\n ['000111111', 14],\n ['000000011', 11],\n ['111100011', 11],\n ['100000000', 10],\n ['111000011', 10],\n ['000000001', 9],\n ['100000001', 9]]"
     },
     "execution_count": 8,
     "metadata": {},
     "output_type": "execute_result"
    }
   ],
   "source": [
    "# neue maps ignorieren unterschiede im wortinneren\n",
    "import regex as re\n",
    "recount_map = []\n",
    "for cnt in n_maps:\n",
    "    sr = re.sub(pattern='(01+0)', repl=lambda m: len(m.group(1))*\"0\",string=cnt[0])\n",
    "    recount_map.append([sr, cnt[1]])\n",
    "\n",
    "recount_map"
   ],
   "metadata": {
    "collapsed": false
   }
  },
  {
   "cell_type": "code",
   "execution_count": 9,
   "outputs": [
    {
     "name": "stdout",
     "output_type": "stream",
     "text": [
      "50\n",
      "19 {'000000001': 2666, '111000000': 1830, '000000011': 785, '111100000': 406, '100000000': 195, '111110000': 64, '000000111': 58, '111000011': 68, '111000010': 42, '000110001': 37, '000001001': 22, '000001111': 21, '111111000': 20, '000011001': 20, '000000101': 18, '111100001': 14, '000111111': 14, '111100011': 11, '100000001': 9}\n"
     ]
    }
   ],
   "source": [
    "# add up identical counts\n",
    "print(len(recount_map))\n",
    "\n",
    "rd = dict()\n",
    "for i in list(recount_map):\n",
    "    if i[0] not in rd:\n",
    "        rd[i[0]] = i[1]\n",
    "    else:\n",
    "        rd[i[0]] += i[1]\n",
    "\n",
    "print(len(rd), rd)"
   ],
   "metadata": {
    "collapsed": false
   }
  },
  {
   "cell_type": "code",
   "execution_count": 32,
   "outputs": [
    {
     "data": {
      "text/plain": "[['000000001', 15],\n ['000000011', 334],\n ['000000011', 17],\n ['000000011', 16],\n ['000000011', 8],\n ['000000111', 34],\n ['000001111', 143],\n ['000001111', 10],\n ['000001111', 9],\n ['000011111', 5],\n ['100000000', 115],\n ['100000000', 9],\n ['100000000', 7],\n ['100000011', 9],\n ['110000000', 12]]"
     },
     "execution_count": 32,
     "metadata": {},
     "output_type": "execute_result"
    }
   ],
   "source": [
    "\n",
    "sorted_maps = sorted(recount_map, key=lambda t: t[0])\n",
    "sorted_maps"
   ],
   "metadata": {
    "collapsed": false
   }
  },
  {
   "cell_type": "code",
   "execution_count": 42,
   "outputs": [],
   "source": [
    "def combine_counts(m: list, n: list):\n",
    "    \"\"\"Compares two maps e.g.['1100000', 46] vs. ['1000000', 29]. Sums count if (m in n) or vice versa and has equal number of 1s. Map must be str(int), count must be int.\"\"\"\n",
    "    mc = m[0]\n",
    "    nc = n[0]\n",
    "    long = max(mc, nc, key=len)\n",
    "    short = min(mc, nc, key=len)\n",
    "    if nc.count('1') == mc.count('1') and short in long:\n",
    "        # short & long behalten\n",
    "        # m, n entfernen\n",
    "        return [long, sum([m[1], n[1]])]\n",
    "    else:\n",
    "        return None"
   ],
   "metadata": {
    "collapsed": false
   }
  },
  {
   "cell_type": "code",
   "execution_count": 39,
   "outputs": [
    {
     "ename": "TypeError",
     "evalue": "unhashable type: 'list'",
     "output_type": "error",
     "traceback": [
      "\u001B[0;31m---------------------------------------------------------------------------\u001B[0m",
      "\u001B[0;31mTypeError\u001B[0m                                 Traceback (most recent call last)",
      "\u001B[0;32m/tmp/ipykernel_3873780/2095191625.py\u001B[0m in \u001B[0;36m<module>\u001B[0;34m\u001B[0m\n\u001B[1;32m      1\u001B[0m \u001B[0;32mimport\u001B[0m \u001B[0mitertools\u001B[0m \u001B[0;32mas\u001B[0m \u001B[0mit\u001B[0m\u001B[0;34m\u001B[0m\u001B[0;34m\u001B[0m\u001B[0m\n\u001B[0;32m----> 2\u001B[0;31m \u001B[0;32mfor\u001B[0m \u001B[0mm\u001B[0m\u001B[0;34m,\u001B[0m \u001B[0mn\u001B[0m \u001B[0;32min\u001B[0m \u001B[0mset\u001B[0m\u001B[0;34m(\u001B[0m\u001B[0mit\u001B[0m\u001B[0;34m.\u001B[0m\u001B[0mcombinations\u001B[0m\u001B[0;34m(\u001B[0m\u001B[0mrecount_map\u001B[0m\u001B[0;34m,\u001B[0m \u001B[0;36m2\u001B[0m\u001B[0;34m)\u001B[0m\u001B[0;34m)\u001B[0m\u001B[0;34m:\u001B[0m\u001B[0;34m\u001B[0m\u001B[0;34m\u001B[0m\u001B[0m\n\u001B[0m\u001B[1;32m      3\u001B[0m     \u001B[0mprint\u001B[0m\u001B[0;34m(\u001B[0m\u001B[0mm\u001B[0m\u001B[0;34m,\u001B[0m \u001B[0mn\u001B[0m\u001B[0;34m)\u001B[0m\u001B[0;34m\u001B[0m\u001B[0;34m\u001B[0m\u001B[0m\n\u001B[1;32m      4\u001B[0m \u001B[0;34m\u001B[0m\u001B[0m\n\u001B[1;32m      5\u001B[0m \u001B[0;31m#def pairwise(iterable):\u001B[0m\u001B[0;34m\u001B[0m\u001B[0;34m\u001B[0m\u001B[0;34m\u001B[0m\u001B[0m\n",
      "\u001B[0;31mTypeError\u001B[0m: unhashable type: 'list'"
     ]
    }
   ],
   "source": [
    "import itertools as it\n",
    "for m, n in set(it.combinations(recount_map, 2)):\n",
    "    print(m, n)\n",
    "\n",
    "#def pairwise(iterable):\n",
    "#    \"s -> (s0, s1), (s2, s3), (s4, s5), ...\"\n",
    "#    a = iter(iterable)\n",
    "#    return zip(a, a)\n",
    "\n",
    "left = [x for x in recount_map if x[0].startswith(\"1\") and x[0].endswith(\"0\")]\n",
    "right = [x for x in recount_map if x[0].startswith(\"0\") and x[0].endswith(\"1\")]\n",
    "circ = [x for x in recount_map if x[0].startswith(\"1\") and x[0].endswith(\"1\")]\n",
    "\n",
    "print(left, right, circ)"
   ],
   "metadata": {
    "collapsed": false
   }
  },
  {
   "cell_type": "code",
   "execution_count": 44,
   "outputs": [
    {
     "name": "stdout",
     "output_type": "stream",
     "text": [
      "##en\n"
     ]
    }
   ],
   "source": [
    "def map_subword(target: str, map:str) -> str:\n",
    "    \"\"\"Returns a subword from a target string and a map. Yet to implement maps with 1 on both ends.\"\"\"\n",
    "    if map.startswith(\"1\"):\n",
    "        return target[:map.count(\"1\")]+\"##\"\n",
    "    elif map.endswith(\"1\"):\n",
    "        return \"##\"+target[-map.count(\"1\"):]\n",
    "print(map_subword(\"verstehen\", \"000000011\"))"
   ],
   "metadata": {
    "collapsed": false
   }
  },
  {
   "cell_type": "code",
   "execution_count": 40,
   "outputs": [
    {
     "data": {
      "text/plain": "('ver', 'steh', 'en')"
     },
     "execution_count": 40,
     "metadata": {},
     "output_type": "execute_result"
    }
   ],
   "source": [
    "\"verstehen\".partition(\"steh\")"
   ],
   "metadata": {
    "collapsed": false
   }
  },
  {
   "cell_type": "code",
   "execution_count": null,
   "outputs": [],
   "source": [
    "\"ver##\""
   ],
   "metadata": {
    "collapsed": false
   }
  }
 ],
 "metadata": {
  "kernelspec": {
   "display_name": "Python 3",
   "language": "python",
   "name": "python3"
  },
  "language_info": {
   "codemirror_mode": {
    "name": "ipython",
    "version": 2
   },
   "file_extension": ".py",
   "mimetype": "text/x-python",
   "name": "python",
   "nbconvert_exporter": "python",
   "pygments_lexer": "ipython2",
   "version": "2.7.6"
  }
 },
 "nbformat": 4,
 "nbformat_minor": 0
}
