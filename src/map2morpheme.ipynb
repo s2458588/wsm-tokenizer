{
 "cells": [
  {
   "cell_type": "markdown",
   "metadata": {
    "collapsed": false
   },
   "source": [
    "Lets see what we can do with a wordmap (plot, noise reduction and possibly partitioning into morphemes?)"
   ]
  },
  {
   "cell_type": "code",
   "execution_count": 193,
   "metadata": {
    "collapsed": false
   },
   "outputs": [
    {
     "name": "stdout",
     "output_type": "stream",
     "text": [
      "The autoreload extension is already loaded. To reload it, use:\n",
      "  %reload_ext autoreload\n"
     ]
    }
   ],
   "source": [
    "import wordmapper\n",
    "import text_utilities as tu\n",
    "import numpy as np # arrays\n",
    "import scipy.stats as stats # arithmetics\n",
    "import matplotlib.pyplot as pp # plotting\n",
    "\n",
    "%load_ext autoreload\n",
    "%autoreload 2"
   ]
  },
  {
   "cell_type": "code",
   "execution_count": 194,
   "metadata": {
    "collapsed": false
   },
   "outputs": [
    {
     "ename": "TypeError",
     "evalue": "__init__() takes 3 positional arguments but 4 were given",
     "output_type": "error",
     "traceback": [
      "\u001B[0;31m---------------------------------------------------------------------------\u001B[0m",
      "\u001B[0;31mTypeError\u001B[0m                                 Traceback (most recent call last)",
      "\u001B[0;32m/tmp/ipykernel_131197/2497575430.py\u001B[0m in \u001B[0;36m<module>\u001B[0;34m\u001B[0m\n\u001B[1;32m      5\u001B[0m \u001B[0;32mfor\u001B[0m \u001B[0mt\u001B[0m \u001B[0;32min\u001B[0m \u001B[0mtargets\u001B[0m\u001B[0;34m.\u001B[0m\u001B[0msplit\u001B[0m\u001B[0;34m(\u001B[0m\u001B[0;34m\",\"\u001B[0m\u001B[0;34m)\u001B[0m\u001B[0;34m:\u001B[0m\u001B[0;34m\u001B[0m\u001B[0;34m\u001B[0m\u001B[0m\n\u001B[1;32m      6\u001B[0m     \u001B[0mwm\u001B[0m \u001B[0;34m=\u001B[0m \u001B[0mwordmapper\u001B[0m\u001B[0;34m.\u001B[0m\u001B[0mWordMapper\u001B[0m\u001B[0;34m(\u001B[0m\u001B[0mt\u001B[0m\u001B[0;34m,\u001B[0m \u001B[0mpc\u001B[0m\u001B[0;34m.\u001B[0m\u001B[0mcounted_corpus\u001B[0m\u001B[0;34m)\u001B[0m\u001B[0;34m\u001B[0m\u001B[0;34m\u001B[0m\u001B[0m\n\u001B[0;32m----> 7\u001B[0;31m     \u001B[0mmt\u001B[0m \u001B[0;34m=\u001B[0m \u001B[0mwordmapper\u001B[0m\u001B[0;34m.\u001B[0m\u001B[0mMapToken\u001B[0m\u001B[0;34m(\u001B[0m\u001B[0mt\u001B[0m\u001B[0;34m,\u001B[0m \u001B[0mwm\u001B[0m\u001B[0;34m.\u001B[0m\u001B[0mwordmap\u001B[0m\u001B[0;34m,\u001B[0m \u001B[0mpc\u001B[0m\u001B[0;34m.\u001B[0m\u001B[0mmetrics\u001B[0m\u001B[0;34m)\u001B[0m\u001B[0;34m\u001B[0m\u001B[0;34m\u001B[0m\u001B[0m\n\u001B[0m\u001B[1;32m      8\u001B[0m     \u001B[0mwm_mt\u001B[0m\u001B[0;34m.\u001B[0m\u001B[0mappend\u001B[0m\u001B[0;34m(\u001B[0m\u001B[0;34m(\u001B[0m\u001B[0mmt\u001B[0m\u001B[0;34m.\u001B[0m\u001B[0mtoken\u001B[0m\u001B[0;34m,\u001B[0m \u001B[0mmt\u001B[0m\u001B[0;34m.\u001B[0m\u001B[0mwordmap\u001B[0m\u001B[0;34m)\u001B[0m\u001B[0;34m)\u001B[0m\u001B[0;34m\u001B[0m\u001B[0;34m\u001B[0m\u001B[0m\n",
      "\u001B[0;31mTypeError\u001B[0m: __init__() takes 3 positional arguments but 4 were given"
     ]
    }
   ],
   "source": [
    "pc = tu.PosCorpus('../data/experiment/verbs/joined/')\n",
    "\n",
    "targets = \"beschissen,stehen,anschauen,viertelt,verunglimpfst\"\n",
    "wm_mt = []\n",
    "for t in targets.split(\",\"):\n",
    "    wm = wordmapper.WordMapper(t, pc.counted_corpus)\n",
    "    mt = wordmapper.MapToken(t, wm.wordmap, pc.metrics)\n",
    "    wm_mt.append((mt.token, mt.wordmap))"
   ]
  },
  {
   "cell_type": "code",
   "execution_count": 109,
   "metadata": {
    "collapsed": false
   },
   "outputs": [],
   "source": [
    "def plot_targets(maptokens, absolute=False, zscore=False, med=False, std=False, mean=False, mmmix=False, zeroline=False, derive=False):\n",
    "    for (target, wm) in maptokens:\n",
    "\n",
    "        arr = np.array(wm)\n",
    "        wm_med = np.array([np.median(wm) for i in wm])\n",
    "        wm_mea = np.array([np.mean(wm) for i in wm])\n",
    "        wm_std = np.array([np.std(wm) for i in wm])\n",
    "        wm_mix = [(x+y)/2 for x, y, in zip(wm_mea, wm_med)]\n",
    "        wm_zero = [0 for i in range(len(arr))]\n",
    "        wm_derive = wm_derive = np.array(stats.zscore(tu.derive_wordmap(wm)))\n",
    "        wm_zscore = np.array(stats.zscore(arr))\n",
    "\n",
    "        if absolute:\n",
    "            pp.plot(range(len(arr)), arr)\n",
    "        if med:\n",
    "            pp.plot(range(len(arr)), wm_med)\n",
    "        if mean:\n",
    "            pp.plot(range(len(arr)), wm_mea)\n",
    "        if std:\n",
    "            pp.plot(range(len(arr)), wm_std)\n",
    "        if mmmix:\n",
    "            pp.plot(range(len(arr)), wm_mix)\n",
    "        if zscore:\n",
    "            pp.plot(range(len(arr)), wm_zscore)\n",
    "        if zeroline:\n",
    "            pp.plot(range(len(arr)), wm_zero)\n",
    "        if derive:\n",
    "            pp.plot(range(len(arr)), wm_derive)\n",
    "\n",
    "\n",
    "    pp.xlabel('Character positions')\n",
    "    pp.ylabel('Frequency')\n",
    "    pp.xticks(np.arange(stop=len(arr),step=1), labels=list(target))\n",
    "    pp.savefig(\"/home/gnom/Pictures/wordmaps/zscore\" + target + \".png\")\n",
    "    pp.clf()"
   ]
  },
  {
   "cell_type": "code",
   "execution_count": 113,
   "outputs": [
    {
     "data": {
      "text/plain": "<Figure size 640x480 with 0 Axes>"
     },
     "metadata": {},
     "output_type": "display_data"
    }
   ],
   "source": [
    "for (x,y) in wm_mt:\n",
    "    plot_targets(\n",
    "        maptokens=[(x,y)],\n",
    "        absolute=False,\n",
    "        med=  False,\n",
    "        mmmix=False,\n",
    "        mean= False,\n",
    "        zscore=  True,\n",
    "        zeroline=True,\n",
    "        derive=  True\n",
    "    )"
   ],
   "metadata": {
    "collapsed": false
   }
  },
  {
   "cell_type": "code",
   "execution_count": 52,
   "metadata": {
    "collapsed": false
   },
   "outputs": [
    {
     "name": "stdout",
     "output_type": "stream",
     "text": [
      "0.6054367328205298\n"
     ]
    }
   ],
   "source": []
  },
  {
   "cell_type": "code",
   "execution_count": 211,
   "outputs": [
    {
     "name": "stderr",
     "output_type": "stream",
     "text": [
      "100%|██████████| 28675/28675 [4:20:50<00:00,  1.83it/s]  \n",
      "100%|██████████| 24964/24964 [2:55:14<00:00,  2.37it/s]  \n",
      "100%|██████████| 14169/14169 [2:13:02<00:00,  1.78it/s] \n",
      "100%|██████████| 4257/4257 [40:48<00:00,  1.74it/s]\n",
      "100%|██████████| 5008/5008 [36:24<00:00,  2.29it/s]\n",
      "100%|██████████| 974/974 [09:43<00:00,  1.67it/s]\n",
      "100%|██████████| 182/182 [01:52<00:00,  1.62it/s]\n",
      "100%|██████████| 32/32 [00:20<00:00,  1.59it/s]\n"
     ]
    }
   ],
   "source": [
    "from tqdm import tqdm as tq\n",
    "\n",
    "lex_morphemes = []\n",
    "fun_morphemes = []\n",
    "\n",
    "\n",
    "for k in pc.counted_corpus:\n",
    "    for v in tq(pc.counted_corpus[k]):\n",
    "        wm = wordmapper.WordMapper(v, pc.counted_corpus)\n",
    "        mt = wordmapper.MapToken(v, wm.wordmap)\n",
    "        lex_morphemes.append(mt.stem)\n",
    "        fun_morphemes.extend(mt.affix)\n",
    "\n",
    "#with open(\"../new_tokenizer/lex_vocab.txt\", encoding=\"utf8\", mode=\"w\") as lv:"
   ],
   "metadata": {
    "collapsed": false
   }
  },
  {
   "cell_type": "code",
   "execution_count": 276,
   "outputs": [],
   "source": [
    "with open(\"../new_tokenizer/lex_vocab_raw.txt\", encoding=\"utf8\", mode=\"w\") as lv:\n",
    "    lv.write(\"\".join(s + \"\\n\" for s in lex_morphemes))\n",
    "    lv.close()\n",
    "\n",
    "with open(\"../new_tokenizer/fun_vocab_raw.txt\", encoding=\"utf8\", mode=\"w\") as fv:\n",
    "    fv.write(\"\".join([s + \"\\n\" for s in fun_morphemes]))\n",
    "    fv.close()"
   ],
   "metadata": {
    "collapsed": false
   }
  },
  {
   "cell_type": "markdown",
   "source": [
    "CONVERT FUNCTIONAL MORPHEME MAP TO HASHABLE WITH RELATIVE FREQUENCIES"
   ],
   "metadata": {
    "collapsed": false
   }
  },
  {
   "cell_type": "code",
   "execution_count": 232,
   "outputs": [],
   "source": [
    "import collections as cl"
   ],
   "metadata": {
    "collapsed": false
   }
  },
  {
   "cell_type": "code",
   "execution_count": null,
   "outputs": [],
   "source": [
    "fm_clean = [i for i in fun_morphemes if i != \"\"]  # select non-empty morphemes\n",
    "fm_ncount = cl.Counter(fm_clean).most_common()\n",
    "n_o_fm = len(fm_clean)\n",
    "fm_rel = {k:v/n_o_fm if len(k)>1 else 0 for k, v in fm_ncount } # unary morphemes get no weight\n",
    "fm_rel"
   ],
   "metadata": {
    "collapsed": false,
    "pycharm": {
     "is_executing": true
    }
   }
  },
  {
   "cell_type": "markdown",
   "source": [
    "LEXEMIC MORPHEMES"
   ],
   "metadata": {
    "collapsed": false
   }
  },
  {
   "cell_type": "code",
   "execution_count": null,
   "outputs": [],
   "source": [
    "lm_clean = [i for i in lex_morphemes if len(i)>1]  # select only morphemes longer than 1 character\n",
    "lm_ncount = cl.Counter(lm_clean).most_common()\n",
    "n_o_lm = len(lm_clean)\n",
    "lm_rel = {k:v/n_o_lm if len(k)>1 else 0 for k, v in lm_ncount } # unary morphemes get no weight\n",
    "lm_rel"
   ],
   "metadata": {
    "collapsed": false,
    "pycharm": {
     "is_executing": true
    }
   }
  },
  {
   "cell_type": "code",
   "execution_count": 273,
   "outputs": [
    {
     "data": {
      "text/plain": "['schwindl',\n 'schnöker',\n 'schleuder',\n 'schleuder',\n 'schlagzeil',\n 'scheuch',\n 'schlagnahm',\n 'schmutz',\n 'schlechter',\n 'schlosser',\n 'schmiss',\n 'schütte',\n 'schloss',\n 'schling',\n 'schücht',\n 'schrei',\n 'schluder',\n 'schlotter',\n 'schüttgeh',\n 'schmäler',\n 'schild',\n 'schreck',\n 'scherbel',\n 'schrumpel',\n 'schmurgel',\n 'schnüff',\n 'schnauf',\n 'schmölz',\n 'schände',\n 'schott',\n 'schnüff',\n 'schoss',\n 'schob',\n 'schloss',\n 'schädi',\n 'schwefel',\n 'schütt',\n 'schmach',\n 'schlacker',\n 'schlimmer',\n 'schnüffel',\n 'schädig',\n 'schaff',\n 'schor',\n 'schrieb',\n 'schränk',\n 'schaud',\n 'schlu',\n 'schücht',\n 'schuster',\n 'schwäbel',\n 'schnupper',\n 'schreib',\n 'schüchter',\n 'schlagnahm',\n 'schaff',\n 'schlank',\n 'schrie',\n 'schattier',\n 'schwamm',\n 'schmalz',\n 'schwatz',\n 'schnörkel',\n 'schachte',\n 'schweig',\n 'schmetter',\n 'schlüp',\n 'schiss',\n 'schlag',\n 'scheffel',\n 'schnüffe',\n 'schätztho',\n 'schuld',\n 'schrumpl',\n 'schmett',\n 'schnitt',\n 'schwäger',\n 'schlimmer',\n 'schien',\n 'schied',\n 'schlag',\n 'scholt',\n 'schäum',\n 'schredder',\n 'schnauf',\n 'schwinde',\n 'schlamm',\n 'schönig',\n 'schwiel',\n 'schied',\n 'schlamm',\n 'schwind',\n 'schüchter',\n 'schwende',\n 'schwitz',\n 'schifte',\n 'schmerz',\n 'schleunig',\n 'schwitz',\n 'schacher',\n 'schimmer',\n 'schätz',\n 'schrifte',\n 'scholl',\n 'schieß',\n 'schummel',\n 'schlack',\n 'scheiß',\n 'schmutz',\n 'schlank',\n 'schliff',\n 'schloff',\n 'schütte',\n 'schrei',\n 'schlaf',\n 'schwister',\n 'schweiß',\n 'schmiss',\n 'schipper',\n 'schädig',\n 'schalk',\n 'schließ',\n 'schlief',\n 'schwänger',\n 'schlöss',\n 'schlepp',\n 'schwafel',\n 'schrie',\n 'schnupp',\n 'schreiner',\n 'schmiss',\n 'schriftlich',\n 'schwichtig',\n 'scheuer',\n 'schleus',\n 'schlecker',\n 'schied',\n 'scheuch',\n 'schlag',\n 'schwind',\n 'schiller',\n 'schriftlich',\n 'schwende',\n 'schick',\n 'schuldi',\n 'schleif',\n 'schmolz',\n 'schleier',\n 'schwämm',\n 'schleim',\n 'schwieg',\n 'schwind',\n 'schien',\n 'schaufe',\n 'schöpf',\n 'schrei',\n 'scheide',\n 'schmöker',\n 'schläng',\n 'schulde',\n 'schramm',\n 'schlamp',\n 'schmachte',\n 'schimmel',\n 'schönrede',\n 'schläng',\n 'schubladier',\n 'schnörke',\n 'schäu',\n 'schäfte',\n 'schrotte',\n 'schaukl',\n 'schraub',\n 'schaufel',\n 'schmunze',\n 'schob',\n 'schleuni',\n 'schwister',\n 'schlie',\n 'schmus',\n 'schwätz',\n 'schnob',\n 'schwieg',\n 'schränk',\n 'schlumm',\n 'schneide',\n 'schlummer',\n 'schrie',\n 'schicker',\n 'schlag',\n 'schiff',\n 'schlimmer',\n 'schwinde',\n 'schiss',\n 'schlur',\n 'schachtel',\n 'schnäbel',\n 'schmeich',\n 'schöll',\n 'schnüff',\n 'schlich',\n 'schmurge',\n 'schien',\n 'schwor',\n 'schlabb',\n 'schrieb',\n 'schritt',\n 'schwieg',\n 'schöntä',\n 'schließ',\n 'schrieb',\n 'schubber',\n 'schlepp',\n 'schauernd',\n 'schätz',\n 'schlauder',\n 'schwomm',\n 'schaukel',\n 'schichte',\n 'scheiter',\n 'schussel',\n 'schotte',\n 'schlumm',\n 'schie',\n 'schwichtig',\n 'schnarch',\n 'schwäg',\n 'schulde',\n 'schimmel',\n 'schüttgeh',\n 'schla',\n 'schnupf',\n 'schweiß',\n 'schwatz',\n 'schnatter',\n 'schrei',\n 'schweige',\n 'schiss',\n 'schuldig',\n 'schnack',\n 'schlidd',\n 'schmeiß',\n 'schassier',\n 'schenk',\n 'schwomm',\n 'schumme',\n 'schein',\n 'scheißer',\n 'schlaf',\n 'schlüss',\n 'schieß',\n 'schnapp',\n 'schmollier',\n 'schrieb',\n 'schuldig',\n 'schlaf',\n 'schepper',\n 'schockier',\n 'schied',\n 'schachtl',\n 'scherbl',\n 'schummer',\n 'schütter',\n 'schwimm',\n 'schilder',\n 'schlechte',\n 'schramm',\n 'scheiß',\n 'schmurgel',\n 'schlecht',\n 'schachte',\n 'schinde',\n 'schlöss',\n 'schlüssel',\n 'schwomm',\n 'schimml',\n 'schwende',\n 'schwund',\n 'schrumpel',\n 'schwung',\n 'schwend',\n 'schwing',\n 'schleich',\n 'schimme',\n 'schöss',\n 'schlief',\n 'schubs',\n 'schlie',\n 'schatte',\n 'schränk',\n 'schwömm',\n 'schwung',\n 'schwenk',\n 'schnieb',\n 'schwor',\n 'schablonier',\n 'schädi',\n 'schwips',\n 'schlenker',\n 'schrei',\n 'schächte',\n 'schlaf',\n 'schütte',\n 'schnörkel',\n 'schnicker',\n 'schmalte',\n 'schlitt',\n 'schritt',\n 'schlidder',\n 'schwinde',\n 'schleim',\n 'schränk',\n 'schwarte',\n 'schlag',\n 'schlüg',\n 'schotter',\n 'scheinig',\n 'schlicker',\n 'schliss',\n 'schwichtig',\n 'schien',\n 'scholl',\n 'schokolier',\n 'schach',\n 'schachte',\n 'scherz',\n 'schacher',\n 'schwieg',\n 'schwoll',\n 'schlich',\n 'schnupf',\n 'schleud',\n 'schauer',\n 'schlabber',\n 'schlung',\n 'schufte',\n 'schaff',\n 'schwapp',\n 'schlöff',\n 'schließ',\n 'schlend',\n 'schläf',\n 'schließ',\n 'schulter',\n 'schmett',\n 'schliss',\n 'schraub',\n 'schmaus',\n 'schwänd',\n 'schwinde',\n 'schäker',\n 'schie',\n 'schrank',\n 'schüchter',\n 'schneid',\n 'schups',\n 'schreib',\n 'schorf',\n 'schriftlich',\n 'schrieb',\n 'schupp',\n 'schott',\n 'schönig',\n 'schwitztnas',\n 'schanz',\n 'schmelz',\n 'schnei',\n 'schlich',\n 'schmugg',\n 'schläfer',\n 'scheini',\n 'schwund',\n 'schmeiche',\n 'schlender',\n 'schund',\n 'schäfti',\n 'schick',\n 'schunkel',\n 'schliff',\n 'schäftig',\n 'schrei',\n 'schlüsse',\n 'schneid',\n 'schluck',\n 'schnei',\n 'schlagnahm',\n 'schauder',\n 'schauf',\n 'schwind',\n 'schwomm',\n 'schwichti',\n 'schmor',\n 'schlapper',\n 'scherz',\n 'schneide',\n 'schlaf',\n 'schrieb',\n 'schmader',\n 'schwind',\n 'schlei',\n 'schärf',\n 'schlagwo',\n 'schwatz',\n 'schrotte',\n 'scherbel',\n 'schieb',\n 'schmier',\n 'schütz',\n 'schleuder',\n 'schach',\n 'schliss',\n 'schmolz',\n 'schnei',\n 'schmutz',\n 'schandel',\n 'schirm',\n 'schling',\n 'schmeiß',\n 'schläger',\n 'schritt',\n 'schnabulier',\n 'schlamp',\n 'schmäh',\n 'schimm',\n 'schau',\n 'schluck',\n 'schwör',\n 'schmachte',\n 'schaff',\n 'schandel',\n 'schumm',\n 'schaukel',\n 'schließ',\n 'schaff',\n 'schnarch',\n 'schnitt',\n 'schnitt',\n 'schmeich',\n 'schlinger',\n 'schoss',\n 'schreck',\n 'schussel',\n 'schimmel',\n 'schmunzel',\n 'schrote',\n 'schütt',\n 'schrifte',\n 'schoss',\n 'schnarch',\n 'schlitter',\n 'schatte',\n 'schwist',\n 'schlung',\n 'schreib',\n 'schau',\n 'schloss',\n 'schweiß',\n 'schnupp',\n 'schmugge',\n 'schei',\n 'schauf',\n 'schwieg',\n 'scherbel',\n 'schwem',\n 'schnei',\n 'schall',\n 'schrock',\n 'schalte',\n 'schmeiche',\n 'schaukel',\n 'schwäger',\n 'schrumpe',\n 'schla',\n 'schul',\n 'schmiede',\n 'schied',\n 'schmeiche',\n 'schreib',\n 'schach',\n 'schloss',\n 'schließ',\n 'schneider',\n 'schwäg',\n 'schüttel',\n 'schuldi',\n 'schwor',\n 'schloff',\n 'schlüsse',\n 'schlich',\n 'schiss',\n 'schlepp',\n 'schlepp',\n 'schust',\n 'schlimm',\n 'schlaf',\n 'schloss',\n 'scheid',\n 'schade',\n 'schmolz',\n 'schwund',\n 'schüttging',\n 'schurigel',\n 'schlich',\n 'schneid',\n 'schmaus',\n 'schütt',\n 'scharr',\n 'schickr',\n 'schoss',\n 'scheid',\n 'schön',\n 'schraffier',\n 'schrotte',\n 'schlack',\n 'schnapp',\n 'schiff',\n 'schwimm',\n 'schlüssel',\n 'schleuni',\n 'schwef',\n 'schüttgeh',\n 'schweig',\n 'schätz',\n 'schmerz',\n 'schrote',\n 'schleiß',\n 'schwindel',\n 'schloss',\n 'schlud',\n 'schrieb',\n 'scheu',\n 'scheuch',\n 'schöner',\n 'schein',\n 'scheiß',\n 'schimpf',\n 'schwenk',\n 'schwiel',\n 'schnür',\n 'schreck',\n 'scharrier',\n 'schwabber',\n 'schlüssl',\n 'schleud',\n 'schluder',\n 'schachtel',\n 'schikanier',\n 'schmirge',\n 'scheh',\n 'schwo',\n 'schnei',\n 'schall',\n 'schmitz',\n 'schien',\n 'schmuddel',\n 'schif',\n 'schmader',\n 'schreib',\n 'schirm',\n 'scho',\n 'schi',\n 'schos',\n 'scherb',\n 'schw',\n 'schieb',\n 'schrec',\n 'schwim',\n 'schwan',\n 'schieflach',\n 'schlott',\n 'schwärz',\n 'schmo',\n 'schnetzel',\n 'schränk',\n 'schlepp',\n 'schnar',\n 'schäum',\n 'schleiß',\n 'schip',\n 'schmauch',\n 'schlamp',\n 'schletz',\n 'schläf',\n 'schnurr',\n 'schmu',\n 'schwarte',\n 'schnackel',\n 'schüt',\n 'schlampamp',\n 'schnei',\n 'schleude',\n 'schmirgel',\n 'schläfer',\n 'scheu',\n 'schick',\n 'schuck',\n 'schmol',\n 'schlac',\n 'schup',\n 'schipper',\n 'schwind',\n 'schmett',\n 'schassier',\n 'schlag',\n 'schneid',\n 'schnarr',\n 'schwom',\n 'schlacker',\n 'schick',\n 'schachtel',\n 'schrei',\n 'schnöker',\n 'schmei',\n 'schöntu',\n 'schwe',\n 'schlaudr',\n 'schlurr',\n 'schnippel',\n 'schö',\n 'schnauf',\n 'schmeichel',\n 'schlicht',\n 'schöp',\n 'schwä',\n 'schepper',\n 'schnall',\n 'schnüffl',\n 'schei',\n 'schürf',\n 'schwel',\n 'schaukl',\n 'schmök',\n 'schwäger',\n 'schwatz',\n 'schiff',\n 'scheit',\n 'schü',\n 'schrammel',\n 'schlabb',\n 'schütt',\n 'schmuggel',\n 'schnaps',\n 'schnick',\n 'schnipsel',\n 'schlachte',\n 'schnei',\n 'schüttel',\n 'schwafl',\n 'schatte',\n 'schludr',\n 'schneide',\n 'schlu',\n 'schwam',\n 'schlag',\n 'schrau',\n 'schwapp',\n 'schie',\n 'schöntu',\n 'schnicke',\n 'schell',\n 'schieds',\n 'schummel',\n 'schüttl',\n 'schnief',\n 'scherbel',\n 'schrubb',\n 'schwank',\n 'schirm',\n 'schnapp',\n 'schleiß',\n 'schleuder',\n 'schrei',\n 'schar',\n 'schöpf',\n 'schwinde',\n 'schaufl',\n 'schlei',\n 'scharr',\n 'schmie',\n 'schie',\n 'scho',\n 'schär',\n 'schmink',\n 'scha',\n 'schleu',\n 'schwarzfuh',\n 'schec',\n 'schlaud',\n 'schnips',\n 'schlichte',\n 'schluder',\n 'schlaumach',\n 'schwieg',\n 'schipper',\n 'schürf',\n 'schade',\n 'schreite',\n 'schnök',\n 'schweig',\n 'schlechtmach',\n 'schmirgel',\n 'schachte',\n 'schmie',\n 'schlauf',\n 'schaf',\n 'schenk',\n 'schlepp',\n 'scheu',\n 'schnipp',\n 'schwänger',\n 'schrec',\n 'schnitzel',\n 'schlu',\n 'schna',\n 'schwel',\n 'schwafel',\n 'scheu',\n 'schutzgeimpf',\n 'schlicker',\n 'schneid',\n 'schür',\n 'schil',\n 'schmelz',\n 'schwurbel',\n 'scheine',\n 'schwärz',\n 'schwarzfah',\n 'schie',\n 'schnalz',\n 'schlipp',\n 'schnitzel',\n 'schneitel',\n 'schlämm',\n 'schleufe',\n 'schlotz',\n 'schul',\n 'schau',\n 'schlechtma',\n 'schmachte',\n 'schlacke',\n 'schmut',\n 'schlaufe',\n 'scheide',\n 'schwat',\n 'schät',\n 'schwei',\n 'schie',\n 'schlif',\n 'schattier',\n 'schwol',\n 'schleiß',\n 'schlan',\n 'schlamm',\n 'schwätz',\n 'schen',\n 'schmollie',\n 'schlappe',\n 'schwa',\n 'schla',\n 'schlosser',\n 'schie',\n 'schulter',\n 'schwör',\n 'schicht',\n 'scheid',\n 'schleck',\n 'schwänzel',\n 'schlurf',\n 'schnei',\n 'schlo',\n 'scha',\n 'schic',\n 'schimmer',\n 'schlotter',\n 'schmüc',\n 'schmok',\n 'schmälz',\n 'schwu',\n 'schnurps',\n 'schnatt',\n 'schweb',\n 'schnibbel',\n 'schlei',\n 'schrei',\n 'schleif',\n 'schlappmach',\n 'schnäuk',\n 'schieb',\n 'schöl',\n 'schleufe',\n 'schweige',\n 'schrot',\n 'schmalte',\n 'schärf',\n 'schwarzfähr',\n 'schaufel',\n 'schen',\n 'schnöb',\n 'schaf',\n 'schiefgeh',\n 'schrän',\n 'schau',\n 'schif',\n 'schließ',\n 'schlürf',\n 'scheiß',\n 'schütter',\n 'schmader',\n 'schubb',\n 'schla',\n 'schlof',\n 'schlie',\n 'scharrier',\n 'schling',\n 'schreck',\n 'schwär',\n 'schwi',\n 'schau',\n 'schmäl',\n 'schwing',\n 'schlimm',\n 'schluck',\n 'schon',\n 'schilp',\n 'schnei',\n 'schwat',\n 'schau',\n 'schlotte',\n 'schleich',\n 'schip',\n 'schwall',\n 'schrit',\n 'schrie',\n 'schätz',\n 'scho',\n 'schrag',\n 'schmerz',\n 'scheuch',\n 'schipp',\n 'schmoll',\n 'schlick',\n 'schließ',\n 'schupp',\n 'schlief',\n 'schir',\n 'schlepp',\n 'schweig',\n 'schnell',\n 'schmel',\n 'schlier',\n 'schrau',\n 'schnorr',\n 'schwänz',\n 'schwin',\n 'schanz',\n 'scheuer',\n 'scho',\n 'schreib',\n 'schweif',\n 'schade',\n 'schleuf',\n 'schwerta',\n 'schnüffel',\n 'schleif',\n 'schenk',\n 'schlie',\n 'sches',\n 'schluchz',\n 'schlängl',\n 'schraff',\n 'schulter',\n 'schen',\n 'schlabbe',\n 'schnaub',\n 'schnatz',\n 'schlepp',\n 'schwäg',\n 'schmel',\n 'schach',\n 'schwarzhör',\n 'schwö',\n 'schnieb',\n 'scher',\n 'schmul',\n 'schubber',\n 'schufte',\n 'schimmel',\n 'schlif',\n 'schmuddel',\n 'schimm',\n 'schanz',\n 'schwarzfah',\n 'schla',\n 'schar',\n 'schräm',\n 'schos',\n 'schände',\n 'schnick',\n 'schotter',\n 'schäum',\n 'schnür',\n 'schlapp',\n 'schwell',\n 'schnei',\n 'schrei',\n 'schraff',\n 'scha',\n 'schwarzseh',\n 'schwan',\n 'schlaumach',\n 'schäfte',\n 'schis',\n 'schlampamp',\n 'schubber',\n 'schäum',\n 'schachtl',\n 'schla',\n 'schlenk',\n 'schaff',\n 'schmurgel',\n 'schwabbl',\n 'scha',\n 'schups',\n 'schrie',\n 'schien',\n 'schrill',\n 'schwät',\n 'schwan',\n 'schnalz',\n 'scherz',\n 'schupp',\n 'schnei',\n 'schram',\n 'schieß',\n 'schwalch',\n 'schust',\n 'schmer',\n 'schattier',\n 'schloß',\n 'schilder',\n 'schimp',\n 'schrie',\n 'schnick',\n 'schön',\n 'schwertu',\n 'schla',\n 'schleier',\n 'schos',\n 'schwa',\n 'schlappmach',\n 'schwichtig',\n 'schup',\n 'scheib',\n 'schlemm',\n 'schipp',\n 'schnei',\n 'schwel',\n 'schlauf',\n 'schmol',\n 'schnorr',\n 'schlos',\n 'schwertu',\n 'schurr',\n 'schmunz',\n 'schnieb',\n 'schimmel',\n 'schmaus',\n 'schwie',\n 'schlep',\n 'schmälz',\n 'schrei',\n 'schicker',\n 'schwu',\n 'scheiß',\n 'schwam',\n 'schnatter',\n 'schmei',\n 'schlauf',\n 'schaf',\n 'schätz',\n 'schmi',\n 'schu',\n 'schrapp',\n 'schmiede',\n 'schwimm',\n 'schieds',\n 'schnapp',\n 'schwim',\n 'schmetter',\n 'schmauch',\n 'schnurr',\n 'schlaf',\n 'schluder',\n 'schrän',\n 'schleck',\n 'schwäch',\n 'schu',\n 'schwind',\n 'schachte',\n 'schmuggl',\n ...]"
     },
     "execution_count": 273,
     "metadata": {},
     "output_type": "execute_result"
    }
   ],
   "source": [
    "[i for i in lm_clean if i.startswith(\"sch\")]"
   ],
   "metadata": {
    "collapsed": false
   }
  },
  {
   "cell_type": "code",
   "execution_count": 267,
   "outputs": [
    {
     "data": {
      "text/plain": "True"
     },
     "execution_count": 267,
     "metadata": {},
     "output_type": "execute_result"
    }
   ],
   "source": [],
   "metadata": {
    "collapsed": false
   }
  }
 ],
 "metadata": {
  "kernelspec": {
   "display_name": "Python 3",
   "language": "python",
   "name": "python3"
  },
  "language_info": {
   "codemirror_mode": {
    "name": "ipython",
    "version": 3
   },
   "file_extension": ".py",
   "mimetype": "text/x-python",
   "name": "python",
   "nbconvert_exporter": "python",
   "pygments_lexer": "ipython3",
   "version": "3.9.0"
  },
  "vscode": {
   "interpreter": {
    "hash": "6b0d22e4e1c79272fa4d01070caf2162d45623480f744f42b9210d65f18de715"
   }
  }
 },
 "nbformat": 4,
 "nbformat_minor": 0
}
