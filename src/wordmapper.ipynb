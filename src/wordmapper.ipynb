{
 "cells": [
  {
   "cell_type": "markdown",
   "source": [],
   "metadata": {
    "collapsed": false
   }
  },
  {
   "cell_type": "code",
   "execution_count": 2,
   "outputs": [
    {
     "name": "stdout",
     "output_type": "stream",
     "text": [
      "1 5010\n",
      "2 27261\n",
      "3 30123\n",
      "4 14810\n",
      "5 4455\n",
      "6 1005\n",
      "7 193\n",
      "8 32\n"
     ]
    }
   ],
   "source": [
    "from src import text_utilities as tu\n",
    "wordset = tu.from_path('./data/experiment/verbs')\n",
    "\n",
    "verb_dict = tu.count_syllables(wordset)\n",
    "verb_dict.keys()\n",
    "for i in range(1,9): # von mächtigster menge absteigend morpheme analysieren\n",
    "    print(i, len(verb_dict[i]))"
   ],
   "metadata": {
    "collapsed": false
   }
  },
  {
   "cell_type": "markdown",
   "source": [
    "Tokenizer-Vokabular anhand des Token-Vokabulars erstellen:"
   ],
   "metadata": {
    "collapsed": false
   }
  },
  {
   "cell_type": "code",
   "execution_count": 3,
   "outputs": [
    {
     "name": "stdout",
     "output_type": "stream",
     "text": [
      "576 2221 733\n"
     ]
    }
   ],
   "source": [
    "\"\"\"mapping 1010101 comparing words left and right\"\"\"\n",
    "# durch key\n",
    "maps = []\n",
    "target = \"herbeiführen\"\n",
    "l = len(target)\n",
    "cnt = 0\n",
    "cc1=0\n",
    "cc2=0\n",
    "cc3=0\n",
    "for v in verb_dict[tu.count_syllables(target)]:\n",
    "    pair = (v, target)\n",
    "    case = tu.match_ends(v, target)\n",
    "    smaller = min(pair, key=len)\n",
    "    longer = max(pair, key=len)\n",
    "    diff = len(longer) - len(smaller)\n",
    "\n",
    "\n",
    "    if case.get(\"any\"):\n",
    "        cnt+=1\n",
    "        if diff:\n",
    "\n",
    "            if case.get(\"first\"):\n",
    "                cc1+=1\n",
    "                m = []\n",
    "                for i in range(len(smaller)):\n",
    "                    m.append(1 if smaller[i] == longer[i] else 0)\n",
    "                while len(m) < l:\n",
    "                    m.append(0) # padding\n",
    "                maps.append(m)\n",
    "\n",
    "\n",
    "            if case.get(\"last\"):\n",
    "                m = []\n",
    "                cc2+=1\n",
    "                for i in range(len(smaller)):\n",
    "                    m.append(1 if smaller[i] == longer[i+diff] else 0)\n",
    "                while len(m) < l:\n",
    "                    m.insert(0, 0) # padding\n",
    "                maps.append(m)\n",
    "\n",
    "\n",
    "        else:\n",
    "            cc3+=1\n",
    "            m = []\n",
    "            for i in range(l):\n",
    "                    m.append(1 if pair[0][i] == pair[1][i] else 0)\n",
    "            maps.append(m)\n",
    "\n",
    "print(cc1, cc2, cc3)"
   ],
   "metadata": {
    "collapsed": false
   }
  },
  {
   "cell_type": "code",
   "execution_count": 4,
   "outputs": [
    {
     "data": {
      "text/plain": "[876, 571, 424, 116, 799, 67, 118, 7, 72, 173, 1965, 2808]"
     },
     "execution_count": 4,
     "metadata": {},
     "output_type": "execute_result"
    }
   ],
   "source": [
    "# Summe aller gleichlangen maps untereinander, bildet nur Tendenz ab\n",
    "#itertools recipes\n",
    "new_maps = [x for x in maps if len(x)==len(target)]\n",
    "sum_new_maps = [sum(x) for x in zip(*new_maps)]\n",
    "sum_new_maps"
   ],
   "metadata": {
    "collapsed": false
   }
  },
  {
   "cell_type": "code",
   "execution_count": 5,
   "outputs": [
    {
     "name": "stdout",
     "output_type": "stream",
     "text": [
      "['010000000001', '000000000001', '000000000001', '000010100011', '000000000011', '000000000001', '011010000011', '000000000001', '001000000001', '000000100011'] 3530\n"
     ]
    }
   ],
   "source": [
    "# konvertiere map in string, nur vorübergehend?\n",
    "str_maps = []\n",
    "for m in maps:\n",
    "    mstr = \"\"\n",
    "    for i in m:\n",
    "        mstr += str(i)\n",
    "    str_maps.append(mstr)\n",
    "print(str_maps[:10], len(str_maps))"
   ],
   "metadata": {
    "collapsed": false
   }
  },
  {
   "cell_type": "code",
   "execution_count": 8,
   "outputs": [],
   "source": [
    "unique_maps = set(str_maps)\n",
    "# maps zu klein: padding links oder rechts\n",
    "# maps zählen\n",
    "# softmax der zählungen\n",
    "# maximum coverage der map 111000000 + 000000011 + ##0000011 + 000111100 = <verstehen> (111111111)\n",
    "\"\"\"\n",
    "finde die summe von stringmaps, bei denen der count maximiert ist\n",
    "\"\"\""
   ],
   "metadata": {
    "collapsed": false
   }
  },
  {
   "cell_type": "code",
   "execution_count": 6,
   "outputs": [
    {
     "data": {
      "text/plain": "[('000000000011', 1129),\n ('000000000001', 471),\n ('000010000011', 209),\n ('000010000001', 208),\n ('111000000000', 181),\n ('100000000000', 174),\n ('100010000000', 114),\n ('010000000011', 100),\n ('100000000011', 71),\n ('001000000011', 45),\n ('010000000001', 42),\n ('000100000011', 39),\n ('000000100011', 37),\n ('000000000101', 36),\n ('010010000001', 31),\n ('100000000010', 30),\n ('100000000001', 29),\n ('000110000011', 25),\n ('111000000010', 25),\n ('000000000111', 24),\n ('000001000001', 23),\n ('100010000010', 23),\n ('110000000000', 23),\n ('001000000001', 22),\n ('010010000011', 18),\n ('011000000001', 15),\n ('111000000100', 15),\n ('011000000011', 14),\n ('000010100011', 12),\n ('110010000000', 12),\n ('101000000000', 12),\n ('000010001011', 12),\n ('111010000000', 11),\n ('100010000011', 11),\n ('000000101111', 11),\n ('100000001000', 10),\n ('100010000001', 10),\n ('100000000100', 10),\n ('100001000100', 9),\n ('001010000001', 8),\n ('001010000011', 8),\n ('100000000101', 7),\n ('011010000001', 7),\n ('000000001011', 7),\n ('000111000011', 7),\n ('100001000000', 7),\n ('010000100011', 6),\n ('000100000001', 6),\n ('111000000001', 6),\n ('100010000100', 6)]"
     },
     "execution_count": 6,
     "metadata": {},
     "output_type": "execute_result"
    }
   ],
   "source": [
    "import collections as cl\n",
    "n_maps = cl.Counter(str_maps).most_common(50)\n",
    "n_maps[:50]"
   ],
   "metadata": {
    "collapsed": false
   }
  },
  {
   "cell_type": "code",
   "execution_count": null,
   "outputs": [],
   "source": [],
   "metadata": {
    "collapsed": false
   }
  },
  {
   "cell_type": "code",
   "execution_count": 8,
   "outputs": [
    {
     "data": {
      "text/plain": "[['000000001', 1311],\n ['111000000', 972],\n ['111000000', 663],\n ['000000011', 505],\n ['000000001', 433],\n ['111100000', 310],\n ['000000001', 183],\n ['000000001', 166],\n ['000000001', 154],\n ['000000001', 126],\n ['111000000', 119],\n ['000000011', 113],\n ['100000000', 110],\n ['111100000', 96],\n ['000000011', 76],\n ['111110000', 64],\n ['111000000', 60],\n ['000000111', 58],\n ['111000011', 58],\n ['000000001', 56],\n ['000000011', 53],\n ['111000010', 42],\n ['000110001', 37],\n ['000000001', 35],\n ['000000001', 29],\n ['100000000', 29],\n ['000000001', 28],\n ['000000011', 27],\n ['000000001', 26],\n ['000000001', 25],\n ['100000000', 24],\n ['000000001', 23],\n ['100000000', 22],\n ['000000001', 22],\n ['000001001', 22],\n ['000001111', 21],\n ['000000001', 20],\n ['000000001', 20],\n ['111111000', 20],\n ['000011001', 20],\n ['000000101', 18],\n ['111000000', 16],\n ['111100001', 14],\n ['000111111', 14],\n ['000000011', 11],\n ['111100011', 11],\n ['100000000', 10],\n ['111000011', 10],\n ['000000001', 9],\n ['100000001', 9]]"
     },
     "execution_count": 8,
     "metadata": {},
     "output_type": "execute_result"
    }
   ],
   "source": [
    "# neue maps ignorieren unterschiede im wortinneren\n",
    "import regex as re\n",
    "recount_map = []\n",
    "for cnt in n_maps:\n",
    "    sr = re.sub(pattern='(01+0)', repl=lambda m: len(m.group(1))*\"0\",string=cnt[0])\n",
    "    recount_map.append([sr, cnt[1]])\n",
    "\n",
    "recount_map"
   ],
   "metadata": {
    "collapsed": false
   }
  },
  {
   "cell_type": "code",
   "execution_count": 9,
   "outputs": [
    {
     "name": "stdout",
     "output_type": "stream",
     "text": [
      "50\n",
      "19 {'000000001': 2666, '111000000': 1830, '000000011': 785, '111100000': 406, '100000000': 195, '111110000': 64, '000000111': 58, '111000011': 68, '111000010': 42, '000110001': 37, '000001001': 22, '000001111': 21, '111111000': 20, '000011001': 20, '000000101': 18, '111100001': 14, '000111111': 14, '111100011': 11, '100000001': 9}\n"
     ]
    }
   ],
   "source": [
    "# add up identical counts\n",
    "print(len(recount_map))\n",
    "\n",
    "rd = dict()\n",
    "for i in list(recount_map):\n",
    "    if i[0] not in rd:\n",
    "        rd[i[0]] = i[1]\n",
    "    else:\n",
    "        rd[i[0]] += i[1]\n",
    "\n",
    "print(len(rd), rd)"
   ],
   "metadata": {
    "collapsed": false
   }
  },
  {
   "cell_type": "code",
   "execution_count": 32,
   "outputs": [
    {
     "data": {
      "text/plain": "[['000000001', 15],\n ['000000011', 334],\n ['000000011', 17],\n ['000000011', 16],\n ['000000011', 8],\n ['000000111', 34],\n ['000001111', 143],\n ['000001111', 10],\n ['000001111', 9],\n ['000011111', 5],\n ['100000000', 115],\n ['100000000', 9],\n ['100000000', 7],\n ['100000011', 9],\n ['110000000', 12]]"
     },
     "execution_count": 32,
     "metadata": {},
     "output_type": "execute_result"
    }
   ],
   "source": [
    "\n",
    "sorted_maps = sorted(recount_map, key=lambda t: t[0])\n",
    "sorted_maps"
   ],
   "metadata": {
    "collapsed": false
   }
  },
  {
   "cell_type": "code",
   "execution_count": 42,
   "outputs": [],
   "source": [
    "def combine_counts(m: list, n: list):\n",
    "    \"\"\"Compares two maps e.g.['1100000', 46] vs. ['1000000', 29]. Sums count if (m in n) or vice versa and has equal number of 1s. Map must be str(int), count must be int.\"\"\"\n",
    "    mc = m[0]\n",
    "    nc = n[0]\n",
    "    long = max(mc, nc, key=len)\n",
    "    short = min(mc, nc, key=len)\n",
    "    if nc.count('1') == mc.count('1') and short in long:\n",
    "        # short & long behalten\n",
    "        # m, n entfernen\n",
    "        return [long, sum([m[1], n[1]])]\n",
    "    else:\n",
    "        return None"
   ],
   "metadata": {
    "collapsed": false
   }
  },
  {
   "cell_type": "code",
   "execution_count": 39,
   "outputs": [
    {
     "ename": "TypeError",
     "evalue": "unhashable type: 'list'",
     "output_type": "error",
     "traceback": [
      "\u001B[0;31m---------------------------------------------------------------------------\u001B[0m",
      "\u001B[0;31mTypeError\u001B[0m                                 Traceback (most recent call last)",
      "\u001B[0;32m/tmp/ipykernel_3873780/2095191625.py\u001B[0m in \u001B[0;36m<module>\u001B[0;34m\u001B[0m\n\u001B[1;32m      1\u001B[0m \u001B[0;32mimport\u001B[0m \u001B[0mitertools\u001B[0m \u001B[0;32mas\u001B[0m \u001B[0mit\u001B[0m\u001B[0;34m\u001B[0m\u001B[0;34m\u001B[0m\u001B[0m\n\u001B[0;32m----> 2\u001B[0;31m \u001B[0;32mfor\u001B[0m \u001B[0mm\u001B[0m\u001B[0;34m,\u001B[0m \u001B[0mn\u001B[0m \u001B[0;32min\u001B[0m \u001B[0mset\u001B[0m\u001B[0;34m(\u001B[0m\u001B[0mit\u001B[0m\u001B[0;34m.\u001B[0m\u001B[0mcombinations\u001B[0m\u001B[0;34m(\u001B[0m\u001B[0mrecount_map\u001B[0m\u001B[0;34m,\u001B[0m \u001B[0;36m2\u001B[0m\u001B[0;34m)\u001B[0m\u001B[0;34m)\u001B[0m\u001B[0;34m:\u001B[0m\u001B[0;34m\u001B[0m\u001B[0;34m\u001B[0m\u001B[0m\n\u001B[0m\u001B[1;32m      3\u001B[0m     \u001B[0mprint\u001B[0m\u001B[0;34m(\u001B[0m\u001B[0mm\u001B[0m\u001B[0;34m,\u001B[0m \u001B[0mn\u001B[0m\u001B[0;34m)\u001B[0m\u001B[0;34m\u001B[0m\u001B[0;34m\u001B[0m\u001B[0m\n\u001B[1;32m      4\u001B[0m \u001B[0;34m\u001B[0m\u001B[0m\n\u001B[1;32m      5\u001B[0m \u001B[0;31m#def pairwise(iterable):\u001B[0m\u001B[0;34m\u001B[0m\u001B[0;34m\u001B[0m\u001B[0;34m\u001B[0m\u001B[0m\n",
      "\u001B[0;31mTypeError\u001B[0m: unhashable type: 'list'"
     ]
    }
   ],
   "source": [
    "import itertools as it\n",
    "for m, n in set(it.combinations(recount_map, 2)):\n",
    "    print(m, n)\n",
    "\n",
    "#def pairwise(iterable):\n",
    "#    \"s -> (s0, s1), (s2, s3), (s4, s5), ...\"\n",
    "#    a = iter(iterable)\n",
    "#    return zip(a, a)\n",
    "\n",
    "left = [x for x in recount_map if x[0].startswith(\"1\") and x[0].endswith(\"0\")]\n",
    "right = [x for x in recount_map if x[0].startswith(\"0\") and x[0].endswith(\"1\")]\n",
    "circ = [x for x in recount_map if x[0].startswith(\"1\") and x[0].endswith(\"1\")]\n",
    "\n",
    "print(left, right, circ)"
   ],
   "metadata": {
    "collapsed": false
   }
  },
  {
   "cell_type": "code",
   "execution_count": 44,
   "outputs": [
    {
     "name": "stdout",
     "output_type": "stream",
     "text": [
      "##en\n"
     ]
    }
   ],
   "source": [
    "def map_subword(target: str, map:str) -> str:\n",
    "    \"\"\"Returns a subword from a target string and a map. Yet to implement maps with 1 on both ends.\"\"\"\n",
    "    if map.startswith(\"1\"):\n",
    "        return target[:map.count(\"1\")]+\"##\"\n",
    "    elif map.endswith(\"1\"):\n",
    "        return \"##\"+target[-map.count(\"1\"):]\n",
    "print(map_subword(\"verstehen\", \"000000011\"))"
   ],
   "metadata": {
    "collapsed": false
   }
  },
  {
   "cell_type": "code",
   "execution_count": 40,
   "outputs": [
    {
     "data": {
      "text/plain": "('ver', 'steh', 'en')"
     },
     "execution_count": 40,
     "metadata": {},
     "output_type": "execute_result"
    }
   ],
   "source": [
    "\"verstehen\".partition(\"steh\")"
   ],
   "metadata": {
    "collapsed": false
   }
  },
  {
   "cell_type": "code",
   "execution_count": null,
   "outputs": [],
   "source": [
    "\"ver##\""
   ],
   "metadata": {
    "collapsed": false
   }
  }
 ],
 "metadata": {
  "kernelspec": {
   "display_name": "Python 3",
   "language": "python",
   "name": "python3"
  },
  "language_info": {
   "codemirror_mode": {
    "name": "ipython",
    "version": 2
   },
   "file_extension": ".py",
   "mimetype": "text/x-python",
   "name": "python",
   "nbconvert_exporter": "python",
   "pygments_lexer": "ipython2",
   "version": "2.7.6"
  }
 },
 "nbformat": 4,
 "nbformat_minor": 0
}
