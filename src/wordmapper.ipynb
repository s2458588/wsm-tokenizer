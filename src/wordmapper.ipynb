{
 "cells": [
  {
   "cell_type": "markdown",
   "source": [],
   "metadata": {
    "collapsed": false
   }
  },
  {
   "cell_type": "code",
   "execution_count": 1,
   "outputs": [],
   "source": [
    "import numpy as np\n",
    "\n",
    "import text_utilities as tu\n",
    "import regex as rex\n",
    "%load_ext autoreload\n",
    "%autoreload 2"
   ],
   "metadata": {
    "collapsed": false
   }
  },
  {
   "cell_type": "code",
   "execution_count": 17,
   "outputs": [
    {
     "name": "stdout",
     "output_type": "stream",
     "text": [
      "1 10582\n",
      "2 48722\n",
      "3 69051\n",
      "4 46298\n",
      "5 18406\n",
      "6 4945\n",
      "7 979\n",
      "8 164\n"
     ]
    }
   ],
   "source": [
    "\n",
    "pc = tu.PosCorpus('../data/experiment/verbs')\n",
    "\n",
    "for i in range(1, len(pc.counted_corpus.keys())):\n",
    "    print(i, len(pc.counted_corpus[i]))"
   ],
   "metadata": {
    "collapsed": false
   }
  },
  {
   "cell_type": "code",
   "execution_count": 2,
   "outputs": [],
   "source": [
    "class WordMapper:\n",
    "    \"\"\"Generates a Wordmap for a target token, comparing it to its POS-members in a dict sorted by syllables\"\"\"\n",
    "    def __init__(self, target: str, tokenset: dict, clean=True, pattern='([^^1][0*1*]+[^$1])'):\n",
    "        self.target = target\n",
    "        self.tokenset = tokenset\n",
    "        self.syllables = tu.count_syllables(target)\n",
    "        self.maps = self.stack_maps(target, tokenset, self.syllables)\n",
    "        self.pattern = pattern\n",
    "        self.clean_maps = None\n",
    "        if clean:\n",
    "            self.filter_map_noise(self.maps, self.pattern)\n",
    "            self.wordmap = self.sum_map_stack(self.clean_maps)\n",
    "        else:\n",
    "            self.wordmap = self.sum_map_stack(self.maps)\n",
    "\n",
    "\n",
    "    def stack_maps(self, target, tokenset, syllables):\n",
    "        l = len(target)\n",
    "        #cc1, cc2, cc3 = 0,0,0\n",
    "        maps = []\n",
    "        for k in tokenset:\n",
    "            for v in tokenset[k]:\n",
    "                pair = (v, self.target)\n",
    "                case = tu.match_ends(v, target)\n",
    "                shorter = min(pair, key=len)\n",
    "                longer = max(pair, key=len)\n",
    "                diff = len(longer) - len(shorter)\n",
    "\n",
    "                if case.get(\"any\"):\n",
    "                    if diff:\n",
    "                        if case.get(\"first\") and syllables!=1:\n",
    "                            #cc1+=1\n",
    "                            wm = tu.wordmap(longer=longer, shorter=shorter)\n",
    "                            while len(wm) < l:\n",
    "                                wm.append(0) # padding\n",
    "                            maps.append(wm)\n",
    "\n",
    "                        if case.get(\"last\"):\n",
    "                            wm = []\n",
    "                            #cc2+=1\n",
    "                            wm = tu.wordmap(longer=longer, shorter=shorter, start=diff)\n",
    "                            while len(wm) < l:\n",
    "                                wm.insert(0, 0) # padding\n",
    "                            maps.append(wm)\n",
    "\n",
    "                    else:\n",
    "                        #cc3+=1\n",
    "                        wm = tu.wordmap(longer=pair[0], shorter=pair[1])\n",
    "                        maps.append(wm)\n",
    "        #print(\"Cases:\", cc1, cc2, cc3)\n",
    "        return maps\n",
    "\n",
    "\n",
    "    def filter_map_noise(self, maps, pattern):\n",
    "        \"\"\"Convert maps to strings and delete any consecutive '1' not at the start or end of the map\"\"\"\n",
    "        str_maps = [\"\".join([str(c) for c in m]) for m in maps]  # cast to str\n",
    "        recount_map = [rex.sub(pattern=pattern, repl=lambda m: len(m.group(1))*\"0\",string=sm) for sm in str_maps]  # regex sub\n",
    "        regexed_listed = [list(i) for i in recount_map]  # into list form\n",
    "        regexed_inted = [[int(c) for c in m] for m in regexed_listed]  # cast back to int\n",
    "        self.clean_maps = regexed_inted\n",
    "\n",
    "    def sum_map_stack(self, maps):\n",
    "        return [sum(x) for x in zip(*maps)]\n"
   ],
   "metadata": {
    "collapsed": false
   }
  },
  {
   "cell_type": "code",
   "execution_count": 3,
   "outputs": [
    {
     "ename": "NameError",
     "evalue": "name 'pc' is not defined",
     "output_type": "error",
     "traceback": [
      "\u001B[0;31m---------------------------------------------------------------------------\u001B[0m",
      "\u001B[0;31mNameError\u001B[0m                                 Traceback (most recent call last)",
      "\u001B[0;32m/tmp/ipykernel_66853/2378651682.py\u001B[0m in \u001B[0;36m<module>\u001B[0;34m\u001B[0m\n\u001B[0;32m----> 1\u001B[0;31m \u001B[0mwordmapper\u001B[0m \u001B[0;34m=\u001B[0m \u001B[0mWordMapper\u001B[0m\u001B[0;34m(\u001B[0m\u001B[0;34m\"verdutzt\"\u001B[0m\u001B[0;34m,\u001B[0m \u001B[0mpc\u001B[0m\u001B[0;34m.\u001B[0m\u001B[0mcounted_corpus\u001B[0m\u001B[0;34m,\u001B[0m \u001B[0mclean\u001B[0m\u001B[0;34m=\u001B[0m\u001B[0;32mTrue\u001B[0m\u001B[0;34m)\u001B[0m\u001B[0;34m\u001B[0m\u001B[0;34m\u001B[0m\u001B[0m\n\u001B[0m\u001B[1;32m      2\u001B[0m \u001B[0mwordmapper\u001B[0m\u001B[0;34m.\u001B[0m\u001B[0mwordmap\u001B[0m\u001B[0;34m\u001B[0m\u001B[0;34m\u001B[0m\u001B[0m\n",
      "\u001B[0;31mNameError\u001B[0m: name 'pc' is not defined"
     ]
    }
   ],
   "source": [
    "wordmapper = WordMapper(\"verdutzt\", pc.counted_corpus, clean=True)\n",
    "wordmapper.wordmap"
   ],
   "metadata": {
    "collapsed": false
   }
  },
  {
   "cell_type": "code",
   "execution_count": 126,
   "outputs": [],
   "source": [
    "mt = MapToken(wordmapper.target, wordmapper.wordmap, pc.metrics)"
   ],
   "metadata": {
    "collapsed": false
   }
  },
  {
   "cell_type": "code",
   "execution_count": 127,
   "outputs": [
    {
     "data": {
      "text/plain": "{'e': (129905, 0.16219310599704342),\n 't': (77211, 0.09640192376842863),\n 'r': (68048, 0.08496144472412002),\n 'u': (29988, 0.03744156778137361),\n 'd': (14059, 0.01755338806983899),\n 'z': (12020, 0.015007591194214711),\n 'v': (8892, 0.011102121539014742)}"
     },
     "execution_count": 127,
     "metadata": {},
     "output_type": "execute_result"
    }
   ],
   "source": [
    "mt.freqmap"
   ],
   "metadata": {
    "collapsed": false
   }
  },
  {
   "cell_type": "code",
   "execution_count": 117,
   "outputs": [
    {
     "name": "stdout",
     "output_type": "stream",
     "text": [
      "The autoreload extension is already loaded. To reload it, use:\n",
      "  %reload_ext autoreload\n"
     ]
    }
   ],
   "source": [
    "import collections as cl\n",
    "import numpy as np\n",
    "from scipy import stats\n",
    "import wm_tokenizer as wmt\n",
    "%load_ext autoreload\n",
    "%autoreload 2\n",
    "path_to_functional_morphemes = \"../new_tokenizer/fun_vocab_raw.txt\"\n",
    "path_to_lexemic_morphemes = \"../new_tokenizer/lex_vocab_raw.txt\""
   ],
   "metadata": {
    "collapsed": false
   }
  },
  {
   "cell_type": "code",
   "execution_count": 121,
   "outputs": [],
   "source": [
    "with open(path_to_lexemic_morphemes, encoding=\"utf8\", mode=\"r\") as lv:\n",
    "    lm_raw = lv.read().split(\"\\n\")\n",
    "    lv.close()\n",
    "lm_raw = lm_raw\n",
    "\n",
    "with open(path_to_functional_morphemes, encoding=\"utf8\", mode=\"r\") as fv:\n",
    "    fm_raw = fv.read().split(\"\\n\")\n",
    "    fv.close()\n",
    "fm_raw = fm_raw"
   ],
   "metadata": {
    "collapsed": false
   }
  },
  {
   "cell_type": "code",
   "execution_count": null,
   "outputs": [],
   "source": [
    "# cleaning and preselection of subvocabulary\n",
    "\n",
    "fm_clean = [i for i in fm_raw if i != \"\"]\n",
    "lm_clean = [i for i in lm_raw if (len(i) > 1) and (i not in fm_clean)]  # select only morphemes longer than 1 character\n",
    "lm_ncount = cl.Counter(lm_clean).most_common()\n",
    "n_o_lm = len(lm_clean)\n",
    "lm_rel_pre = {k: (v / n_o_lm)+1 if ((len(k) > 2) and (k not in fm_clean)) else 0 for k, v in lm_ncount}  # len > 2 could be mean len of set(fm) -> int(2.47)\n",
    "# functional morphemes: remove any str with len above 2.5 std (normalized)\n",
    "\n",
    "fm_uni = list(set(fm_clean))\n",
    "fm_outliers = [fm_uni[i] for i in np.where(np.abs(stats.zscore([len(i) for i in fm_uni])) > 2.5)[0]]\n",
    "fm_uni_no_outliers = set(fm_uni) - set(fm_outliers)\n",
    "\n",
    "fm_ncount = cl.Counter(fm_clean).most_common()\n",
    "n_o_fm = len(fm_clean)\n",
    "fm_rel = {k: v / n_o_fm if (len(k) > 1)  and (k in list(fm_uni_no_outliers)) else 0 for k, v in fm_ncount}\n",
    "\n",
    "\n",
    "# lexical morphemes: use everything below median + median absolute deviation\n",
    "lm_uni = list(set(lm_rel_pre))\n",
    "lm_len = [len(i) for i in lm_uni]\n",
    "lm_med = np.median(lm_len)\n",
    "lm_mad = stats.median_abs_deviation(lm_len)\n",
    "lm_outliers = set([lm_uni[i] for i in np.where(lm_med+lm_mad < lm_len)[0]])  # where(array > condition)\n",
    "lm_uni_no_outliers = set(lm_uni) - set(lm_outliers)\n",
    "\n",
    "lm_rel = {k: (v / n_o_lm) if (len(k) > 2) and (k not in fm_rel) and (k in list(lm_uni_no_outliers)) else 0 for k, v in lm_ncount}\n",
    "lex_bias_no_outliers = {**lm_rel, **fm_rel}"
   ],
   "metadata": {
    "collapsed": false
   }
  },
  {
   "cell_type": "code",
   "execution_count": 114,
   "outputs": [
    {
     "name": "stdout",
     "output_type": "stream",
     "text": [
      "['umge', 'fal', 'len']\n"
     ]
    }
   ],
   "source": [
    "wm = wmt.SequenceTokenizer(vocab=lex_bias_no_outliers, target=\"umgefallen\")\n",
    "print(wm.maxed)"
   ],
   "metadata": {
    "collapsed": false
   }
  },
  {
   "cell_type": "code",
   "execution_count": 126,
   "outputs": [
    {
     "data": {
      "text/plain": "43695"
     },
     "execution_count": 126,
     "metadata": {},
     "output_type": "execute_result"
    }
   ],
   "source": [
    "len(lex_bias_no_outliers)"
   ],
   "metadata": {
    "collapsed": false
   }
  },
  {
   "cell_type": "code",
   "execution_count": 137,
   "outputs": [],
   "source": [
    "import matplotlib.pyplot as pp # plotting"
   ],
   "metadata": {
    "collapsed": false
   }
  },
  {
   "cell_type": "code",
   "execution_count": 152,
   "outputs": [
    {
     "data": {
      "text/plain": "[<matplotlib.lines.Line2D at 0x7f4c98f3efd0>]"
     },
     "execution_count": 152,
     "metadata": {},
     "output_type": "execute_result"
    },
    {
     "data": {
      "text/plain": "<Figure size 640x480 with 1 Axes>",
      "image/png": "[encoded data removed]"
     },
     "metadata": {},
     "output_type": "display_data"
    }
   ],
   "source": [
    "lmlen = [len(i) for i in lm_uni_no_outliers]\n",
    "lmlen.sort()\n",
    "lmfre = [lm_rel[i] for i in lm_uni_no_outliers]\n",
    "pp.plot(range(len(lmfre)), lmlen)\n",
    "pp.plot([lm_mean for i in range(len(lmfre))])\n"
   ],
   "metadata": {
    "collapsed": false
   }
  },
  {
   "cell_type": "code",
   "execution_count": 130,
   "outputs": [],
   "source": [
    "voc = tu.VerbDict()"
   ],
   "metadata": {
    "collapsed": false
   }
  },
  {
   "cell_type": "code",
   "execution_count": 131,
   "outputs": [
    {
     "data": {
      "text/plain": "43695"
     },
     "execution_count": 131,
     "metadata": {},
     "output_type": "execute_result"
    }
   ],
   "source": [],
   "metadata": {
    "collapsed": false
   }
  },
  {
   "cell_type": "code",
   "execution_count": 14,
   "outputs": [
    {
     "name": "stdout",
     "output_type": "stream",
     "text": [
      "['her', 'aus', 'ge', 'fi', 'sch', 't']\n",
      "['her', 'aus', 'ge', 'fisch', 't']\n",
      "['her', 'aus', 'ge', 'fis', 'ch', 't']\n",
      "['her', 'aus', 'ge', 'fis', 'cht']\n",
      "['her', 'aus', 'gefi', 'sch', 't']\n",
      "['her', 'aus', 'gefisch', 't']\n",
      "['her', 'ausge', 'fi', 'sch', 't']\n",
      "['her', 'ausge', 'fisch', 't']\n",
      "['her', 'ausge', 'fis', 'ch', 't']\n",
      "['her', 'ausge', 'fis', 'cht']\n",
      "['he', 'ra', 'us', 'ge', 'fi', 'sch', 't']\n",
      "['he', 'ra', 'us', 'ge', 'fisch', 't']\n",
      "['he', 'ra', 'us', 'ge', 'fis', 'ch', 't']\n",
      "['he', 'ra', 'us', 'ge', 'fis', 'cht']\n",
      "['he', 'ra', 'us', 'gefi', 'sch', 't']\n",
      "['he', 'ra', 'us', 'gefisch', 't']\n",
      "['he', 'ra', 'usge', 'fi', 'sch', 't']\n",
      "['he', 'ra', 'usge', 'fisch', 't']\n",
      "['he', 'ra', 'usge', 'fis', 'ch', 't']\n",
      "['he', 'ra', 'usge', 'fis', 'cht']\n",
      "['he', 'raus', 'ge', 'fi', 'sch', 't']\n",
      "['he', 'raus', 'ge', 'fisch', 't']\n",
      "['he', 'raus', 'ge', 'fis', 'ch', 't']\n",
      "['he', 'raus', 'ge', 'fis', 'cht']\n",
      "['he', 'raus', 'gefi', 'sch', 't']\n",
      "['he', 'raus', 'gefisch', 't']\n"
     ]
    }
   ],
   "source": [
    "sum([l in lm_rel for l in wm.maxed])\n",
    "for i in wm.segmentations:\n",
    "    if int(sum([l in lm_rel for l in i])):\n",
    "        print(i)"
   ],
   "metadata": {
    "collapsed": false
   }
  }
 ],
 "metadata": {
  "kernelspec": {
   "display_name": "Python 3",
   "language": "python",
   "name": "python3"
  },
  "language_info": {
   "codemirror_mode": {
    "name": "ipython",
    "version": 2
   },
   "file_extension": ".py",
   "mimetype": "text/x-python",
   "name": "python",
   "nbconvert_exporter": "python",
   "pygments_lexer": "ipython2",
   "version": "2.7.6"
  }
 },
 "nbformat": 4,
 "nbformat_minor": 0
}
