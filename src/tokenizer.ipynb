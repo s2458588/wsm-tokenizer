{
 "cells": [
  {
   "cell_type": "code",
   "execution_count": null,
   "outputs": [],
   "source": [
    "Tokenizer Vokabular generieren\n",
    "Verben = set(pos_vocab)\n",
    "P(Verben) = {}\n",
    "for target in Verben:\n",
    "    for verb in Verben:\n",
    "\n",
    "\n",
    "\n",
    "\n",
    "Für alle tokens mit POS = verb:\n",
    "    Sortiere nach Silbenanzahl\n",
    "\n",
    "Für jede Silbenanzahl:\n",
    "    Für jedes Verb V1 in Verben:\n",
    "        Für jedes Verb V2 in Verben:\n",
    "            Vergleiche Anfang oder Ende (V1, V2)\n",
    "            Wenn gleich:\n",
    "                Lege Map mit binärem Vergleich für jedes Zeichen an\n",
    "                Padde die Map auf die Länge des Targets\n",
    "                Sammle Map\n",
    "        Entferne Übereinstimmmungen innerhalb des Worts\n",
    "        Ignoriere unäre Übereinstimmungen  (Summe Map > 1)\n",
    "        Addiere identische Maps\n",
    "        Behalte n häufigste Maps\n",
    "        Map dekodieren, in Tokenizer-Vokabular schreiben\n",
    "\n"
   ],
   "metadata": {
    "collapsed": false,
    "pycharm": {
     "name": "#%%\n"
    }
   }
  },
  {
   "cell_type": "code",
   "execution_count": null,
   "outputs": [],
   "source": [
    "Wenn POS:\n",
    "    Finde längsten Substring aus TK-Vokabular (Stämme)\n",
    "    Präfix:\n",
    "        Rekursiv längste Substrings bis komplett segmentiert\n",
    "    Suffix:\n",
    "        Rekursiv längste Substrings bis komplett segmentiert\n",
    "    Rest:\n",
    "        Aus atomarem Vokabular"
   ],
   "metadata": {
    "collapsed": false,
    "pycharm": {
     "name": "#%%\n"
    }
   }
  },
  {
   "cell_type": "code",
   "execution_count": 1,
   "outputs": [
    {
     "name": "stdout",
     "output_type": "stream",
     "text": [
      "1 5010\n",
      "2 27261\n",
      "3 30123\n",
      "4 14810\n",
      "5 4455\n",
      "6 1005\n",
      "7 193\n",
      "8 32\n"
     ]
    }
   ],
   "source": [
    "from src import text_utilities as tu\n",
    "wordset = tu.from_path('./../data/experiment/verbs')\n",
    "verb_dict = tu.count_syllables(wordset)\n",
    "verb_dict.keys()\n",
    "for i in range(1,9): # von mächtigster menge absteigend morpheme analysieren\n",
    "    print(i, len(verb_dict[i]))"
   ],
   "metadata": {
    "collapsed": false,
    "pycharm": {
     "name": "#%%\n"
    }
   }
  },
  {
   "cell_type": "code",
   "execution_count": 3,
   "outputs": [],
   "source": [
    "from difflib import SequenceMatcher"
   ],
   "metadata": {
    "collapsed": false,
    "pycharm": {
     "name": "#%%\n"
    }
   }
  },
  {
   "cell_type": "code",
   "execution_count": 19,
   "outputs": [],
   "source": [
    "matches = []\n",
    "syllables = 3\n",
    "target = \"versagen\"\n",
    "\n",
    "for v in verb_dict[syllables]:\n",
    "    sm = SequenceMatcher(None, target, v)\n",
    "    matches.append((sm.find_longest_match(alo=0, ahi=len(target), blo=0, bhi=len(v)), target, v))"
   ],
   "metadata": {
    "collapsed": false,
    "pycharm": {
     "name": "#%%\n"
    }
   }
  },
  {
   "cell_type": "code",
   "execution_count": 43,
   "outputs": [],
   "source": [
    "def max_subword(w1: str, w2: str) -> str:\n",
    "    seq = SequenceMatcher(None, w1, w2)\n",
    "    match = seq.find_longest_match(alo=0,  ahi=len(seq.a), blo=0, bhi=len(seq.b))\n",
    "    #print(w1[match.a:(match.a+match.size)], w2[match.b:(match.b+match.size)])\n",
    "    if match.size > 0 and match.a > 0:\n",
    "        return w1[match.a:(match.a+match.size)]"
   ],
   "metadata": {
    "collapsed": false,
    "pycharm": {
     "name": "#%%\n"
    }
   }
  },
  {
   "cell_type": "code",
   "execution_count": 44,
   "outputs": [],
   "source": [
    "lex = []\n",
    "target = \"verzeichnen\"\n",
    "for i in verb_dict:\n",
    "    [lex.append(max_subword(target, v)) for v in verb_dict[i] if max_subword(target, v)]\n",
    "\n"
   ],
   "metadata": {
    "collapsed": false,
    "pycharm": {
     "name": "#%%\n"
    }
   }
  },
  {
   "cell_type": "code",
   "execution_count": 49,
   "outputs": [
    {
     "data": {
      "text/plain": "[('er', 26237),\n ('e', 16981),\n ('ch', 9876),\n ('ei', 6709),\n ('en', 3868),\n ('r', 2653),\n ('ich', 879),\n ('i', 816),\n ('ze', 694),\n ('z', 659),\n ('ic', 626),\n ('eich', 605),\n ('ne', 581),\n ('chn', 538),\n ('n', 529),\n ('h', 453),\n ('chne', 323),\n ('hn', 298),\n ('c', 274),\n ('rz', 230),\n ('erz', 219),\n ('nen', 121),\n ('rze', 94),\n ('hne', 86),\n ('zeichne', 65),\n ('zei', 63),\n ('erze', 35),\n ('zeichn', 13),\n ('hnen', 11),\n ('erzeichne', 9),\n ('erzei', 5),\n ('erzeichn', 2),\n ('chnen', 2),\n ('zeichnen', 2),\n ('rzei', 1),\n ('rzeichn', 1)]"
     },
     "execution_count": 49,
     "metadata": {},
     "output_type": "execute_result"
    }
   ],
   "source": [
    "import collections as cl\n",
    "ll = cl.Counter(lex).most_common()\n",
    "ll[:50]"
   ],
   "metadata": {
    "collapsed": false,
    "pycharm": {
     "name": "#%%\n"
    }
   }
  },
  {
   "cell_type": "code",
   "execution_count": 42,
   "outputs": [
    {
     "data": {
      "text/plain": "{'taumelte',\n 'salze ein',\n 'entäste',\n 'findet statt',\n 'errackerst',\n 'stufe ab',\n 'herumschlepp',\n 'behelligt',\n 'lüge um',\n 'wäget ab',\n 'darfst zurück',\n 'modere',\n 'ausnutzen',\n 'einschläfer',\n 'schule ein',\n 'tische auf',\n 'geschlingert',\n 'sage ab',\n 'intimierst',\n 'ließ weiter',\n 'zerstiebe',\n 'kreuzigte',\n 'verschrumpel',\n 'umhülle',\n 'findest heim',\n 'versammelt',\n 'Betroffen',\n 'vorausdenk',\n 'reagierten',\n 'verpiesel',\n 'verbauert',\n 'umschritte',\n 'pinnte ab',\n 'laufe vor',\n 'derangierst',\n 'krümelte',\n 'anerkennt',\n 'dafürsprech',\n 'einladen',\n 'biege ein',\n 'zunehmen',\n 'beschaffe',\n 'verrannte',\n 'willigt ein',\n 'knotterte',\n 'tragt umher',\n 'präsentiert',\n 'senkst nieder',\n 'kämpfst zurück',\n 'gegenzeichn',\n 'fliegt entlang',\n 'segelst ab',\n 'rupfst heraus',\n 'verdonner',\n 'bollerte',\n 'überbot',\n 'posierte',\n 'legte auf',\n 'interniert',\n 'einherschreit',\n 'ersoffen',\n 'lüge durch',\n 'verunfallt',\n 'staute an',\n 'deriviert',\n 'lenkt zurück',\n 'pimpere',\n 'angepatzt',\n 'polsterte',\n 'wägte ab',\n 'bildet nach',\n 'rechne ein',\n 'stürm hinein',\n 'fürsorgte',\n 'vereinte',\n 'wirbelst auf',\n 'vorgemalt',\n 'verwickel',\n 'spräche mit',\n 'wirf hinein',\n 'überdehnst',\n 'graute aus',\n 'vernässe',\n 'stellte an',\n 'verölte',\n 'relaxier',\n 'laufe ein',\n 'angenäht',\n 'betuttel',\n 'anstehen',\n 'packe aus',\n 'spränge ein',\n 'tabuisiert',\n 'nicke ab',\n 'barbierte',\n 'zeterte',\n 'übergib',\n 'saturiert',\n 'begab weg',\n 'bisse zu',\n 'träte ein',\n 'erschüttert',\n 'vertilgte',\n 'haltet fern',\n 'beschneidest',\n 'beregnest',\n 'gelächelt',\n 'stotter ab',\n 'bekam ab',\n 'weggewandt',\n 'sag abher',\n 'dachte an',\n 'kauderwelschst',\n 'gebostitcht',\n 'geslimed',\n 'passionier',\n 'herumsumpf',\n 'draufgezahlt',\n 'läuft zurück',\n 'entscheidet',\n 'reibe auf',\n 'sieh hinein',\n 'verholze',\n 'zerschellte',\n 'veranschlagst',\n 'flaniere',\n 'habe weg',\n 'trauerst nach',\n 'durchdränge',\n 'dringe vor',\n 'pfupferte',\n 'sortiert aus',\n 'verkabelt',\n 'sah mit an',\n 'veranker',\n 'unterlädst',\n 'auswärtsgeh',\n 'drängst zurück',\n 'karre um',\n 'abbehalt',\n 'beforschte',\n 'nachgelöst',\n 'ausmergel',\n 'beigemischt',\n 'aufgeben',\n 'rausgewürgt',\n 'stempelst ab',\n 'anstolziert',\n 'bestrande',\n 'rannte nach',\n 'angeangelt',\n 'zensuriert',\n 'verziehet',\n 'angelst ab',\n 'radiziert',\n 'lache an',\n 'schlafe bei',\n 'blicke ein',\n 'passivier',\n 'beköstigst',\n 'gestrandet',\n 'rollst herab',\n 'handyfonier',\n 'beschlagen',\n 'tuschelte',\n 'stattest aus',\n 'hineinstopf',\n 'zichtigte',\n 'bestupfe',\n 'streue aus',\n 'schickst heraus',\n 'verspeiste',\n 'komm hervor',\n 'einbunker',\n 'miachtelte',\n 'preiste ein',\n 'entglitten',\n 'menstruierst',\n 'foutierte',\n 'brettere',\n 'kurvt umher',\n 'gefahet',\n 'erwarte',\n 'drücke auf',\n 'begehrst ab',\n 'gibst heraus',\n 'geknebelt',\n 'bremse ab',\n 'spulte rück',\n 'ausgedeutscht',\n 'berannte',\n 'gesehen',\n 'hol runter',\n 'simmere',\n 'polster auf',\n 'abrogierst',\n 'versehen',\n 'bekringelst',\n 'leitet auf',\n 'bekletter',\n 'sitze vor',\n 'verknete',\n 'übertön',\n 'überfremd',\n 'herausback',\n 'amtshandelst',\n 'mauschelte',\n 'haselier',\n 'klopfe ein',\n 'triebe um',\n 'mähe ab',\n 'verbacken',\n 'rückkühle',\n 'niedersenk',\n 'spänne vor',\n 'distanzier',\n 'forme vor',\n 'schmeichle ab',\n 'lasse an',\n 'umkrempel',\n 'subtrahiert',\n 'spiele an',\n 'hochgeschaut',\n 'räume rein',\n 'beliebet',\n 'revozier',\n 'umgehackt',\n 'bring zurecht',\n 'bezeuge',\n 'zuzwinker',\n 'hineingeh',\n 'kannst herein',\n 'schrecke ab',\n 'revertierst',\n 'inspizierst',\n 'fiele nach',\n 'stalliert aus',\n 'jagte ab',\n 'gedibbert',\n 'spähte nach',\n 'verschwömme',\n 'ermesse',\n 'wendest um',\n 'vermutest',\n 'lass vorbei',\n 'ließ zurück',\n 'heb herauf',\n 'ergrübelst',\n 'betüddelt',\n 'bestrohte',\n 'betröpfelst',\n 'verkehre',\n 'erschieße',\n 'vermehre',\n 'verblasste',\n 'ursachte',\n 'bleibst hängen',\n 'gemuddelt',\n 'arbitriert',\n 'hochgeguckt',\n 'populiert',\n 'entrechte',\n 'übersprichst',\n 'gekippelt',\n 'zurückbeug',\n 'gestreichelt',\n 'tickere',\n 'verkeime',\n 'bemüßigt',\n 'schnökere',\n 'geknüppelt',\n 'heraufspuck',\n 'berufst ein',\n 'getrödelt',\n 'wollte weg',\n 'eingeschweißt',\n 'blieb liegen',\n 'vermarktest',\n 'plagst herum',\n 'bettle an',\n 'verkneife',\n 'will hinein',\n 'entstiele',\n 'ausbürger',\n 'lichtete',\n 'shiftest um',\n 'dispergierst',\n 'abäscher',\n 'prorogiert',\n 'transkribier',\n 'pulvere',\n 'alterniert',\n 'entflammte',\n 'luchse ab',\n 'beneide',\n 'ergrübel',\n 'zerr nieder',\n 'schraube fest',\n 'gewechselt',\n 'tölpele',\n 'hängte rein',\n 'trichterst ein',\n 'spendierte',\n 'stünde da',\n 'buk heraus',\n 'überstreif',\n 'layoutest',\n 'invertiert',\n 'demonstrierst',\n 'bemautest',\n 'verzottel',\n 'steig empor',\n 'fingere',\n 'gibt herum',\n 'wachte auf',\n 'spiel weiter',\n 'rück hinaus',\n 'jag davon',\n 'upgradet',\n 'gestrubbelt',\n 'bäbbelte',\n 'beschlabber',\n 'zerpulverst',\n 'schlösse ab',\n 'genuckelt',\n 'gelobst an',\n 'zipfte an',\n 'borgte aus',\n 'tastete',\n 'daraufkomm',\n 'hamburger',\n 'bräche ein',\n 'pflügte durch',\n 'latschte an',\n 'kapiere',\n 'füllte um',\n 'aufgetrennt',\n 'würbe an',\n 'vorspiegel',\n 'downloadest',\n 'wirtschaftest',\n 'werft hinauf',\n 'befahl an',\n 'metzelst hin',\n 'eingerannt',\n 'redet schön',\n 'eile fort',\n 'buddelte',\n 'angefixt',\n 'verkokel',\n 'handgestoppt',\n 'vermenge',\n 'eingeparkt',\n 'entmythisierst',\n 'tanze mit',\n 'klappe weg',\n 'verteuer',\n 'schichtest um',\n 'quagetze',\n 'manövriert',\n 'reißt empor',\n 'absinken',\n 'schlimmerte',\n 'verkühle',\n 'benehmen',\n 'geflöckelt',\n 'kotierte',\n 'stoßlüftest',\n 'getroffen',\n 'genabelt',\n 'garrottier',\n 'springt zurück',\n 'lebe ein',\n 'hutzele',\n 'zerfledderst',\n 'helfe hoch',\n 'zurückstreif',\n 'ziehst umher',\n 'entmietest',\n 'verqualmte',\n 'schrieb hinein',\n 'stülpe aus',\n 'lasst vorbei',\n 'beglückte',\n 'gepopelt',\n 'huderte',\n 'flöhe an',\n 'hänge raus',\n 'leb weiter',\n 'badest ab',\n 'stamme ab',\n 'dünste an',\n 'facettiert',\n 'gegeben',\n 'evalvierst',\n 'liegt nahe',\n 'gekarstet',\n 'extubierst',\n 'habe mit',\n 'geknittert',\n 'verhackstückt',\n 'überlädst',\n 'reinige',\n 'zerschleiße',\n 'erbrächte',\n 'dreht zurück',\n 'unterbaut',\n 'schlepp umher',\n 'geschreddert',\n 'behirnte',\n 'wohnte ab',\n 'späht umher',\n 'treidelte',\n 'obediert',\n 'aufgeklappt',\n 'fiel nieder',\n 'bürstet ab',\n 'näsele',\n 'unterwühlt',\n 'redhibierst',\n 'bespöttle',\n 'erkunde',\n 'überblend',\n 'hörte weg',\n 'fahre schwarz',\n 'tattere',\n 'gärtnerte',\n 'liefert an',\n 'eingeschifft',\n 'anmontier',\n 'gegurgelt',\n 'beschaltest',\n 'simpelte',\n 'verkleckerst',\n 'demaskier',\n 'lauget aus',\n 'bekletterst',\n 'supinier',\n 'ähnlich an',\n 'unterschieb',\n 'gerat nach',\n 'durchpassiert',\n 'verschnörkelst',\n 'entzundert',\n 'pedikürst',\n 'beschritte',\n 'trage auf',\n 'verschlüge',\n 'habt unter',\n 'zerrütte',\n 'mergelt ab',\n 'stangelte',\n 'bewilligt',\n 'verharschte',\n 'frequentierst',\n 'forder ein',\n 'willst heraus',\n 'scheuchte weg',\n 'höbe ab',\n 'kröche hoch',\n 'floss weiter',\n 'schwinge mit',\n 'fass fehl auf',\n 'kritisier',\n 'umziehen',\n 'muckele',\n 'erlote',\n 'tütet ein',\n 'tausch zurück',\n 'verkochte',\n 'durchregiert',\n 'beträufelt',\n 'abrebel',\n 'dampfe ab',\n 'stränge an',\n 'missverstehst',\n 'eingepackt',\n 'versprochen',\n 'dezidier',\n 'lässt stecken',\n 'bestellst ein',\n 'derbrösel',\n 'ersegelst',\n 'saufe tot',\n 'rekurrier',\n 'sucht weiter',\n 'erwärme',\n 'ging hervor',\n 'sänke ein',\n 'belehne',\n 'schraube ab',\n 'ausgeschalt',\n 'abdiziert',\n 'bekröche',\n 'stehst nahe',\n 'schwomm vorbei',\n 'hörte auf',\n 'veredelt',\n 'zerraufe',\n 'punzte ein',\n 'knöpfe ab',\n 'gespiesen',\n 'lichtet aus',\n 'schwägerte',\n 'empfange',\n 'scheiße voll',\n 'konstruier',\n 'fügte bei',\n 'labele',\n 'gebammelt',\n 'weggelotst',\n 'hofmeisterst',\n 'mystifiziert',\n 'ging über',\n 'abgespeist',\n 'passiert durch',\n 'bewaldet',\n 'verketzer',\n 'trachtete',\n 'unterweis',\n 'reiße um',\n 'steckte um',\n 'verbräche',\n 'abgeplackt',\n 'formatierst',\n 'bemaute',\n 'demolierst',\n 'beckmessert',\n 'überlappt',\n 'umgeknickt',\n 'willst wieder',\n 'verflüssigst',\n 'ladet vor',\n 'marschiert rein',\n 'kipplüfte',\n 'geviertelt',\n 'heraufkomm',\n 'schwämme an',\n 'advoziert',\n 'drangekriegt',\n 'vervielfach',\n 'referier',\n 'höre hin',\n 'kuratiert',\n 'tschecherte',\n 'entspanne',\n 'rufe an',\n 'ignorier',\n 'outsourcte',\n 'knickte um',\n 'wandert ab',\n 'schweinigelst',\n 'kontrahierst',\n 'vereitle',\n 'knetet ein',\n 'dependier',\n 'abgebalzt',\n 'wachst empor',\n 'verlege',\n 'brauche an',\n 'verschüchter',\n 'benähme',\n 'konfirmier',\n 'halte raus',\n 'kolportier',\n 'bleibt übrig',\n 'bratet an',\n 'berichtet',\n 'schlief weiter',\n 'vorarbeit',\n 'rigole',\n 'umschrieben',\n 'gebreitet',\n 'weggeschupst',\n 'verschmurgelst',\n 'betrage',\n 'kreidete',\n 'perlustrier',\n 'hingehör',\n 'ausgetickt',\n 'erwanderst',\n 'nimmst übel',\n 'klappt zurück',\n 'entrundest',\n 'schüttest weg',\n 'biete ab',\n 'schaust hinaus',\n 'erzwänge',\n 'laminier',\n 'schließ herum',\n 'besticke',\n 'bombte aus',\n 'pirsche vor',\n 'nehmt heraus',\n 'klappe zu',\n 'erleichterst',\n 'buffte ab',\n 'quetsche rein',\n 'besteuerst',\n 'quillt über',\n 'äußerst ab',\n 'Verstanden',\n 'nachgerannt',\n 'brachte draus',\n 'gegendert',\n 'bejagte',\n 'gehäkelt',\n 'versaue',\n 'hebel aus',\n 'bestalle',\n 'popelte',\n 'ausmendel',\n 'geschrottet',\n 'kollabier',\n 'bibberte',\n 'beförstert',\n 'zerhackte',\n 'geschuldet',\n 'bullere',\n 'waterboard',\n 'zurücknehm',\n 'abgewöhnt',\n 'entsäuer',\n 'weiterkönn',\n 'verhakelt',\n 'stehst hintan',\n 'beistehen',\n 'entliehen',\n 'hast inne',\n 'niederzieh',\n 'liefe nach',\n 'entäußerst',\n 'belüfte',\n 'schwartest ab',\n 'fröre durch',\n 'vorankomm',\n 'schlage zu',\n 'gibt dazu',\n 'gelodert',\n 'malte aus',\n 'verbremse',\n 'abgesahnt',\n 'entgehe',\n 'beutest aus',\n 'ginge schief',\n 'schulte nach',\n 'würge aus',\n 'benagel',\n 'fühle vor',\n 'vorgeschwebt',\n 'bastet ab',\n 'verlegst um',\n 'wehte um',\n 'tauch unter',\n 'räumst hinein',\n 'spielst weiter',\n 'verschalle',\n 'zerdeppert',\n 'schleife weg',\n 'schraube zu',\n 'fährt nieder',\n 'schöbe zu',\n 'quartierst ein',\n 'schlage ab',\n 'drösche ab',\n 'überess',\n 'vermindert',\n 'ballere',\n 'rotiere',\n 'beklatsche',\n 'glättete',\n 'quittierte',\n 'editiert',\n 'vereinzelt',\n 'degraissiert',\n 'getrampelt',\n 'genasführt',\n 'behalt dort',\n 'verschwenke',\n 'tapeziert',\n 'lautierte',\n 'verklappte',\n 'jubelst hoch',\n 'missraten',\n 'überbleib',\n 'bomätsche',\n 'milderst ab',\n 'ließe nach',\n 'pflücke ab',\n 'aussonder',\n 'aufpolier',\n 'tolerier',\n 'flankierte',\n 'missverstand',\n 'hebe auf',\n 'holte nach',\n 'spießte auf',\n 'verdickte',\n 'ducke ab',\n 'würfe ab',\n 'verwirbel',\n 'begünstigst',\n 'gekoppelt',\n 'umgetan',\n 'starrst herauf',\n 'hinausführ',\n 'verkantest',\n 'kette los',\n 'entsichert',\n 'erlebe',\n 'fütterst an',\n 'bleibst über',\n 'lackierte',\n 'erkaltest',\n 'verpönte',\n 'pointierte',\n 'relaxiert',\n 'vergifte',\n 'willigst ein',\n 'gewährte',\n 'tüftelte',\n 'runterkratz',\n 'schnackte mit',\n 'knickte an',\n 'fortrennen',\n 'mitanseh',\n 'verschleuder',\n 'schnallte zu',\n 'glaste ein',\n 'schreibt dazu',\n 'kitzelst durch',\n 'entgrätet',\n 'stieße drauf',\n 'schwindelst durch',\n 'witzele',\n 'trocknest an',\n 'knotet zu',\n 'schwämme zu',\n 'erpoche',\n 'mache klar',\n 'headbangte',\n 'zernagte',\n 'gewullackt',\n 'transferiert',\n 'reiche nach',\n 'tauschte aus',\n 'missbrauchte',\n 'benotest',\n 'male schwarz',\n 'modelst um',\n 'lackier um',\n 'stauch zurecht',\n 'zwickte ab',\n 'kauderte',\n 'empfinde',\n 'bevorwort',\n 'umgeholzt',\n 'fragte durch',\n 'nähme fort',\n 'downcyclete',\n 'geh über',\n 'erzählte',\n 'reversier',\n 'verstaatlich',\n 'zerkratzte',\n 'lasst hängen',\n 'bekundet',\n 'fernsteuer',\n 'devolvier',\n 'nachgesaust',\n 'mängelte',\n 'schleppst dahin',\n 'rührte an',\n 'besaitet',\n 'beforstet',\n 'sagte ein',\n 'bekommst auf',\n 'ranke hoch',\n 'versicker',\n 'drauflosschwimm',\n 'schütte aus',\n 'gemuntert',\n 'hau nieder',\n 'huldigend',\n 'annehmen',\n 'überbuchst',\n 'schöbe ab',\n 'ekelt an',\n 'überspinn',\n 'tastest an',\n 'zerfledder',\n 'gestaubsaugt',\n 'schwamm vorbei',\n 'geschlagzeilt',\n 'eingerollt',\n 'gemangelt',\n 'ausspioniert',\n 'geschleudert',\n 'schaut zurück',\n 'laufe heiß',\n 'klickere',\n 'pumpte aus',\n 'duckmäuser',\n 'grignardiert',\n 'schwömme auf',\n 'umrubel',\n 'etablier',\n 'ausgewalzt',\n 'verleidest',\n 'mitgesummt',\n 'erkecke',\n 'fügte ein',\n 'törggele',\n 'funktionierst',\n 'befördert',\n 'inspiziert',\n 'fächelst zu',\n 'erringe',\n 'orderte',\n 'entschleierst',\n 'pausierte',\n 'rackerte',\n 'blickte nach',\n 'frage nach',\n 'gezettelt',\n 'bleibt daheim',\n 'releviert',\n 'gniedelte',\n 'kemmst ausher',\n 'unterschob',\n 'warf nieder',\n 'gehst runter',\n 'vermorsche',\n 'führst herum',\n 'entschwunden',\n 'kulminiert',\n 'bekrittel',\n 'hungerst aus',\n 'verstaatlicht',\n 'brannte ein',\n 'behobelt',\n 'festfragte',\n 'jodierte',\n 'beprobte',\n 'linste an',\n 'bevölker',\n 'auskuriert',\n 'sitzt umher',\n 'bostitchte',\n 'öde an',\n 'kriech hinein',\n 'derbremste',\n 'entzweigeh',\n 'fügst hinzu',\n 'nuanciere',\n 'gefuckelt',\n 'koche nach',\n 'verpfiffe',\n 'überlasst',\n 'vermenschlicht',\n 'krieg zurück',\n 'adsorbier',\n 'zurücklenk',\n 'schaute rein',\n 'waleie',\n 'ennuyiert',\n 'erzüchte',\n 'dampfte an',\n 'machte schlecht',\n 'apportierst',\n 'kläre auf',\n 'verwöhne',\n 'baust über',\n 'widersteht',\n 'bildet um',\n 'schmuggelst durch',\n 'fungierte',\n 'hörte raus',\n 'rechnet hoch',\n 'hinterließ',\n 'lehnt zurück',\n 'läge blank',\n 'berappte',\n 'gehimmelt',\n 'verkarste',\n 'nähere',\n 'beulte aus',\n 'spanne auf',\n 'tucker an',\n 'hochkraxel',\n 'röstest an',\n 'bumbere',\n 'quadrätle',\n 'eingesackt',\n 'entkräftet',\n 'gehlebat',\n 'reiß entzwei',\n 'häute ab',\n 'passe ein',\n 'umwölke',\n 'schlänge um',\n 'verschiebe',\n 'segregiert',\n 'abgepflückt',\n 'füge zu',\n 'vorbeizwäng',\n 'zahlte drauf',\n 'heraushol',\n 'blickt nieder',\n 'labere',\n 'seigerte',\n 'verklumpte',\n 'stand zurück',\n 'karjuckle',\n 'umstreitet',\n 'deutest um',\n 'zündest an',\n 'gekerkert',\n 'anknöpfel',\n 'bekam hin',\n 'vorgespannt',\n 'strömte aus',\n 'schnackele',\n 'bingewatch',\n 'traute zu',\n 'eingezwängt',\n 'verspunde',\n 'pumpt herein',\n 'verkörpert',\n 'verstetig',\n 'verteidigst',\n 'bewurzelst',\n 'verflochten',\n 'übergab',\n 'entflöhe',\n 'entlastest',\n 'pütschere',\n 'kreide an',\n 'behändig',\n 'kocht über',\n 'enteignet',\n 'hieb zurück',\n 'bestempelt',\n 'räusperte',\n 'gewunden',\n 'verknappe',\n 'vermelde',\n 'beerdige',\n 'deiche ein',\n 'besetzte',\n 'kreditierst',\n 'kriechst herum',\n 'souffliere',\n 'bechere',\n 'hunger ab',\n 'angezapft',\n 'zugepappt',\n 'versteine',\n 'stiefelte',\n 'besonnte',\n 'zurückschraub',\n 'verortest',\n 'gehe weg',\n 'verfrühstück',\n 'konferier',\n 'jätete',\n 'käme hoch',\n 'beurkundet',\n 'ertrinken',\n 'bekliere',\n 'kombinier',\n 'lasst herab',\n 'zählte zu',\n 'wienere',\n 'kriechst herein',\n 'sehe durch',\n 'kleidest aus',\n 'äschert ab',\n 'erlahmte',\n 'queruliert',\n 'oszillierst',\n 'anschimmel',\n 'stürzte an',\n 'gequiekt',\n 'wirke ein',\n 'brilliere',\n 'dortbehalt',\n 'übel nehm',\n 'heizte vor',\n 'bestochert',\n 'wankte zu',\n 'loderte',\n 'verfirnte',\n 'überbuscht',\n 'stellte kalt',\n 'machte nach',\n 'eilt voraus',\n 'nibbele',\n 'müsste durch',\n 'schliefe bei',\n ...}"
     },
     "execution_count": 42,
     "metadata": {},
     "output_type": "execute_result"
    }
   ],
   "source": [
    "verb_dict[3]"
   ],
   "metadata": {
    "collapsed": false,
    "pycharm": {
     "name": "#%%\n"
    }
   }
  },
  {
   "cell_type": "code",
   "execution_count": 17,
   "outputs": [],
   "source": [],
   "metadata": {
    "collapsed": false,
    "pycharm": {
     "name": "#%%\n"
    }
   }
  }
 ],
 "metadata": {
  "kernelspec": {
   "display_name": "Python 3",
   "language": "python",
   "name": "python3"
  },
  "language_info": {
   "codemirror_mode": {
    "name": "ipython",
    "version": 2
   },
   "file_extension": ".py",
   "mimetype": "text/x-python",
   "name": "python",
   "nbconvert_exporter": "python",
   "pygments_lexer": "ipython2",
   "version": "2.7.6"
  }
 },
 "nbformat": 4,
 "nbformat_minor": 0
}