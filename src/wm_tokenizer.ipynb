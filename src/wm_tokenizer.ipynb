{
 "cells": [
  {
   "cell_type": "markdown",
   "source": [
    "Wenn POS:\n",
    "    Finde längsten Substring aus TK-Vokabular (Stämme)\n",
    "    Präfix:\n",
    "        Rekursiv längste Substrings bis komplett segmentiert\n",
    "    Suffix:\n",
    "        Rekursiv längste Substrings bis komplett segmentiert\n",
    "    Rest:\n",
    "        Aus atomarem Vokabular"
   ],
   "metadata": {
    "collapsed": false
   }
  },
  {
   "cell_type": "markdown",
   "source": [
    "LOAD FUNCTIONAL / LEXEMIC VOCAB"
   ],
   "metadata": {
    "collapsed": false
   }
  },
  {
   "cell_type": "code",
   "execution_count": 4,
   "outputs": [],
   "source": [
    "#import collections as cl\n",
    "#from more_itertools import subslices\n",
    "import text_utilities as tu\n",
    "import wm_tokenizer\n",
    "%load_ext autoreload\n",
    "%autoreload 2"
   ],
   "metadata": {
    "collapsed": false
   }
  },
  {
   "cell_type": "code",
   "execution_count": 3,
   "outputs": [],
   "source": [
    "from HanTa import HanoverTagger as ht\n",
    "from transformers import BertTokenizer\n",
    "from tokenizers import pre_tokenizers"
   ],
   "metadata": {
    "collapsed": false
   }
  },
  {
   "cell_type": "code",
   "execution_count": 6,
   "outputs": [],
   "source": [
    "vocab = tu.VerbDict(path_to_functional_morphemes=\"../new_tokenizer/fun_vocab_raw.txt\", path_to_lexemic_morphemes=\"../new_tokenizer/lex_vocab_raw.txt\")"
   ],
   "metadata": {
    "collapsed": false
   }
  },
  {
   "cell_type": "code",
   "execution_count": 8,
   "outputs": [],
   "source": [
    "wmt = wm_tokenizer.WordmapTokenizer(vocab=vocab.lmfm,\n",
    "        bert_pretokenizer = pre_tokenizers.BertPreTokenizer(),\n",
    "        bert_tokenizer = BertTokenizer.from_pretrained(\"bert-base-german-cased\"),\n",
    "        hantatagger = ht.HanoverTagger('morphmodel_ger.pgz'),\n",
    ")"
   ],
   "metadata": {
    "collapsed": false
   }
  },
  {
   "cell_type": "code",
   "execution_count": 14,
   "outputs": [
    {
     "data": {
      "text/plain": "{'input_ids': [[3,\n   1278,\n   11219,\n   26963,\n   9600,\n   26970,\n   7,\n   4,\n   0,\n   0,\n   0,\n   0,\n   0,\n   0,\n   0,\n   0,\n   0,\n   0,\n   0,\n   0,\n   0,\n   0,\n   0,\n   0,\n   0,\n   0,\n   0,\n   0,\n   0,\n   0,\n   0,\n   0,\n   0,\n   0,\n   0,\n   0,\n   0,\n   0,\n   0,\n   0,\n   0,\n   0,\n   0,\n   0,\n   0,\n   0,\n   0,\n   0,\n   0,\n   0,\n   0,\n   0,\n   0,\n   0,\n   0,\n   0,\n   0,\n   0,\n   0,\n   0,\n   0,\n   0,\n   0,\n   0,\n   0,\n   0,\n   0,\n   0,\n   0,\n   0,\n   0,\n   0,\n   0,\n   0,\n   0,\n   0,\n   0,\n   0,\n   0,\n   0,\n   0,\n   0,\n   0,\n   0,\n   0,\n   0,\n   0,\n   0,\n   0,\n   0,\n   0,\n   0,\n   0,\n   0,\n   0,\n   0,\n   0,\n   0,\n   0,\n   0,\n   0,\n   0,\n   0,\n   0,\n   0,\n   0,\n   0,\n   0,\n   0,\n   0,\n   0,\n   0,\n   0,\n   0,\n   0,\n   0,\n   0,\n   0,\n   0,\n   0,\n   0,\n   0,\n   0,\n   0,\n   0,\n   0,\n   0,\n   0,\n   0,\n   0,\n   0,\n   0,\n   0,\n   0,\n   0,\n   0,\n   0,\n   0,\n   0,\n   0,\n   0,\n   0,\n   0,\n   0,\n   0,\n   0,\n   0,\n   0,\n   0,\n   0,\n   0,\n   0,\n   0,\n   0,\n   0,\n   0,\n   0,\n   0,\n   0,\n   0,\n   0,\n   0,\n   0,\n   0,\n   0,\n   0,\n   0,\n   0,\n   0,\n   0,\n   0,\n   0,\n   0,\n   0,\n   0,\n   0,\n   0,\n   0,\n   0,\n   0,\n   0,\n   0,\n   0,\n   0,\n   0,\n   0,\n   0,\n   0,\n   0,\n   0,\n   0,\n   0,\n   0,\n   0,\n   0,\n   0,\n   0,\n   0,\n   0,\n   0,\n   0,\n   0,\n   0,\n   0,\n   0,\n   0,\n   0,\n   0,\n   0,\n   0,\n   0,\n   0,\n   0,\n   0,\n   0,\n   0,\n   0,\n   0,\n   0,\n   0,\n   0,\n   0,\n   0,\n   0,\n   0,\n   0,\n   0,\n   0,\n   0,\n   0,\n   0,\n   0,\n   0,\n   0,\n   0,\n   0,\n   0,\n   0,\n   0,\n   0,\n   0,\n   0,\n   0,\n   0,\n   0,\n   0,\n   0,\n   0,\n   0,\n   0,\n   0,\n   0,\n   0,\n   0,\n   0,\n   0,\n   0,\n   0,\n   0,\n   0,\n   0,\n   0,\n   0,\n   0,\n   0,\n   0,\n   0,\n   0,\n   0,\n   0,\n   0,\n   0,\n   0,\n   0,\n   0,\n   0,\n   0,\n   0,\n   0,\n   0,\n   0,\n   0,\n   0,\n   0,\n   0,\n   0,\n   0,\n   0,\n   0,\n   0,\n   0,\n   0,\n   0,\n   0,\n   0,\n   0,\n   0,\n   0,\n   0,\n   0,\n   0,\n   0,\n   0,\n   0,\n   0,\n   0,\n   0,\n   0,\n   0,\n   0,\n   0,\n   0,\n   0,\n   0,\n   0,\n   0,\n   0,\n   0,\n   0,\n   0,\n   0,\n   0,\n   0,\n   0,\n   0,\n   0,\n   0,\n   0,\n   0,\n   0,\n   0,\n   0,\n   0,\n   0,\n   0,\n   0,\n   0,\n   0,\n   0,\n   0,\n   0,\n   0,\n   0,\n   0,\n   0,\n   0,\n   0,\n   0,\n   0,\n   0,\n   0,\n   0,\n   0,\n   0,\n   0,\n   0,\n   0,\n   0,\n   0,\n   0,\n   0,\n   0,\n   0,\n   0,\n   0,\n   0,\n   0,\n   0,\n   0,\n   0,\n   0,\n   0,\n   0,\n   0,\n   0,\n   0,\n   0,\n   0,\n   0,\n   0,\n   0,\n   0,\n   0,\n   0,\n   0,\n   0,\n   0,\n   0,\n   0,\n   0,\n   0,\n   0,\n   0,\n   0,\n   0,\n   0,\n   0,\n   0,\n   0,\n   0,\n   0,\n   0,\n   0,\n   0,\n   0,\n   0,\n   0,\n   0,\n   0,\n   0,\n   0,\n   0,\n   0,\n   0,\n   0,\n   0,\n   0,\n   0,\n   0,\n   0,\n   0,\n   0,\n   0,\n   0,\n   0,\n   0,\n   0,\n   0,\n   0,\n   0,\n   0,\n   0,\n   0,\n   0,\n   0,\n   0,\n   0,\n   0,\n   0,\n   0,\n   0,\n   0,\n   0,\n   0,\n   0,\n   0,\n   0,\n   0,\n   0,\n   0,\n   0,\n   0,\n   0,\n   0,\n   0,\n   0,\n   0,\n   0,\n   0,\n   0,\n   0,\n   0,\n   0,\n   0,\n   0,\n   0,\n   0,\n   0,\n   0,\n   0,\n   0,\n   0,\n   0,\n   0,\n   0,\n   0,\n   0,\n   0,\n   0,\n   0,\n   0,\n   0,\n   0,\n   0,\n   0,\n   0,\n   0,\n   0,\n   0,\n   0,\n   0,\n   0,\n   0,\n   0,\n   0,\n   0,\n   0,\n   0,\n   0,\n   0,\n   0,\n   0,\n   0,\n   0,\n   0,\n   0,\n   0,\n   0,\n   0,\n   0,\n   0,\n   0]],\n 'token_type_ids': [[0,\n   0,\n   0,\n   0,\n   0,\n   0,\n   0,\n   0,\n   0,\n   0,\n   0,\n   0,\n   0,\n   0,\n   0,\n   0,\n   0,\n   0,\n   0,\n   0,\n   0,\n   0,\n   0,\n   0,\n   0,\n   0,\n   0,\n   0,\n   0,\n   0,\n   0,\n   0,\n   0,\n   0,\n   0,\n   0,\n   0,\n   0,\n   0,\n   0,\n   0,\n   0,\n   0,\n   0,\n   0,\n   0,\n   0,\n   0,\n   0,\n   0,\n   0,\n   0,\n   0,\n   0,\n   0,\n   0,\n   0,\n   0,\n   0,\n   0,\n   0,\n   0,\n   0,\n   0,\n   0,\n   0,\n   0,\n   0,\n   0,\n   0,\n   0,\n   0,\n   0,\n   0,\n   0,\n   0,\n   0,\n   0,\n   0,\n   0,\n   0,\n   0,\n   0,\n   0,\n   0,\n   0,\n   0,\n   0,\n   0,\n   0,\n   0,\n   0,\n   0,\n   0,\n   0,\n   0,\n   0,\n   0,\n   0,\n   0,\n   0,\n   0,\n   0,\n   0,\n   0,\n   0,\n   0,\n   0,\n   0,\n   0,\n   0,\n   0,\n   0,\n   0,\n   0,\n   0,\n   0,\n   0,\n   0,\n   0,\n   0,\n   0,\n   0,\n   0,\n   0,\n   0,\n   0,\n   0,\n   0,\n   0,\n   0,\n   0,\n   0,\n   0,\n   0,\n   0,\n   0,\n   0,\n   0,\n   0,\n   0,\n   0,\n   0,\n   0,\n   0,\n   0,\n   0,\n   0,\n   0,\n   0,\n   0,\n   0,\n   0,\n   0,\n   0,\n   0,\n   0,\n   0,\n   0,\n   0,\n   0,\n   0,\n   0,\n   0,\n   0,\n   0,\n   0,\n   0,\n   0,\n   0,\n   0,\n   0,\n   0,\n   0,\n   0,\n   0,\n   0,\n   0,\n   0,\n   0,\n   0,\n   0,\n   0,\n   0,\n   0,\n   0,\n   0,\n   0,\n   0,\n   0,\n   0,\n   0,\n   0,\n   0,\n   0,\n   0,\n   0,\n   0,\n   0,\n   0,\n   0,\n   0,\n   0,\n   0,\n   0,\n   0,\n   0,\n   0,\n   0,\n   0,\n   0,\n   0,\n   0,\n   0,\n   0,\n   0,\n   0,\n   0,\n   0,\n   0,\n   0,\n   0,\n   0,\n   0,\n   0,\n   0,\n   0,\n   0,\n   0,\n   0,\n   0,\n   0,\n   0,\n   0,\n   0,\n   0,\n   0,\n   0,\n   0,\n   0,\n   0,\n   0,\n   0,\n   0,\n   0,\n   0,\n   0,\n   0,\n   0,\n   0,\n   0,\n   0,\n   0,\n   0,\n   0,\n   0,\n   0,\n   0,\n   0,\n   0,\n   0,\n   0,\n   0,\n   0,\n   0,\n   0,\n   0,\n   0,\n   0,\n   0,\n   0,\n   0,\n   0,\n   0,\n   0,\n   0,\n   0,\n   0,\n   0,\n   0,\n   0,\n   0,\n   0,\n   0,\n   0,\n   0,\n   0,\n   0,\n   0,\n   0,\n   0,\n   0,\n   0,\n   0,\n   0,\n   0,\n   0,\n   0,\n   0,\n   0,\n   0,\n   0,\n   0,\n   0,\n   0,\n   0,\n   0,\n   0,\n   0,\n   0,\n   0,\n   0,\n   0,\n   0,\n   0,\n   0,\n   0,\n   0,\n   0,\n   0,\n   0,\n   0,\n   0,\n   0,\n   0,\n   0,\n   0,\n   0,\n   0,\n   0,\n   0,\n   0,\n   0,\n   0,\n   0,\n   0,\n   0,\n   0,\n   0,\n   0,\n   0,\n   0,\n   0,\n   0,\n   0,\n   0,\n   0,\n   0,\n   0,\n   0,\n   0,\n   0,\n   0,\n   0,\n   0,\n   0,\n   0,\n   0,\n   0,\n   0,\n   0,\n   0,\n   0,\n   0,\n   0,\n   0,\n   0,\n   0,\n   0,\n   0,\n   0,\n   0,\n   0,\n   0,\n   0,\n   0,\n   0,\n   0,\n   0,\n   0,\n   0,\n   0,\n   0,\n   0,\n   0,\n   0,\n   0,\n   0,\n   0,\n   0,\n   0,\n   0,\n   0,\n   0,\n   0,\n   0,\n   0,\n   0,\n   0,\n   0,\n   0,\n   0,\n   0,\n   0,\n   0,\n   0,\n   0,\n   0,\n   0,\n   0,\n   0,\n   0,\n   0,\n   0,\n   0,\n   0,\n   0,\n   0,\n   0,\n   0,\n   0,\n   0,\n   0,\n   0,\n   0,\n   0,\n   0,\n   0,\n   0,\n   0,\n   0,\n   0,\n   0,\n   0,\n   0,\n   0,\n   0,\n   0,\n   0,\n   0,\n   0,\n   0,\n   0,\n   0,\n   0,\n   0,\n   0,\n   0,\n   0,\n   0,\n   0,\n   0,\n   0,\n   0,\n   0,\n   0,\n   0,\n   0,\n   0,\n   0,\n   0,\n   0,\n   0,\n   0,\n   0,\n   0,\n   0,\n   0,\n   0,\n   0,\n   0,\n   0,\n   0,\n   0,\n   0,\n   0,\n   0,\n   0,\n   0,\n   0,\n   0,\n   0,\n   0,\n   0,\n   0,\n   0,\n   0,\n   0,\n   0,\n   0,\n   0,\n   0,\n   0,\n   0,\n   0,\n   0,\n   0,\n   0,\n   0,\n   0,\n   0,\n   0,\n   0,\n   0,\n   0,\n   0,\n   0,\n   0,\n   0,\n   0,\n   0,\n   0]],\n 'attention_mask': [[1,\n   1,\n   1,\n   1,\n   1,\n   1,\n   1,\n   1,\n   0,\n   0,\n   0,\n   0,\n   0,\n   0,\n   0,\n   0,\n   0,\n   0,\n   0,\n   0,\n   0,\n   0,\n   0,\n   0,\n   0,\n   0,\n   0,\n   0,\n   0,\n   0,\n   0,\n   0,\n   0,\n   0,\n   0,\n   0,\n   0,\n   0,\n   0,\n   0,\n   0,\n   0,\n   0,\n   0,\n   0,\n   0,\n   0,\n   0,\n   0,\n   0,\n   0,\n   0,\n   0,\n   0,\n   0,\n   0,\n   0,\n   0,\n   0,\n   0,\n   0,\n   0,\n   0,\n   0,\n   0,\n   0,\n   0,\n   0,\n   0,\n   0,\n   0,\n   0,\n   0,\n   0,\n   0,\n   0,\n   0,\n   0,\n   0,\n   0,\n   0,\n   0,\n   0,\n   0,\n   0,\n   0,\n   0,\n   0,\n   0,\n   0,\n   0,\n   0,\n   0,\n   0,\n   0,\n   0,\n   0,\n   0,\n   0,\n   0,\n   0,\n   0,\n   0,\n   0,\n   0,\n   0,\n   0,\n   0,\n   0,\n   0,\n   0,\n   0,\n   0,\n   0,\n   0,\n   0,\n   0,\n   0,\n   0,\n   0,\n   0,\n   0,\n   0,\n   0,\n   0,\n   0,\n   0,\n   0,\n   0,\n   0,\n   0,\n   0,\n   0,\n   0,\n   0,\n   0,\n   0,\n   0,\n   0,\n   0,\n   0,\n   0,\n   0,\n   0,\n   0,\n   0,\n   0,\n   0,\n   0,\n   0,\n   0,\n   0,\n   0,\n   0,\n   0,\n   0,\n   0,\n   0,\n   0,\n   0,\n   0,\n   0,\n   0,\n   0,\n   0,\n   0,\n   0,\n   0,\n   0,\n   0,\n   0,\n   0,\n   0,\n   0,\n   0,\n   0,\n   0,\n   0,\n   0,\n   0,\n   0,\n   0,\n   0,\n   0,\n   0,\n   0,\n   0,\n   0,\n   0,\n   0,\n   0,\n   0,\n   0,\n   0,\n   0,\n   0,\n   0,\n   0,\n   0,\n   0,\n   0,\n   0,\n   0,\n   0,\n   0,\n   0,\n   0,\n   0,\n   0,\n   0,\n   0,\n   0,\n   0,\n   0,\n   0,\n   0,\n   0,\n   0,\n   0,\n   0,\n   0,\n   0,\n   0,\n   0,\n   0,\n   0,\n   0,\n   0,\n   0,\n   0,\n   0,\n   0,\n   0,\n   0,\n   0,\n   0,\n   0,\n   0,\n   0,\n   0,\n   0,\n   0,\n   0,\n   0,\n   0,\n   0,\n   0,\n   0,\n   0,\n   0,\n   0,\n   0,\n   0,\n   0,\n   0,\n   0,\n   0,\n   0,\n   0,\n   0,\n   0,\n   0,\n   0,\n   0,\n   0,\n   0,\n   0,\n   0,\n   0,\n   0,\n   0,\n   0,\n   0,\n   0,\n   0,\n   0,\n   0,\n   0,\n   0,\n   0,\n   0,\n   0,\n   0,\n   0,\n   0,\n   0,\n   0,\n   0,\n   0,\n   0,\n   0,\n   0,\n   0,\n   0,\n   0,\n   0,\n   0,\n   0,\n   0,\n   0,\n   0,\n   0,\n   0,\n   0,\n   0,\n   0,\n   0,\n   0,\n   0,\n   0,\n   0,\n   0,\n   0,\n   0,\n   0,\n   0,\n   0,\n   0,\n   0,\n   0,\n   0,\n   0,\n   0,\n   0,\n   0,\n   0,\n   0,\n   0,\n   0,\n   0,\n   0,\n   0,\n   0,\n   0,\n   0,\n   0,\n   0,\n   0,\n   0,\n   0,\n   0,\n   0,\n   0,\n   0,\n   0,\n   0,\n   0,\n   0,\n   0,\n   0,\n   0,\n   0,\n   0,\n   0,\n   0,\n   0,\n   0,\n   0,\n   0,\n   0,\n   0,\n   0,\n   0,\n   0,\n   0,\n   0,\n   0,\n   0,\n   0,\n   0,\n   0,\n   0,\n   0,\n   0,\n   0,\n   0,\n   0,\n   0,\n   0,\n   0,\n   0,\n   0,\n   0,\n   0,\n   0,\n   0,\n   0,\n   0,\n   0,\n   0,\n   0,\n   0,\n   0,\n   0,\n   0,\n   0,\n   0,\n   0,\n   0,\n   0,\n   0,\n   0,\n   0,\n   0,\n   0,\n   0,\n   0,\n   0,\n   0,\n   0,\n   0,\n   0,\n   0,\n   0,\n   0,\n   0,\n   0,\n   0,\n   0,\n   0,\n   0,\n   0,\n   0,\n   0,\n   0,\n   0,\n   0,\n   0,\n   0,\n   0,\n   0,\n   0,\n   0,\n   0,\n   0,\n   0,\n   0,\n   0,\n   0,\n   0,\n   0,\n   0,\n   0,\n   0,\n   0,\n   0,\n   0,\n   0,\n   0,\n   0,\n   0,\n   0,\n   0,\n   0,\n   0,\n   0,\n   0,\n   0,\n   0,\n   0,\n   0,\n   0,\n   0,\n   0,\n   0,\n   0,\n   0,\n   0,\n   0,\n   0,\n   0,\n   0,\n   0,\n   0,\n   0,\n   0,\n   0,\n   0,\n   0,\n   0,\n   0,\n   0,\n   0,\n   0,\n   0,\n   0,\n   0,\n   0,\n   0,\n   0,\n   0,\n   0,\n   0,\n   0,\n   0,\n   0,\n   0,\n   0,\n   0,\n   0,\n   0,\n   0,\n   0,\n   0,\n   0,\n   0,\n   0,\n   0,\n   0,\n   0,\n   0,\n   0]]}"
     },
     "execution_count": 14,
     "metadata": {},
     "output_type": "execute_result"
    }
   ],
   "source": [
    "wmt.wordmap2tokenizer([], pos_tag=\"V\", vocab=wmt.vocab, pt=wmt.bert_pretokenizer, tk=wmt.bert_tokenizer, tg=wmt.hantatagger)"
   ],
   "metadata": {
    "collapsed": false
   }
  },
  {
   "cell_type": "code",
   "execution_count": 22,
   "outputs": [],
   "source": [
    "def tokenize(data: list):\n",
    "    return wmt.wordmap2tokenizer(data, pos_tag=\"V\", vocab=wmt.vocab, pt=wmt.bert_pretokenizer, tk=wmt.bert_tokenizer, tg=wmt.hantatagger)"
   ],
   "metadata": {
    "collapsed": false
   }
  },
  {
   "cell_type": "code",
   "execution_count": 11,
   "outputs": [
    {
     "data": {
      "text/plain": "['weg', '##schm', '##eis', '##sen']"
     },
     "execution_count": 11,
     "metadata": {},
     "output_type": "execute_result"
    }
   ],
   "source": [
    "wmt.bert_tokenizer.tokenize()"
   ],
   "metadata": {
    "collapsed": false
   }
  },
  {
   "cell_type": "code",
   "execution_count": 55,
   "outputs": [],
   "source": [
    "tk = \"frisst\"\n",
    "subvocab = [i for i in lmfm.lmfm if i in tk]\n",
    "segmentations = []\n",
    "\n",
    "def segmenter(token, segments=None, start=0, stop=int):\n",
    "\n",
    "    if segments is None:\n",
    "        segments = []\n",
    "    if start == stop:\n",
    "        segmentations.append(segments)\n",
    "    else:\n",
    "        new_morpheme = [i for i in subvocab if token.startswith(i) and len(i)>1]\n",
    "        for m in new_morpheme:\n",
    "            rest = token[len(m):]\n",
    "            start += len(m)\n",
    "            segments.append(m)\n",
    "            if len(rest) == 1:\n",
    "                start = stop\n",
    "                segments.append(rest)\n",
    "                segmentations.append(segments)\n",
    "                segments = segments[:-2]\n",
    "                start -= (len(m) + 1)\n",
    "            else:\n",
    "                segmenter(token=rest, segments=segments.copy(), start=start, stop=stop)\n",
    "                segments = segments[:-1]\n",
    "                start -= len(m)"
   ],
   "metadata": {
    "collapsed": false
   }
  },
  {
   "cell_type": "code",
   "execution_count": 56,
   "outputs": [
    {
     "name": "stdout",
     "output_type": "stream",
     "text": [
      "Time:  5.7225995988119394e-05\n"
     ]
    }
   ],
   "source": [
    "import timeit\n",
    "begin = timeit.default_timer()\n",
    "\n",
    "segs =  segmenter(token=tk, stop=len(tk))\n",
    "\n",
    "end = timeit.default_timer()\n",
    "print('Time: ', end - begin)\n"
   ],
   "metadata": {
    "collapsed": false
   }
  },
  {
   "cell_type": "code",
   "execution_count": 61,
   "outputs": [],
   "source": [
    "import numpy as np"
   ],
   "metadata": {
    "collapsed": false
   }
  },
  {
   "cell_type": "code",
   "execution_count": 59,
   "outputs": [],
   "source": [
    "# maximize weighted segmentations\n",
    "\n",
    "def maximize_segments(segmentations):\n",
    "    ws = dict()\n",
    "    len_tk = len(\"\".join(segmentations[0]))\n",
    "    for s in segmentations:\n",
    "        # ws[sum([lmfm[w] for w in s])/len(s)] = rel freqs / token length\n",
    "        coverage = [len(i)/len_tk for i in s]  #  how much % of the word is covered by this morpheme\n",
    "        morpheme_length = [len(i) for i in s]  #  how long is each morpheme\n",
    "        rel_freq = [lmfm.lmfm[i] for i in s]  #  relative frequency of the morpheme in the vocab\n",
    "        n_o_segs = [len(s) for i in s]\n",
    "        #cover_rf = sum([i*j for i,j in zip(rel_freq, morpheme_length)])\n",
    "\n",
    "        #lex_bias = sum([cov*mlen for cov, mlen in zip(coverage, morpheme_length)])\n",
    "        lex_bias = sum([(np.tanh(mlen) / nsegs) for mlen, nsegs, freq in zip(morpheme_length, n_o_segs, rel_freq)])\n",
    "\n",
    "        ws[lex_bias] = s\n",
    "\n",
    "    wsk = list(ws.keys())\n",
    "    wsm = np.median(wsk)\n",
    "    return ws[min([i-wsm for i in wsk], key=abs)+wsm]\n",
    "    #return ws[max(ws.keys())]"
   ],
   "metadata": {
    "collapsed": false
   }
  },
  {
   "cell_type": "code",
   "execution_count": 62,
   "outputs": [],
   "source": [
    "wsd = maximize_segments(segmentations)"
   ],
   "metadata": {
    "collapsed": false
   }
  },
  {
   "cell_type": "code",
   "execution_count": 63,
   "outputs": [
    {
     "data": {
      "text/plain": "[['fris', 'st'], ['fri', 'ss', 't']]"
     },
     "execution_count": 63,
     "metadata": {},
     "output_type": "execute_result"
    }
   ],
   "source": [
    "segmentations"
   ],
   "metadata": {
    "collapsed": false
   }
  },
  {
   "cell_type": "code",
   "execution_count": 336,
   "outputs": [
    {
     "data": {
      "text/plain": "43557"
     },
     "execution_count": 336,
     "metadata": {},
     "output_type": "execute_result"
    }
   ],
   "source": [],
   "metadata": {
    "collapsed": false
   }
  },
  {
   "cell_type": "markdown",
   "source": [
    "VOCABULARY; SPLIT WITH NP.PTP AND WEIGH UP LEXEMES"
   ],
   "metadata": {
    "collapsed": false
   }
  },
  {
   "cell_type": "code",
   "execution_count": 2,
   "outputs": [],
   "source": [
    "from scipy import stats as stats\n",
    "from matplotlib import pyplot as pp\n",
    "import numpy as np\n",
    "import text_utilities as tu"
   ],
   "metadata": {
    "collapsed": false
   }
  },
  {
   "cell_type": "code",
   "execution_count": 27,
   "outputs": [],
   "source": [
    "lmfm = tu.VerbDict().lmfm\n",
    "rfs = [lmfm[i] for i in lmfm.keys() if lmfm[i] != 0]\n",
    "unis = list(set(rfs))\n",
    "unis.sort(reverse=True)\n",
    "\n",
    "zs = stats.zscore(unis)\n",
    "\n",
    "scale = unis\n",
    "umean = np.mean(scale)\n",
    "umed = np.median(scale)\n",
    "kurt = stats.kurtosis(scale)"
   ],
   "metadata": {
    "collapsed": false
   }
  },
  {
   "cell_type": "code",
   "execution_count": 28,
   "outputs": [
    {
     "data": {
      "text/plain": "[0.06538234898843184,\n 0.06295293132501473,\n 0.017372920780308276,\n 0.010766972325314532,\n 0.009888246787482813,\n 0.008135964685571326,\n 0.007432984255305952,\n 0.00658527255998594,\n 0.004962214801873236,\n 0.004026630552770053,\n 0.003788857760180294,\n 0.0035510849675905345,\n 0.003339157043760532,\n 0.0032616224374812626,\n 0.0029411460648602825,\n 0.0024552625321768618,\n 0.002191644870827346,\n 0.002098603343292223,\n 0.0018298167081907558,\n 0.001778126970671243,\n 0.0016075508368568504,\n 0.001436974703042458,\n 0.001385284965522945,\n 0.0013491021492592862,\n 0.0012612295954761142,\n 0.0010131188553824523,\n 0.0009821050128707447,\n 0.0009665980916148907,\n 0.0007598391415368393,\n 0.0006564596664978135,\n 0.0006202768502341545,\n 0.0006151078764822033,\n 0.0005789250602185442,\n 0.0005220663489470801,\n 0.00047037661142756716,\n 0.0004393627689158594,\n 0.00040834892640415174,\n 0.00036182816263659014,\n 0.00032047637262097985,\n 0.0002894625301092721,\n 0.0002842935563573208,\n 0.00027912458260536955,\n 0.0002636176613495157,\n 0.00023777279258975923,\n 0.00021192792383000278,\n 0.00018091408131829507,\n 0.00017057613381439248,\n 0.00016023818631048992,\n 0.0001292243437987822,\n 0.00011888639629487962,\n 0.00011371742254292832,\n 0.00010337947503902575,\n 9.304152753512318e-05,\n 8.78725537831719e-05,\n 8.27035800312206e-05,\n 7.753460627926931e-05,\n 7.236563252731803e-05,\n 6.719665877536673e-05,\n 6.202768502341545e-05,\n 5.685871127146416e-05,\n 5.1689737519512874e-05,\n 4.652076376756159e-05,\n 4.13517900156103e-05,\n 3.6182816263659014e-05,\n 3.101384251170773e-05,\n 2.5844868759756437e-05,\n 2.067589500780515e-05,\n 1.5506921255853864e-05,\n 1.0337947503902575e-05,\n 5.168973751951288e-06]"
     },
     "execution_count": 28,
     "metadata": {},
     "output_type": "execute_result"
    }
   ],
   "source": [
    "unis"
   ],
   "metadata": {
    "collapsed": false
   }
  },
  {
   "cell_type": "code",
   "execution_count": 42,
   "outputs": [
    {
     "data": {
      "text/plain": "<Figure size 640x480 with 1 Axes>",
      "image/png": "[encoded data removed]"
     },
     "metadata": {},
     "output_type": "display_data"
    }
   ],
   "source": [
    "qq = np.quantile(scale, q=[0.05, 0.7])\n",
    "pp.plot(scale)\n",
    "\n",
    "ax = pp.gca()\n",
    "\n",
    "max_value = max(unis)\n",
    "min_value = min(unis)\n",
    "number_of_steps = 1\n",
    "l = np.arange(min_value, max_value+1, number_of_steps)\n",
    "# ax.set(xticks=[0 for x in l], xticklabels=l)\n",
    "\n",
    "# pp.plot([qq[0] for i in scale])\n",
    "# pp.plot([qq[1] for i in scale])\n",
    "pp.xlabel('Morpheme types (index)')\n",
    "pp.ylabel('Rel. frequency (%)')\n",
    "pp.grid(color='gray', linestyle=':', linewidth=1)\n",
    "#pp.xticks(np.arange(stop=len(scale),step=1), labels=scale)"
   ],
   "metadata": {
    "collapsed": false
   }
  },
  {
   "cell_type": "code",
   "execution_count": null,
   "outputs": [],
   "source": [
    "lexemes = {k:lmfm[k] for k in lmfm if qq[0]<lmfm[k]<qq[1]}\n",
    "lexemes"
   ],
   "metadata": {
    "collapsed": false,
    "pycharm": {
     "is_executing": true
    }
   }
  },
  {
   "cell_type": "code",
   "execution_count": null,
   "outputs": [],
   "source": [
    "for i in lexemes:\n",
    "    if len(i) > 7:\n",
    "        print(i)"
   ],
   "metadata": {
    "collapsed": false,
    "pycharm": {
     "is_executing": true
    }
   }
  },
  {
   "cell_type": "markdown",
   "source": [
    "TRY BERT TOKENIZATION"
   ],
   "metadata": {
    "collapsed": false
   }
  },
  {
   "cell_type": "markdown",
   "source": [
    "1) format own vocab and add to pretrained tokenize via tokenizer.add_tokens\n",
    "später: separat ein vocab als weighted dict in dem lexeme (zipf graph slicen, siehe oben) high weight sind, morpheme in fun aus lex vocab rausnehmen\n",
    "2) über satz gehen und verben finden: verben mit eigenem tokenizer (wenn stem in token, aber: vocab muss überreinstimmen) segmentieren: satz ohne verben an großen pre_trained weitergeben: verben wieder einfügen\n",
    "3) encoded"
   ],
   "metadata": {
    "collapsed": false
   }
  },
  {
   "cell_type": "code",
   "execution_count": 4,
   "outputs": [],
   "source": [
    "\n",
    "from transformers import BertTokenizer\n",
    "tokenizer = BertTokenizer.from_pretrained(\"bert-base-german-cased\")\n",
    "# tokenizer.add_tokens(HIER BEIDE SLICES: set(lex+fun))"
   ],
   "metadata": {
    "collapsed": false
   }
  },
  {
   "cell_type": "code",
   "execution_count": 191,
   "outputs": [
    {
     "name": "stdout",
     "output_type": "stream",
     "text": [
      "[3, 1671, 5513, 6812, 11866, 246, 4547, 4893, 26908, 3758, 5523, 26901, 4]\n",
      "['[CLS]', 'Ich', 'möchte', 'gerne', 'verbessern', 'wie', 'du', 'se', '##g', '##ment', '##iers', '##t', '[SEP]']\n"
     ]
    }
   ],
   "source": [
    "sample = 'Ich möchte gerne verbessern wie du segmentierst '\n",
    "encoding = tokenizer.encode(sample)\n",
    "print(encoding)\n",
    "print(tokenizer.convert_ids_to_tokens(encoding))"
   ],
   "metadata": {
    "collapsed": false
   }
  },
  {
   "cell_type": "markdown",
   "source": [
    "SPLIT SENTENCE TO TOKENIZE INTO LEX TOKENS (-> to own tokenizer) AND REST SENTENCE (-> pass on to pretrained)"
   ],
   "metadata": {
    "collapsed": false
   }
  },
  {
   "cell_type": "code",
   "execution_count": 29,
   "outputs": [
    {
     "name": "stdout",
     "output_type": "stream",
     "text": [
      "The autoreload extension is already loaded. To reload it, use:\n",
      "  %reload_ext autoreload\n"
     ]
    }
   ],
   "source": [
    "\n",
    "from HanTa import HanoverTagger as ht\n",
    "import regex as re\n",
    "from wm_tokenizer import SequenceTokenizer\n",
    "from transformers import BertTokenizer\n",
    "tokenizer = BertTokenizer.from_pretrained(\"bert-base-german-cased\")\n",
    "tagger = ht.HanoverTagger('morphmodel_ger.pgz')\n",
    "%load_ext autoreload\n",
    "%autoreload 2"
   ],
   "metadata": {
    "collapsed": false
   }
  },
  {
   "cell_type": "code",
   "execution_count": 70,
   "outputs": [],
   "source": [
    "sentence = 'Der wissende Programmierer möchte gerne essen was in der Truhe versteckt wurde'"
   ],
   "metadata": {
    "collapsed": false
   }
  },
  {
   "cell_type": "code",
   "execution_count": 192,
   "outputs": [
    {
     "ename": "TypeError",
     "evalue": "sequence item 0: expected str instance, tuple found",
     "output_type": "error",
     "traceback": [
      "\u001B[0;31m---------------------------------------------------------------------------\u001B[0m",
      "\u001B[0;31mTypeError\u001B[0m                                 Traceback (most recent call last)",
      "\u001B[0;32m/tmp/ipykernel_139427/244214479.py\u001B[0m in \u001B[0;36m<module>\u001B[0;34m\u001B[0m\n\u001B[1;32m      1\u001B[0m \u001B[0mverbs\u001B[0m \u001B[0;34m=\u001B[0m \u001B[0;34m[\u001B[0m\u001B[0;34m(\u001B[0m\u001B[0;36m1\u001B[0m\u001B[0;34m,\u001B[0m \u001B[0mi\u001B[0m\u001B[0;34m[\u001B[0m\u001B[0;36m0\u001B[0m\u001B[0;34m]\u001B[0m\u001B[0;34m)\u001B[0m \u001B[0;32mfor\u001B[0m \u001B[0mi\u001B[0m \u001B[0;32min\u001B[0m \u001B[0mtagger\u001B[0m\u001B[0;34m.\u001B[0m\u001B[0mtag_sent\u001B[0m\u001B[0;34m(\u001B[0m\u001B[0msentence\u001B[0m\u001B[0;34m.\u001B[0m\u001B[0msplit\u001B[0m\u001B[0;34m(\u001B[0m\u001B[0;34m\" \"\u001B[0m\u001B[0;34m)\u001B[0m\u001B[0;34m)\u001B[0m \u001B[0;32mif\u001B[0m \u001B[0mi\u001B[0m\u001B[0;34m[\u001B[0m\u001B[0;36m2\u001B[0m\u001B[0;34m]\u001B[0m\u001B[0;34m.\u001B[0m\u001B[0mstartswith\u001B[0m\u001B[0;34m(\u001B[0m\u001B[0;34m\"V\"\u001B[0m\u001B[0;34m)\u001B[0m\u001B[0;34m]\u001B[0m\u001B[0;34m\u001B[0m\u001B[0;34m\u001B[0m\u001B[0m\n\u001B[0;32m----> 2\u001B[0;31m \u001B[0mdivisions\u001B[0m \u001B[0;34m=\u001B[0m \u001B[0mre\u001B[0m\u001B[0;34m.\u001B[0m\u001B[0msplit\u001B[0m\u001B[0;34m(\u001B[0m\u001B[0;34m\"(\"\u001B[0m\u001B[0;34m+\u001B[0m\u001B[0;34m\"|\"\u001B[0m\u001B[0;34m.\u001B[0m\u001B[0mjoin\u001B[0m\u001B[0;34m(\u001B[0m\u001B[0mverbs\u001B[0m\u001B[0;34m)\u001B[0m\u001B[0;34m+\u001B[0m\u001B[0;34m\")\"\u001B[0m\u001B[0;34m,\u001B[0m \u001B[0msentence\u001B[0m\u001B[0;34m)\u001B[0m\u001B[0;34m\u001B[0m\u001B[0;34m\u001B[0m\u001B[0m\n\u001B[0m",
      "\u001B[0;31mTypeError\u001B[0m: sequence item 0: expected str instance, tuple found"
     ]
    }
   ],
   "source": [
    "\n",
    "verbs = [(1, i[0]) for i in tagger.tag_sent(sentence.split(\" \")) if i[2].startswith(\"V\")]\n",
    "\n",
    "divisions = re.split(\"(\"+\"|\".join(verbs)+\")\", sentence)"
   ],
   "metadata": {
    "collapsed": false
   }
  },
  {
   "cell_type": "code",
   "execution_count": 113,
   "outputs": [
    {
     "name": "stdout",
     "output_type": "stream",
     "text": [
      "['Der', 'wissen', '##de', 'Programm', '##ierer', 'möch', '##te', 'gerne', 'ess', '##en', 'was', 'in', 'der', 'Tru', '##he', 've', '##rst', '##eck', '##t', 'wur', '##de']\n",
      "[3, 233, 5029, 57, 3966, 9175, 30000, 26, 6812, 30001, 7, 961, 50, 21, 12508, 208, 25468, 30002, 5915, 26901, 159, 57, 4]\n",
      "['[CLS]', 'Der', 'wissen', '##de', 'Programm', '##ierer', 'möch', '##te', 'gerne', 'ess', '##en', 'was', 'in', 'der', 'Tru', '##he', 've', '##rst', '##eck', '##t', 'wur', '##de', '[SEP]']\n"
     ]
    }
   ],
   "source": [
    "pos_tag = \"V\"\n",
    "encoding = []\n",
    "\n",
    "for i in sentence.split(\" \"):\n",
    "    if tagger.analyze(i)[1].startswith(pos_tag):\n",
    "        wmt = SequenceTokenizer(vocab=lmfm, target=i) # wordmap tokenizer here\n",
    "        tokenizer_format = [wmt.maxed[0]]+[\"##\" + i for i in wmt.maxed[1:]]\n",
    "        tokenizer.add_tokens(tokenizer_format)\n",
    "        encoding.extend(tokenizer_format)\n",
    "    else:\n",
    "        encoding.extend(tokenizer.tokenize(i))\n",
    "print(encoding)\n",
    "tks = tokenizer.encode(encoding)\n",
    "ids = tokenizer.convert_ids_to_tokens(tks)\n",
    "print(tks)\n",
    "print(ids)"
   ],
   "metadata": {
    "collapsed": false
   }
  },
  {
   "cell_type": "code",
   "execution_count": 115,
   "outputs": [],
   "source": [
    "a = [wmt.maxed[0]].extend([\"##\" + i for i in wmt.maxed[1:]])"
   ],
   "metadata": {
    "collapsed": false
   }
  },
  {
   "cell_type": "code",
   "execution_count": 236,
   "outputs": [
    {
     "data": {
      "text/plain": "[['be', 'zahl', 'en'],\n ['bezah', 'le', 'n'],\n ['bezah', 'len'],\n ['bezahl', 'en']]"
     },
     "execution_count": 236,
     "metadata": {},
     "output_type": "execute_result"
    }
   ],
   "source": [
    "t = SequenceTokenizer(vocab=lmfm, target=\"bezahlen\")\n",
    "t.segmentations"
   ],
   "metadata": {
    "collapsed": false
   }
  },
  {
   "cell_type": "markdown",
   "source": [
    "TEST THE WHOLE TOKENIZATION PIPELINE"
   ],
   "metadata": {
    "collapsed": false
   }
  },
  {
   "cell_type": "code",
   "execution_count": 9,
   "outputs": [],
   "source": [
    "import wm_tokenizer\n",
    "import text_utilities\n",
    "from HanTa import HanoverTagger as ht\n",
    "from transformers import BertTokenizer\n",
    "from tokenizers import pre_tokenizers\n",
    "\n",
    "\n",
    "tu = text_utilities.VerbDict(\"../new_tokenizer/fun_vocab_raw.txt\", \"../new_tokenizer/lex_vocab_raw.txt\")\n",
    "\n",
    "wmt = wm_tokenizer.WordmapTokenizer(\n",
    "    bert_pretokenizer=pre_tokenizers.BertPreTokenizer(),\n",
    "    bert_tokenizer=BertTokenizer.from_pretrained(\"bert-base-german-cased\"),\n",
    "    hantatagger=ht.HanoverTagger('morphmodel_ger.pgz'),\n",
    "    vocab=tu.lmfm)\n",
    "\n",
    "tokenizer = BertTokenizer.from_pretrained(\"bert-base-german-cased\")"
   ],
   "metadata": {
    "collapsed": false
   }
  },
  {
   "cell_type": "markdown",
   "source": [
    "GENERATE TOKEN_TYPE_IDS + ATTENTION_MASK + OVERFLOWING TOKEN"
   ],
   "metadata": {
    "collapsed": false
   }
  },
  {
   "cell_type": "code",
   "execution_count": 41,
   "outputs": [],
   "source": [
    "sentence_tokens = ['Der', 'wissen', '##de', 'Programm', '##ierer', 'möch', '##te', 'gerne', 'ess', '##en', 'was', 'in', 'der', 'Tru', '##he', 've', '##rst', '##eck', '##t', 'wur', '##de']\n",
    "sentence_tokenids = [3, 233, 5029, 57, 3966, 9175, 30000, 26, 6812, 30001, 7, 961, 50, 21, 12508, 208, 25468, 30002, 5915, 26901, 159, 57, 4]\n",
    "sentence_tokens2 = \" test ein test ein test ein test ein test ein test ein test ein test ein test ein test ein test ein test ein test ein test ein test ein test ein test ein test ein test ein test ein test ein test ein test ein test ein test ein test ein test ein test ein test ein test ein test ein test ein test ein test ein test ein test ein test ein test ein test ein test ein test ein test ein test ein test ein test ein test ein test ein test ein \".join(sentence_tokens)\n",
    "\n",
    "test = tokenizer.encode_plus(sentence_tokens2, return_token_type_ids=True, return_attention_mask=True, return_overflowing_tokens=True, max_length=510)"
   ],
   "metadata": {
    "collapsed": false
   }
  },
  {
   "cell_type": "code",
   "execution_count": 43,
   "outputs": [
    {
     "data": {
      "text/plain": "510"
     },
     "execution_count": 43,
     "metadata": {},
     "output_type": "execute_result"
    }
   ],
   "source": [],
   "metadata": {
    "collapsed": false
   }
  },
  {
   "cell_type": "markdown",
   "source": [
    "GET PRETOKENIZED SENTENCE FROM BERT PRETOKENIZER"
   ],
   "metadata": {
    "collapsed": false
   }
  },
  {
   "cell_type": "code",
   "execution_count": null,
   "outputs": [],
   "source": [
    "from tokenizers import pre_tokenizers\n",
    "pret = pre_tokenizers.BertPreTokenizer()\n",
    "sent =  \"Das ist der Testsatz, der alles; ja ALLES enthalten könnte?! ™⅜\"\n",
    "pretokenized = [i[0] for i in pret.pre_tokenize_str(sent)]"
   ],
   "metadata": {
    "collapsed": false,
    "pycharm": {
     "is_executing": true
    }
   }
  },
  {
   "cell_type": "code",
   "execution_count": 69,
   "outputs": [
    {
     "data": {
      "text/plain": "43700"
     },
     "execution_count": 69,
     "metadata": {},
     "output_type": "execute_result"
    }
   ],
   "source": [
    "len(lmfm.lmfm)"
   ],
   "metadata": {
    "collapsed": false
   }
  },
  {
   "cell_type": "code",
   "execution_count": null,
   "outputs": [],
   "source": [],
   "metadata": {
    "collapsed": false
   }
  }
 ],
 "metadata": {
  "kernelspec": {
   "display_name": "Python 3",
   "language": "python",
   "name": "python3"
  },
  "language_info": {
   "codemirror_mode": {
    "name": "ipython",
    "version": 2
   },
   "file_extension": ".py",
   "mimetype": "text/x-python",
   "name": "python",
   "nbconvert_exporter": "python",
   "pygments_lexer": "ipython2",
   "version": "2.7.6"
  }
 },
 "nbformat": 4,
 "nbformat_minor": 0
}
